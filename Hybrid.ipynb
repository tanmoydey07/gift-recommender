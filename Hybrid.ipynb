{
  "cells": [
    {
      "cell_type": "markdown",
      "source": "# Hybrid Recommendation using LightFM",
      "metadata": {
        "id": "5e3be019",
        "cell_id": "42782f48ee114014845a9b49c9cf0aaa",
        "deepnote_cell_type": "markdown"
      },
      "block_group": "77b1677ec7f1490fa4bd57f09ce2dbd1"
    },
    {
      "cell_type": "markdown",
      "source": "#### Hybrid Recommender System\nIt combines collaborative and content-based filtering together to help in overcoming the shortcoming we were facing at using them separately and also can be more effective in some cases. Hybrid recommender system approaches can be implemented in various ways like by using content and collaborative-based methods to generate predictions separately and then combining the prediction or we can just add the capabilities of collaborative-based methods to a content-based approach (vice versa).\n\nThere are several studies that compare the performance of the conventional approaches with the hybrid methods and say that by using the hybrid methods we can generate more accurate recommendations.",
      "metadata": {
        "cell_id": "d9fb9e9e72dc4797a358a388e93a33f1",
        "deepnote_cell_type": "markdown"
      },
      "block_group": "d9fb9e9e72dc4797a358a388e93a33f1"
    },
    {
      "cell_type": "markdown",
      "source": "### Implementation",
      "metadata": {
        "id": "c6041e80",
        "cell_id": "458019ba434c4ba0b8074162c0cf977b",
        "deepnote_cell_type": "markdown"
      },
      "block_group": "54ece484097e44e2bd202549293f7ce6"
    },
    {
      "cell_type": "markdown",
      "source": "#### Importing the required libraries",
      "metadata": {
        "id": "fc239912",
        "cell_id": "b0e1ef64f8ab4b6191220d2072f768ec",
        "deepnote_cell_type": "markdown"
      },
      "block_group": "3f2e618413a84141b7fdbe12094e78be"
    },
    {
      "cell_type": "code",
      "source": "import pandas as pd # pandas for data manipulation\nimport numpy as np # numpy for sure\nfrom scipy.sparse import coo_matrix # for constructing sparse matrix\n# lightfm \nfrom lightfm import LightFM # model\nfrom lightfm.evaluation import auc_score\n\n# timing\nimport time",
      "metadata": {
        "id": "4132e2a8",
        "source_hash": null,
        "execution_start": 1694066412812,
        "execution_millis": 732,
        "deepnote_to_be_reexecuted": false,
        "cell_id": "3657ebe24aa74d71ac32488c987b6862",
        "deepnote_cell_type": "code"
      },
      "outputs": [
        {
          "name": "stderr",
          "text": "/root/venv/lib/python3.9/site-packages/scipy/__init__.py:138: UserWarning: A NumPy version >=1.16.5 and <1.23.0 is required for this version of SciPy (detected version 1.23.4)\n  warnings.warn(f\"A NumPy version >={np_minversion} and <{np_maxversion} is required for this version of \"\n",
          "output_type": "stream"
        }
      ],
      "execution_count": null,
      "block_group": "a2a56c96b3d54146886890162040bc2a"
    },
    {
      "cell_type": "markdown",
      "source": "#### Importing the data from excel",
      "metadata": {
        "id": "ff34f6e9",
        "cell_id": "43988ef3eb0449c9b6c8cbdb90a8364b",
        "deepnote_cell_type": "markdown"
      },
      "block_group": "2acf395fd08d4fb8891e484571144674"
    },
    {
      "cell_type": "code",
      "source": "# import the data\norder=pd.read_excel('/work/gift-store-data.xlsx','order')\ncustomer=pd.read_excel('/work/gift-store-data.xlsx','customer')\nproduct=pd.read_excel('/work/gift-store-data.xlsx','product')",
      "metadata": {
        "id": "68d5dab7",
        "source_hash": null,
        "execution_start": 1694066413580,
        "execution_millis": 125645,
        "deepnote_to_be_reexecuted": false,
        "cell_id": "0be2a114b3ec420aae30528a324e93ed",
        "deepnote_cell_type": "code"
      },
      "outputs": [
        {
          "output_type": "error",
          "ename": "ImportError",
          "evalue": "Missing optional dependency 'openpyxl'.  Use pip or conda to install openpyxl.",
          "traceback": [
            "\u001b[0;31m---------------------------------------------------------------------------\u001b[0m",
            "\u001b[0;31mImportError\u001b[0m                               Traceback (most recent call last)",
            "Cell \u001b[0;32mIn [2], line 2\u001b[0m\n\u001b[1;32m      1\u001b[0m \u001b[38;5;66;03m# import the data\u001b[39;00m\n\u001b[0;32m----> 2\u001b[0m order\u001b[38;5;241m=\u001b[39m\u001b[43mpd\u001b[49m\u001b[38;5;241;43m.\u001b[39;49m\u001b[43mread_excel\u001b[49m\u001b[43m(\u001b[49m\u001b[38;5;124;43m'\u001b[39;49m\u001b[38;5;124;43m/work/gift-store-data.xlsx\u001b[39;49m\u001b[38;5;124;43m'\u001b[39;49m\u001b[43m,\u001b[49m\u001b[38;5;124;43m'\u001b[39;49m\u001b[38;5;124;43morder\u001b[39;49m\u001b[38;5;124;43m'\u001b[39;49m\u001b[43m)\u001b[49m\n\u001b[1;32m      3\u001b[0m customer\u001b[38;5;241m=\u001b[39mpd\u001b[38;5;241m.\u001b[39mread_excel(\u001b[38;5;124m'\u001b[39m\u001b[38;5;124m/work/gift-store-data.xlsx\u001b[39m\u001b[38;5;124m'\u001b[39m,\u001b[38;5;124m'\u001b[39m\u001b[38;5;124mcustomer\u001b[39m\u001b[38;5;124m'\u001b[39m)\n\u001b[1;32m      4\u001b[0m product\u001b[38;5;241m=\u001b[39mpd\u001b[38;5;241m.\u001b[39mread_excel(\u001b[38;5;124m'\u001b[39m\u001b[38;5;124m/work/gift-store-data.xlsx\u001b[39m\u001b[38;5;124m'\u001b[39m,\u001b[38;5;124m'\u001b[39m\u001b[38;5;124mproduct\u001b[39m\u001b[38;5;124m'\u001b[39m)\n",
            "File \u001b[0;32m~/venv/lib/python3.9/site-packages/pandas/util/_decorators.py:311\u001b[0m, in \u001b[0;36mdeprecate_nonkeyword_arguments.<locals>.decorate.<locals>.wrapper\u001b[0;34m(*args, **kwargs)\u001b[0m\n\u001b[1;32m    305\u001b[0m \u001b[38;5;28;01mif\u001b[39;00m \u001b[38;5;28mlen\u001b[39m(args) \u001b[38;5;241m>\u001b[39m num_allow_args:\n\u001b[1;32m    306\u001b[0m     warnings\u001b[38;5;241m.\u001b[39mwarn(\n\u001b[1;32m    307\u001b[0m         msg\u001b[38;5;241m.\u001b[39mformat(arguments\u001b[38;5;241m=\u001b[39marguments),\n\u001b[1;32m    308\u001b[0m         \u001b[38;5;167;01mFutureWarning\u001b[39;00m,\n\u001b[1;32m    309\u001b[0m         stacklevel\u001b[38;5;241m=\u001b[39mstacklevel,\n\u001b[1;32m    310\u001b[0m     )\n\u001b[0;32m--> 311\u001b[0m \u001b[38;5;28;01mreturn\u001b[39;00m \u001b[43mfunc\u001b[49m\u001b[43m(\u001b[49m\u001b[38;5;241;43m*\u001b[39;49m\u001b[43margs\u001b[49m\u001b[43m,\u001b[49m\u001b[43m \u001b[49m\u001b[38;5;241;43m*\u001b[39;49m\u001b[38;5;241;43m*\u001b[39;49m\u001b[43mkwargs\u001b[49m\u001b[43m)\u001b[49m\n",
            "File \u001b[0;32m~/venv/lib/python3.9/site-packages/pandas/io/excel/_base.py:364\u001b[0m, in \u001b[0;36mread_excel\u001b[0;34m(io, sheet_name, header, names, index_col, usecols, squeeze, dtype, engine, converters, true_values, false_values, skiprows, nrows, na_values, keep_default_na, na_filter, verbose, parse_dates, date_parser, thousands, comment, skipfooter, convert_float, mangle_dupe_cols, storage_options)\u001b[0m\n\u001b[1;32m    362\u001b[0m \u001b[38;5;28;01mif\u001b[39;00m \u001b[38;5;129;01mnot\u001b[39;00m \u001b[38;5;28misinstance\u001b[39m(io, ExcelFile):\n\u001b[1;32m    363\u001b[0m     should_close \u001b[38;5;241m=\u001b[39m \u001b[38;5;28;01mTrue\u001b[39;00m\n\u001b[0;32m--> 364\u001b[0m     io \u001b[38;5;241m=\u001b[39m \u001b[43mExcelFile\u001b[49m\u001b[43m(\u001b[49m\u001b[43mio\u001b[49m\u001b[43m,\u001b[49m\u001b[43m \u001b[49m\u001b[43mstorage_options\u001b[49m\u001b[38;5;241;43m=\u001b[39;49m\u001b[43mstorage_options\u001b[49m\u001b[43m,\u001b[49m\u001b[43m \u001b[49m\u001b[43mengine\u001b[49m\u001b[38;5;241;43m=\u001b[39;49m\u001b[43mengine\u001b[49m\u001b[43m)\u001b[49m\n\u001b[1;32m    365\u001b[0m \u001b[38;5;28;01melif\u001b[39;00m engine \u001b[38;5;129;01mand\u001b[39;00m engine \u001b[38;5;241m!=\u001b[39m io\u001b[38;5;241m.\u001b[39mengine:\n\u001b[1;32m    366\u001b[0m     \u001b[38;5;28;01mraise\u001b[39;00m \u001b[38;5;167;01mValueError\u001b[39;00m(\n\u001b[1;32m    367\u001b[0m         \u001b[38;5;124m\"\u001b[39m\u001b[38;5;124mEngine should not be specified when passing \u001b[39m\u001b[38;5;124m\"\u001b[39m\n\u001b[1;32m    368\u001b[0m         \u001b[38;5;124m\"\u001b[39m\u001b[38;5;124man ExcelFile - ExcelFile already has the engine set\u001b[39m\u001b[38;5;124m\"\u001b[39m\n\u001b[1;32m    369\u001b[0m     )\n",
            "File \u001b[0;32m~/venv/lib/python3.9/site-packages/pandas/io/excel/_base.py:1233\u001b[0m, in \u001b[0;36mExcelFile.__init__\u001b[0;34m(self, path_or_buffer, engine, storage_options)\u001b[0m\n\u001b[1;32m   1230\u001b[0m \u001b[38;5;28mself\u001b[39m\u001b[38;5;241m.\u001b[39mengine \u001b[38;5;241m=\u001b[39m engine\n\u001b[1;32m   1231\u001b[0m \u001b[38;5;28mself\u001b[39m\u001b[38;5;241m.\u001b[39mstorage_options \u001b[38;5;241m=\u001b[39m storage_options\n\u001b[0;32m-> 1233\u001b[0m \u001b[38;5;28mself\u001b[39m\u001b[38;5;241m.\u001b[39m_reader \u001b[38;5;241m=\u001b[39m \u001b[38;5;28;43mself\u001b[39;49m\u001b[38;5;241;43m.\u001b[39;49m\u001b[43m_engines\u001b[49m\u001b[43m[\u001b[49m\u001b[43mengine\u001b[49m\u001b[43m]\u001b[49m\u001b[43m(\u001b[49m\u001b[38;5;28;43mself\u001b[39;49m\u001b[38;5;241;43m.\u001b[39;49m\u001b[43m_io\u001b[49m\u001b[43m,\u001b[49m\u001b[43m \u001b[49m\u001b[43mstorage_options\u001b[49m\u001b[38;5;241;43m=\u001b[39;49m\u001b[43mstorage_options\u001b[49m\u001b[43m)\u001b[49m\n",
            "File \u001b[0;32m~/venv/lib/python3.9/site-packages/pandas/io/excel/_openpyxl.py:521\u001b[0m, in \u001b[0;36mOpenpyxlReader.__init__\u001b[0;34m(self, filepath_or_buffer, storage_options)\u001b[0m\n\u001b[1;32m    506\u001b[0m \u001b[38;5;28;01mdef\u001b[39;00m \u001b[38;5;21m__init__\u001b[39m(\n\u001b[1;32m    507\u001b[0m     \u001b[38;5;28mself\u001b[39m,\n\u001b[1;32m    508\u001b[0m     filepath_or_buffer: FilePathOrBuffer,\n\u001b[1;32m    509\u001b[0m     storage_options: StorageOptions \u001b[38;5;241m=\u001b[39m \u001b[38;5;28;01mNone\u001b[39;00m,\n\u001b[1;32m    510\u001b[0m ) \u001b[38;5;241m-\u001b[39m\u001b[38;5;241m>\u001b[39m \u001b[38;5;28;01mNone\u001b[39;00m:\n\u001b[1;32m    511\u001b[0m     \u001b[38;5;124;03m\"\"\"\u001b[39;00m\n\u001b[1;32m    512\u001b[0m \u001b[38;5;124;03m    Reader using openpyxl engine.\u001b[39;00m\n\u001b[1;32m    513\u001b[0m \n\u001b[0;32m   (...)\u001b[0m\n\u001b[1;32m    519\u001b[0m \u001b[38;5;124;03m        passed to fsspec for appropriate URLs (see ``_get_filepath_or_buffer``)\u001b[39;00m\n\u001b[1;32m    520\u001b[0m \u001b[38;5;124;03m    \"\"\"\u001b[39;00m\n\u001b[0;32m--> 521\u001b[0m     \u001b[43mimport_optional_dependency\u001b[49m\u001b[43m(\u001b[49m\u001b[38;5;124;43m\"\u001b[39;49m\u001b[38;5;124;43mopenpyxl\u001b[39;49m\u001b[38;5;124;43m\"\u001b[39;49m\u001b[43m)\u001b[49m\n\u001b[1;32m    522\u001b[0m     \u001b[38;5;28msuper\u001b[39m()\u001b[38;5;241m.\u001b[39m\u001b[38;5;21m__init__\u001b[39m(filepath_or_buffer, storage_options\u001b[38;5;241m=\u001b[39mstorage_options)\n",
            "File \u001b[0;32m~/venv/lib/python3.9/site-packages/pandas/compat/_optional.py:118\u001b[0m, in \u001b[0;36mimport_optional_dependency\u001b[0;34m(name, extra, errors, min_version)\u001b[0m\n\u001b[1;32m    116\u001b[0m \u001b[38;5;28;01mexcept\u001b[39;00m \u001b[38;5;167;01mImportError\u001b[39;00m:\n\u001b[1;32m    117\u001b[0m     \u001b[38;5;28;01mif\u001b[39;00m errors \u001b[38;5;241m==\u001b[39m \u001b[38;5;124m\"\u001b[39m\u001b[38;5;124mraise\u001b[39m\u001b[38;5;124m\"\u001b[39m:\n\u001b[0;32m--> 118\u001b[0m         \u001b[38;5;28;01mraise\u001b[39;00m \u001b[38;5;167;01mImportError\u001b[39;00m(msg) \u001b[38;5;28;01mfrom\u001b[39;00m \u001b[38;5;28mNone\u001b[39m\n\u001b[1;32m    119\u001b[0m     \u001b[38;5;28;01melse\u001b[39;00m:\n\u001b[1;32m    120\u001b[0m         \u001b[38;5;28;01mreturn\u001b[39;00m \u001b[38;5;28;01mNone\u001b[39;00m\n",
            "\u001b[0;31mImportError\u001b[0m: Missing optional dependency 'openpyxl'.  Use pip or conda to install openpyxl."
          ]
        }
      ],
      "execution_count": null,
      "block_group": "bbc200cccdd242d2ab16753e1d806635"
    },
    {
      "cell_type": "markdown",
      "source": "#### Merging the datasets",
      "metadata": {
        "id": "eb338027",
        "cell_id": "8888717a3d6a470bb3dbed4a9273db66",
        "deepnote_cell_type": "markdown"
      },
      "block_group": "55760b6512324002b39145a5b6ebb283"
    },
    {
      "cell_type": "code",
      "source": "# merge the data\nfull_table=pd.merge(order,customer,left_on=['CustomerID'], right_on=['CustomerID'], how='left')\nfull_table=pd.merge(full_table,product,left_on=['StockCode'], right_on=['StockCode'], how='left')",
      "metadata": {
        "id": "1939b9f6",
        "source_hash": null,
        "execution_start": 1694066539265,
        "execution_millis": 216,
        "deepnote_to_be_reexecuted": false,
        "cell_id": "1e22f4e16c3f404aa9647966c2bac55d",
        "deepnote_cell_type": "code"
      },
      "outputs": [],
      "execution_count": null,
      "block_group": "4d857dce188f4465a712139cf94c27af"
    },
    {
      "cell_type": "code",
      "source": "# check for first 5 rows for order data\norder.head()",
      "metadata": {
        "id": "843bae16",
        "colab": {
          "height": 206,
          "base_uri": "https://localhost:8080/"
        },
        "outputId": "d8e990ba-93cd-49a6-9f3c-8505250e94d9",
        "source_hash": null,
        "execution_start": 1694066539497,
        "execution_millis": 448,
        "deepnote_to_be_reexecuted": false,
        "cell_id": "7d398b18abdd4159b7f96938ab32cddd",
        "deepnote_cell_type": "code"
      },
      "outputs": [
        {
          "output_type": "execute_result",
          "execution_count": 4,
          "data": {
            "application/vnd.deepnote.dataframe.v3+json": {
              "column_count": 9,
              "row_count": 5,
              "columns": [
                {
                  "name": "InvoiceNo",
                  "dtype": "int64",
                  "stats": {
                    "unique_count": 1,
                    "nan_count": 0,
                    "min": "536365",
                    "max": "536365",
                    "histogram": [
                      {
                        "bin_start": 536364.5,
                        "bin_end": 536364.6,
                        "count": 0
                      },
                      {
                        "bin_start": 536364.6,
                        "bin_end": 536364.7,
                        "count": 0
                      },
                      {
                        "bin_start": 536364.7,
                        "bin_end": 536364.8,
                        "count": 0
                      },
                      {
                        "bin_start": 536364.8,
                        "bin_end": 536364.9,
                        "count": 0
                      },
                      {
                        "bin_start": 536364.9,
                        "bin_end": 536365,
                        "count": 0
                      },
                      {
                        "bin_start": 536365,
                        "bin_end": 536365.1,
                        "count": 5
                      },
                      {
                        "bin_start": 536365.1,
                        "bin_end": 536365.2,
                        "count": 0
                      },
                      {
                        "bin_start": 536365.2,
                        "bin_end": 536365.3,
                        "count": 0
                      },
                      {
                        "bin_start": 536365.3,
                        "bin_end": 536365.4,
                        "count": 0
                      },
                      {
                        "bin_start": 536365.4,
                        "bin_end": 536365.5,
                        "count": 0
                      }
                    ]
                  }
                },
                {
                  "name": "StockCode",
                  "dtype": "object",
                  "stats": {
                    "unique_count": 5,
                    "nan_count": 0,
                    "categories": [
                      {
                        "name": "84029E",
                        "count": 1
                      },
                      {
                        "name": "71053",
                        "count": 1
                      },
                      {
                        "name": "3 others",
                        "count": 3
                      }
                    ]
                  }
                },
                {
                  "name": "Quantity",
                  "dtype": "int64",
                  "stats": {
                    "unique_count": 3,
                    "nan_count": 0,
                    "min": "2",
                    "max": "8",
                    "histogram": [
                      {
                        "bin_start": 2,
                        "bin_end": 2.6,
                        "count": 1
                      },
                      {
                        "bin_start": 2.6,
                        "bin_end": 3.2,
                        "count": 0
                      },
                      {
                        "bin_start": 3.2,
                        "bin_end": 3.8,
                        "count": 0
                      },
                      {
                        "bin_start": 3.8,
                        "bin_end": 4.4,
                        "count": 0
                      },
                      {
                        "bin_start": 4.4,
                        "bin_end": 5,
                        "count": 0
                      },
                      {
                        "bin_start": 5,
                        "bin_end": 5.6,
                        "count": 0
                      },
                      {
                        "bin_start": 5.6,
                        "bin_end": 6.2,
                        "count": 3
                      },
                      {
                        "bin_start": 6.2,
                        "bin_end": 6.8,
                        "count": 0
                      },
                      {
                        "bin_start": 6.8,
                        "bin_end": 7.3999999999999995,
                        "count": 0
                      },
                      {
                        "bin_start": 7.3999999999999995,
                        "bin_end": 8,
                        "count": 1
                      }
                    ]
                  }
                },
                {
                  "name": "InvoiceDate",
                  "dtype": "datetime64[ns]",
                  "stats": {
                    "unique_count": 1,
                    "nan_count": 0,
                    "min": "2010-12-01 08:26:00",
                    "max": "2010-12-01 08:26:00",
                    "histogram": null
                  }
                },
                {
                  "name": "DeliveryDate",
                  "dtype": "datetime64[ns]",
                  "stats": {
                    "unique_count": 3,
                    "nan_count": 0,
                    "min": "2010-12-02 08:26:00",
                    "max": "2010-12-04 08:26:00",
                    "histogram": [
                      {
                        "bin_start": 1291278360000000000,
                        "bin_end": 1291295640000000000,
                        "count": 2
                      },
                      {
                        "bin_start": 1291295640000000000,
                        "bin_end": 1291312920000000000,
                        "count": 0
                      },
                      {
                        "bin_start": 1291312920000000000,
                        "bin_end": 1291330200000000000,
                        "count": 0
                      },
                      {
                        "bin_start": 1291330200000000000,
                        "bin_end": 1291347480000000000,
                        "count": 0
                      },
                      {
                        "bin_start": 1291347480000000000,
                        "bin_end": 1291364760000000000,
                        "count": 0
                      },
                      {
                        "bin_start": 1291364760000000000,
                        "bin_end": 1291382040000000000,
                        "count": 2
                      },
                      {
                        "bin_start": 1291382040000000000,
                        "bin_end": 1291399320000000000,
                        "count": 0
                      },
                      {
                        "bin_start": 1291399320000000000,
                        "bin_end": 1291416600000000000,
                        "count": 0
                      },
                      {
                        "bin_start": 1291416600000000000,
                        "bin_end": 1291433880000000000,
                        "count": 0
                      },
                      {
                        "bin_start": 1291433880000000000,
                        "bin_end": 1291451160000000000,
                        "count": 1
                      }
                    ]
                  }
                },
                {
                  "name": "Discount%",
                  "dtype": "float64",
                  "stats": {
                    "unique_count": 5,
                    "nan_count": 0,
                    "min": "0.2",
                    "max": "0.57",
                    "histogram": [
                      {
                        "bin_start": 0.2,
                        "bin_end": 0.237,
                        "count": 2
                      },
                      {
                        "bin_start": 0.237,
                        "bin_end": 0.274,
                        "count": 0
                      },
                      {
                        "bin_start": 0.274,
                        "bin_end": 0.311,
                        "count": 1
                      },
                      {
                        "bin_start": 0.311,
                        "bin_end": 0.348,
                        "count": 0
                      },
                      {
                        "bin_start": 0.348,
                        "bin_end": 0.38499999999999995,
                        "count": 0
                      },
                      {
                        "bin_start": 0.38499999999999995,
                        "bin_end": 0.42199999999999993,
                        "count": 0
                      },
                      {
                        "bin_start": 0.42199999999999993,
                        "bin_end": 0.45899999999999996,
                        "count": 0
                      },
                      {
                        "bin_start": 0.45899999999999996,
                        "bin_end": 0.49599999999999994,
                        "count": 0
                      },
                      {
                        "bin_start": 0.49599999999999994,
                        "bin_end": 0.5329999999999999,
                        "count": 0
                      },
                      {
                        "bin_start": 0.5329999999999999,
                        "bin_end": 0.57,
                        "count": 2
                      }
                    ]
                  }
                },
                {
                  "name": "ShipMode",
                  "dtype": "object",
                  "stats": {
                    "unique_count": 3,
                    "nan_count": 0,
                    "categories": [
                      {
                        "name": "ExpressAir",
                        "count": 2
                      },
                      {
                        "name": "Regular Air",
                        "count": 2
                      },
                      {
                        "name": "Delivery Truck",
                        "count": 1
                      }
                    ]
                  }
                },
                {
                  "name": "ShippingCost",
                  "dtype": "float64",
                  "stats": {
                    "unique_count": 3,
                    "nan_count": 0,
                    "min": "5.81",
                    "max": "30.12",
                    "histogram": [
                      {
                        "bin_start": 5.81,
                        "bin_end": 8.241,
                        "count": 1
                      },
                      {
                        "bin_start": 8.241,
                        "bin_end": 10.672,
                        "count": 0
                      },
                      {
                        "bin_start": 10.672,
                        "bin_end": 13.103,
                        "count": 0
                      },
                      {
                        "bin_start": 13.103,
                        "bin_end": 15.533999999999999,
                        "count": 2
                      },
                      {
                        "bin_start": 15.533999999999999,
                        "bin_end": 17.965,
                        "count": 0
                      },
                      {
                        "bin_start": 17.965,
                        "bin_end": 20.396,
                        "count": 0
                      },
                      {
                        "bin_start": 20.396,
                        "bin_end": 22.826999999999998,
                        "count": 0
                      },
                      {
                        "bin_start": 22.826999999999998,
                        "bin_end": 25.258,
                        "count": 0
                      },
                      {
                        "bin_start": 25.258,
                        "bin_end": 27.689,
                        "count": 0
                      },
                      {
                        "bin_start": 27.689,
                        "bin_end": 30.12,
                        "count": 2
                      }
                    ]
                  }
                },
                {
                  "name": "CustomerID",
                  "dtype": "int64",
                  "stats": {
                    "unique_count": 1,
                    "nan_count": 0,
                    "min": "17850",
                    "max": "17850",
                    "histogram": [
                      {
                        "bin_start": 17849.5,
                        "bin_end": 17849.6,
                        "count": 0
                      },
                      {
                        "bin_start": 17849.6,
                        "bin_end": 17849.7,
                        "count": 0
                      },
                      {
                        "bin_start": 17849.7,
                        "bin_end": 17849.8,
                        "count": 0
                      },
                      {
                        "bin_start": 17849.8,
                        "bin_end": 17849.9,
                        "count": 0
                      },
                      {
                        "bin_start": 17849.9,
                        "bin_end": 17850,
                        "count": 0
                      },
                      {
                        "bin_start": 17850,
                        "bin_end": 17850.1,
                        "count": 5
                      },
                      {
                        "bin_start": 17850.1,
                        "bin_end": 17850.2,
                        "count": 0
                      },
                      {
                        "bin_start": 17850.2,
                        "bin_end": 17850.3,
                        "count": 0
                      },
                      {
                        "bin_start": 17850.3,
                        "bin_end": 17850.4,
                        "count": 0
                      },
                      {
                        "bin_start": 17850.4,
                        "bin_end": 17850.5,
                        "count": 0
                      }
                    ]
                  }
                },
                {
                  "name": "_deepnote_index_column",
                  "dtype": "int64"
                }
              ],
              "rows": [
                {
                  "InvoiceNo": 536365,
                  "StockCode": "84029E",
                  "Quantity": 6,
                  "InvoiceDate": "2010-12-01 08:26:00",
                  "DeliveryDate": "2010-12-02 08:26:00",
                  "Discount%": 0.2,
                  "ShipMode": "ExpressAir",
                  "ShippingCost": 30.12,
                  "CustomerID": 17850,
                  "_deepnote_index_column": 0
                },
                {
                  "InvoiceNo": 536365,
                  "StockCode": "71053",
                  "Quantity": 6,
                  "InvoiceDate": "2010-12-01 08:26:00",
                  "DeliveryDate": "2010-12-02 08:26:00",
                  "Discount%": 0.21,
                  "ShipMode": "ExpressAir",
                  "ShippingCost": 30.12,
                  "CustomerID": 17850,
                  "_deepnote_index_column": 1
                },
                {
                  "InvoiceNo": 536365,
                  "StockCode": "21730",
                  "Quantity": 6,
                  "InvoiceDate": "2010-12-01 08:26:00",
                  "DeliveryDate": "2010-12-03 08:26:00",
                  "Discount%": 0.56,
                  "ShipMode": "Regular Air",
                  "ShippingCost": 15.22,
                  "CustomerID": 17850,
                  "_deepnote_index_column": 2
                },
                {
                  "InvoiceNo": 536365,
                  "StockCode": "84406B",
                  "Quantity": 8,
                  "InvoiceDate": "2010-12-01 08:26:00",
                  "DeliveryDate": "2010-12-03 08:26:00",
                  "Discount%": 0.3,
                  "ShipMode": "Regular Air",
                  "ShippingCost": 15.22,
                  "CustomerID": 17850,
                  "_deepnote_index_column": 3
                },
                {
                  "InvoiceNo": 536365,
                  "StockCode": "22752",
                  "Quantity": 2,
                  "InvoiceDate": "2010-12-01 08:26:00",
                  "DeliveryDate": "2010-12-04 08:26:00",
                  "Discount%": 0.57,
                  "ShipMode": "Delivery Truck",
                  "ShippingCost": 5.81,
                  "CustomerID": 17850,
                  "_deepnote_index_column": 4
                }
              ]
            },
            "text/plain": "   InvoiceNo StockCode  Quantity         InvoiceDate        DeliveryDate  \\\n0     536365    84029E         6 2010-12-01 08:26:00 2010-12-02 08:26:00   \n1     536365     71053         6 2010-12-01 08:26:00 2010-12-02 08:26:00   \n2     536365     21730         6 2010-12-01 08:26:00 2010-12-03 08:26:00   \n3     536365    84406B         8 2010-12-01 08:26:00 2010-12-03 08:26:00   \n4     536365     22752         2 2010-12-01 08:26:00 2010-12-04 08:26:00   \n\n   Discount%        ShipMode  ShippingCost  CustomerID  \n0       0.20      ExpressAir         30.12       17850  \n1       0.21      ExpressAir         30.12       17850  \n2       0.56     Regular Air         15.22       17850  \n3       0.30     Regular Air         15.22       17850  \n4       0.57  Delivery Truck          5.81       17850  ",
            "text/html": "<div>\n<style scoped>\n    .dataframe tbody tr th:only-of-type {\n        vertical-align: middle;\n    }\n\n    .dataframe tbody tr th {\n        vertical-align: top;\n    }\n\n    .dataframe thead th {\n        text-align: right;\n    }\n</style>\n<table border=\"1\" class=\"dataframe\">\n  <thead>\n    <tr style=\"text-align: right;\">\n      <th></th>\n      <th>InvoiceNo</th>\n      <th>StockCode</th>\n      <th>Quantity</th>\n      <th>InvoiceDate</th>\n      <th>DeliveryDate</th>\n      <th>Discount%</th>\n      <th>ShipMode</th>\n      <th>ShippingCost</th>\n      <th>CustomerID</th>\n    </tr>\n  </thead>\n  <tbody>\n    <tr>\n      <th>0</th>\n      <td>536365</td>\n      <td>84029E</td>\n      <td>6</td>\n      <td>2010-12-01 08:26:00</td>\n      <td>2010-12-02 08:26:00</td>\n      <td>0.20</td>\n      <td>ExpressAir</td>\n      <td>30.12</td>\n      <td>17850</td>\n    </tr>\n    <tr>\n      <th>1</th>\n      <td>536365</td>\n      <td>71053</td>\n      <td>6</td>\n      <td>2010-12-01 08:26:00</td>\n      <td>2010-12-02 08:26:00</td>\n      <td>0.21</td>\n      <td>ExpressAir</td>\n      <td>30.12</td>\n      <td>17850</td>\n    </tr>\n    <tr>\n      <th>2</th>\n      <td>536365</td>\n      <td>21730</td>\n      <td>6</td>\n      <td>2010-12-01 08:26:00</td>\n      <td>2010-12-03 08:26:00</td>\n      <td>0.56</td>\n      <td>Regular Air</td>\n      <td>15.22</td>\n      <td>17850</td>\n    </tr>\n    <tr>\n      <th>3</th>\n      <td>536365</td>\n      <td>84406B</td>\n      <td>8</td>\n      <td>2010-12-01 08:26:00</td>\n      <td>2010-12-03 08:26:00</td>\n      <td>0.30</td>\n      <td>Regular Air</td>\n      <td>15.22</td>\n      <td>17850</td>\n    </tr>\n    <tr>\n      <th>4</th>\n      <td>536365</td>\n      <td>22752</td>\n      <td>2</td>\n      <td>2010-12-01 08:26:00</td>\n      <td>2010-12-04 08:26:00</td>\n      <td>0.57</td>\n      <td>Delivery Truck</td>\n      <td>5.81</td>\n      <td>17850</td>\n    </tr>\n  </tbody>\n</table>\n</div>"
          },
          "metadata": {}
        }
      ],
      "execution_count": null,
      "block_group": "8beeb76707804ab1b8ee2c3831da1913"
    },
    {
      "cell_type": "code",
      "source": "# check for first 5 rows for customer data\ncustomer.head()",
      "metadata": {
        "id": "b83c7ffd",
        "colab": {
          "height": 206,
          "base_uri": "https://localhost:8080/"
        },
        "outputId": "e3b344ef-90cf-4996-ce71-c9485488ac23",
        "source_hash": null,
        "execution_start": 1694066539635,
        "execution_millis": 272,
        "deepnote_to_be_reexecuted": false,
        "cell_id": "1bd027e0b21d4c078be2e2b92115fb3c",
        "deepnote_cell_type": "code"
      },
      "outputs": [
        {
          "output_type": "execute_result",
          "execution_count": 5,
          "data": {
            "application/vnd.deepnote.dataframe.v3+json": {
              "column_count": 6,
              "row_count": 5,
              "columns": [
                {
                  "name": "CustomerID",
                  "dtype": "int64",
                  "stats": {
                    "unique_count": 5,
                    "nan_count": 0,
                    "min": "13089",
                    "max": "16241",
                    "histogram": [
                      {
                        "bin_start": 13089,
                        "bin_end": 13404.2,
                        "count": 2
                      },
                      {
                        "bin_start": 13404.2,
                        "bin_end": 13719.4,
                        "count": 0
                      },
                      {
                        "bin_start": 13719.4,
                        "bin_end": 14034.6,
                        "count": 0
                      },
                      {
                        "bin_start": 14034.6,
                        "bin_end": 14349.8,
                        "count": 0
                      },
                      {
                        "bin_start": 14349.8,
                        "bin_end": 14665,
                        "count": 0
                      },
                      {
                        "bin_start": 14665,
                        "bin_end": 14980.2,
                        "count": 0
                      },
                      {
                        "bin_start": 14980.2,
                        "bin_end": 15295.4,
                        "count": 0
                      },
                      {
                        "bin_start": 15295.4,
                        "bin_end": 15610.6,
                        "count": 1
                      },
                      {
                        "bin_start": 15610.6,
                        "bin_end": 15925.8,
                        "count": 1
                      },
                      {
                        "bin_start": 15925.8,
                        "bin_end": 16241,
                        "count": 1
                      }
                    ]
                  }
                },
                {
                  "name": "Gender",
                  "dtype": "object",
                  "stats": {
                    "unique_count": 2,
                    "nan_count": 0,
                    "categories": [
                      {
                        "name": "male",
                        "count": 3
                      },
                      {
                        "name": "female",
                        "count": 2
                      }
                    ]
                  }
                },
                {
                  "name": "Age",
                  "dtype": "int64",
                  "stats": {
                    "unique_count": 4,
                    "nan_count": 0,
                    "min": "22",
                    "max": "53",
                    "histogram": [
                      {
                        "bin_start": 22,
                        "bin_end": 25.1,
                        "count": 1
                      },
                      {
                        "bin_start": 25.1,
                        "bin_end": 28.2,
                        "count": 0
                      },
                      {
                        "bin_start": 28.2,
                        "bin_end": 31.3,
                        "count": 2
                      },
                      {
                        "bin_start": 31.3,
                        "bin_end": 34.4,
                        "count": 0
                      },
                      {
                        "bin_start": 34.4,
                        "bin_end": 37.5,
                        "count": 1
                      },
                      {
                        "bin_start": 37.5,
                        "bin_end": 40.6,
                        "count": 0
                      },
                      {
                        "bin_start": 40.6,
                        "bin_end": 43.7,
                        "count": 0
                      },
                      {
                        "bin_start": 43.7,
                        "bin_end": 46.8,
                        "count": 0
                      },
                      {
                        "bin_start": 46.8,
                        "bin_end": 49.900000000000006,
                        "count": 0
                      },
                      {
                        "bin_start": 49.900000000000006,
                        "bin_end": 53,
                        "count": 1
                      }
                    ]
                  }
                },
                {
                  "name": "Income",
                  "dtype": "object",
                  "stats": {
                    "unique_count": 3,
                    "nan_count": 0,
                    "categories": [
                      {
                        "name": "High",
                        "count": 2
                      },
                      {
                        "name": "Low",
                        "count": 2
                      },
                      {
                        "name": "Medium",
                        "count": 1
                      }
                    ]
                  }
                },
                {
                  "name": "Zipcode",
                  "dtype": "int64",
                  "stats": {
                    "unique_count": 5,
                    "nan_count": 0,
                    "min": "8625",
                    "max": "97818",
                    "histogram": [
                      {
                        "bin_start": 8625,
                        "bin_end": 17544.3,
                        "count": 1
                      },
                      {
                        "bin_start": 17544.3,
                        "bin_end": 26463.6,
                        "count": 0
                      },
                      {
                        "bin_start": 26463.6,
                        "bin_end": 35382.899999999994,
                        "count": 1
                      },
                      {
                        "bin_start": 35382.899999999994,
                        "bin_end": 44302.2,
                        "count": 0
                      },
                      {
                        "bin_start": 44302.2,
                        "bin_end": 53221.5,
                        "count": 0
                      },
                      {
                        "bin_start": 53221.5,
                        "bin_end": 62140.799999999996,
                        "count": 0
                      },
                      {
                        "bin_start": 62140.799999999996,
                        "bin_end": 71060.09999999999,
                        "count": 0
                      },
                      {
                        "bin_start": 71060.09999999999,
                        "bin_end": 79979.4,
                        "count": 1
                      },
                      {
                        "bin_start": 79979.4,
                        "bin_end": 88898.7,
                        "count": 1
                      },
                      {
                        "bin_start": 88898.7,
                        "bin_end": 97818,
                        "count": 1
                      }
                    ]
                  }
                },
                {
                  "name": "Customer Segment",
                  "dtype": "object",
                  "stats": {
                    "unique_count": 3,
                    "nan_count": 0,
                    "categories": [
                      {
                        "name": "Small Business",
                        "count": 3
                      },
                      {
                        "name": "Corporate",
                        "count": 1
                      },
                      {
                        "name": "Middle class",
                        "count": 1
                      }
                    ]
                  }
                },
                {
                  "name": "_deepnote_index_column",
                  "dtype": "int64"
                }
              ],
              "rows": [
                {
                  "CustomerID": 13089,
                  "Gender": "male",
                  "Age": 53,
                  "Income": "High",
                  "Zipcode": 8625,
                  "Customer Segment": "Small Business",
                  "_deepnote_index_column": 0
                },
                {
                  "CustomerID": 15810,
                  "Gender": "female",
                  "Age": 22,
                  "Income": "Low",
                  "Zipcode": 87797,
                  "Customer Segment": "Small Business",
                  "_deepnote_index_column": 1
                },
                {
                  "CustomerID": 15556,
                  "Gender": "female",
                  "Age": 29,
                  "Income": "High",
                  "Zipcode": 29257,
                  "Customer Segment": "Corporate",
                  "_deepnote_index_column": 2
                },
                {
                  "CustomerID": 13137,
                  "Gender": "male",
                  "Age": 29,
                  "Income": "Medium",
                  "Zipcode": 97818,
                  "Customer Segment": "Middle class",
                  "_deepnote_index_column": 3
                },
                {
                  "CustomerID": 16241,
                  "Gender": "male",
                  "Age": 36,
                  "Income": "Low",
                  "Zipcode": 79200,
                  "Customer Segment": "Small Business",
                  "_deepnote_index_column": 4
                }
              ]
            },
            "text/plain": "   CustomerID  Gender  Age  Income  Zipcode Customer Segment\n0       13089    male   53    High     8625   Small Business\n1       15810  female   22     Low    87797   Small Business\n2       15556  female   29    High    29257        Corporate\n3       13137    male   29  Medium    97818     Middle class\n4       16241    male   36     Low    79200   Small Business",
            "text/html": "<div>\n<style scoped>\n    .dataframe tbody tr th:only-of-type {\n        vertical-align: middle;\n    }\n\n    .dataframe tbody tr th {\n        vertical-align: top;\n    }\n\n    .dataframe thead th {\n        text-align: right;\n    }\n</style>\n<table border=\"1\" class=\"dataframe\">\n  <thead>\n    <tr style=\"text-align: right;\">\n      <th></th>\n      <th>CustomerID</th>\n      <th>Gender</th>\n      <th>Age</th>\n      <th>Income</th>\n      <th>Zipcode</th>\n      <th>Customer Segment</th>\n    </tr>\n  </thead>\n  <tbody>\n    <tr>\n      <th>0</th>\n      <td>13089</td>\n      <td>male</td>\n      <td>53</td>\n      <td>High</td>\n      <td>8625</td>\n      <td>Small Business</td>\n    </tr>\n    <tr>\n      <th>1</th>\n      <td>15810</td>\n      <td>female</td>\n      <td>22</td>\n      <td>Low</td>\n      <td>87797</td>\n      <td>Small Business</td>\n    </tr>\n    <tr>\n      <th>2</th>\n      <td>15556</td>\n      <td>female</td>\n      <td>29</td>\n      <td>High</td>\n      <td>29257</td>\n      <td>Corporate</td>\n    </tr>\n    <tr>\n      <th>3</th>\n      <td>13137</td>\n      <td>male</td>\n      <td>29</td>\n      <td>Medium</td>\n      <td>97818</td>\n      <td>Middle class</td>\n    </tr>\n    <tr>\n      <th>4</th>\n      <td>16241</td>\n      <td>male</td>\n      <td>36</td>\n      <td>Low</td>\n      <td>79200</td>\n      <td>Small Business</td>\n    </tr>\n  </tbody>\n</table>\n</div>"
          },
          "metadata": {}
        }
      ],
      "execution_count": null,
      "block_group": "890b8edcbdf14dd297edc14959b3561e"
    },
    {
      "cell_type": "code",
      "source": "# check for first 5 rows for product data\nproduct.head()",
      "metadata": {
        "id": "114b2672",
        "colab": {
          "height": 206,
          "base_uri": "https://localhost:8080/"
        },
        "outputId": "be358dbe-4d12-4adf-8d63-48998ae639dd",
        "source_hash": null,
        "execution_start": 1694066539717,
        "execution_millis": 358,
        "deepnote_to_be_reexecuted": false,
        "cell_id": "a1168c271a4b4153b818c2c1125c4701",
        "deepnote_cell_type": "code"
      },
      "outputs": [
        {
          "output_type": "execute_result",
          "execution_count": 6,
          "data": {
            "application/vnd.deepnote.dataframe.v3+json": {
              "column_count": 6,
              "row_count": 5,
              "columns": [
                {
                  "name": "StockCode",
                  "dtype": "object",
                  "stats": {
                    "unique_count": 5,
                    "nan_count": 0,
                    "categories": [
                      {
                        "name": "22629",
                        "count": 1
                      },
                      {
                        "name": "21238",
                        "count": 1
                      },
                      {
                        "name": "3 others",
                        "count": 3
                      }
                    ]
                  }
                },
                {
                  "name": "Product Name",
                  "dtype": "object",
                  "stats": {
                    "unique_count": 5,
                    "nan_count": 0,
                    "categories": [
                      {
                        "name": "Ganma Superheroes Ordinary Life Case For Samsung Galaxy Note 5 Hard Case Cover",
                        "count": 1
                      },
                      {
                        "name": "Eye Buy Express Prescription Glasses Mens Womens Burgundy Crystal Clear Yellow Rounded Rectangular Reading Glasses Anti Glare grade",
                        "count": 1
                      },
                      {
                        "name": "3 others",
                        "count": 3
                      }
                    ]
                  }
                },
                {
                  "name": "Description",
                  "dtype": "object",
                  "stats": {
                    "unique_count": 5,
                    "nan_count": 0,
                    "categories": [
                      {
                        "name": "New unique design, great gift.High quality plastic material.Clips over the back of the device to protect the back &amp; sides from bumps and scratches.Printed using a process called sublimation, high quality image which will last for years!| New unique design, great gift. High quality plastic material. Clips over the back of the device to protect the back &amp; sides from bumps and scratches. Printed using a process called sublimation, high quality image which will last for years! ",
                        "count": 1
                      },
                      {
                        "name": "Rounded rectangular cat-eye reading glasses. These frames feature a deep burgundy color on the face of the frame with crystal interior, as well as crystal temple detail and yellow, turqoise and black marbled colors on the inside of the temple arms. The standard hinges provide durability and the TR-90 con struction allows for some flex making these glasses very sturdy and perfect for every day use!| Always custom made to your individual order specifications in our FDA Listed Lab with the remarkable Optical grade Custom frames and Lenses available. Better style better grade and always less than retail. Rx lens included! Glasses come with a Hard protective case and micro fiber cleaning cloth. Very light and strong frame with Ebe signature comfort fit bridge for easy all day use without hot spots. We design and produce all of our frames and lenses in our FDA listed Labs. Lenses Include Anti-Glare and Anti-Reflective Coating. You will Love your New Glasses and we Guarantee it 100%. We do not sell Cheap &quot;drug store&quot; reading glasses. Lens Width=54, Lens Height=37, Bridge Width=15, Temple Length=144, Frame Width=135 ",
                        "count": 1
                      },
                      {
                        "name": "3 others",
                        "count": 3
                      }
                    ]
                  }
                },
                {
                  "name": "Category",
                  "dtype": "object",
                  "stats": {
                    "unique_count": 5,
                    "nan_count": 0,
                    "categories": [
                      {
                        "name": "Cell Phones|Cellphone Accessories|Cases & Protectors|Cell Phone Cases",
                        "count": 1
                      },
                      {
                        "name": "Health|Home Health Care|Daily Living Aids",
                        "count": 1
                      },
                      {
                        "name": "3 others",
                        "count": 3
                      }
                    ]
                  }
                },
                {
                  "name": "Brand",
                  "dtype": "object",
                  "stats": {
                    "unique_count": 5,
                    "nan_count": 0,
                    "categories": [
                      {
                        "name": "Ganma",
                        "count": 1
                      },
                      {
                        "name": "Eye Buy Express",
                        "count": 1
                      },
                      {
                        "name": "3 others",
                        "count": 3
                      }
                    ]
                  }
                },
                {
                  "name": "Unit Price",
                  "dtype": "float64",
                  "stats": {
                    "unique_count": 5,
                    "nan_count": 0,
                    "min": "13.99",
                    "max": "62.38",
                    "histogram": [
                      {
                        "bin_start": 13.99,
                        "bin_end": 18.829,
                        "count": 2
                      },
                      {
                        "bin_start": 18.829,
                        "bin_end": 23.668,
                        "count": 1
                      },
                      {
                        "bin_start": 23.668,
                        "bin_end": 28.507,
                        "count": 0
                      },
                      {
                        "bin_start": 28.507,
                        "bin_end": 33.346000000000004,
                        "count": 0
                      },
                      {
                        "bin_start": 33.346000000000004,
                        "bin_end": 38.185,
                        "count": 1
                      },
                      {
                        "bin_start": 38.185,
                        "bin_end": 43.024,
                        "count": 0
                      },
                      {
                        "bin_start": 43.024,
                        "bin_end": 47.86300000000001,
                        "count": 0
                      },
                      {
                        "bin_start": 47.86300000000001,
                        "bin_end": 52.702000000000005,
                        "count": 0
                      },
                      {
                        "bin_start": 52.702000000000005,
                        "bin_end": 57.541000000000004,
                        "count": 0
                      },
                      {
                        "bin_start": 57.541000000000004,
                        "bin_end": 62.38,
                        "count": 1
                      }
                    ]
                  }
                },
                {
                  "name": "_deepnote_index_column",
                  "dtype": "int64"
                }
              ],
              "rows": [
                {
                  "StockCode": "22629",
                  "Product Name": "Ganma Superheroes Ordinary Life Case For Samsung Galaxy Note 5 Hard Case Cover",
                  "Description": "New unique design, great gift.High quality plastic material.Clips over the back of the device to protect the back &amp; sides from bumps and scratches.Printed using a process called sublimation, high quality image which will last for years!| New unique design, great gift. High quality plastic material. Clips over the back of the device to protect the back &amp; sides from bumps and scratches. Printed using a process called sublimation, high quality image which will last for years! ",
                  "Category": "Cell Phones|Cellphone Accessories|Cases & Protectors|Cell Phone Cases",
                  "Brand": "Ganma",
                  "Unit Price": 13.99,
                  "_deepnote_index_column": 0
                },
                {
                  "StockCode": "21238",
                  "Product Name": "Eye Buy Express Prescription Glasses Mens Womens Burgundy Crystal Clear Yellow Rounded Rectangular Reading Glasses Anti Glare grade",
                  "Description": "Rounded rectangular cat-eye reading glasses. These frames feature a deep burgundy color on the face of the frame with crystal interior, as well as crystal temple detail and yellow, turqoise and black marbled colors on the inside of the temple arms. The standard hinges provide durability and the TR-90 con struction allows for some flex making these glasses very sturdy and perfect for every day use!| Always custom made to your individual order specifications in our FDA Listed Lab with the remarkable Optical grade Custom frames and Lenses available. Better style better grade and always less than retail. Rx lens included! Glasses come with a Hard protective case and micro fiber cleaning cloth. Very light and strong frame with Ebe signature comfort fit bridge for easy all day use without hot spots. We design and produce all of our frames and lenses in our FDA listed Labs. Lenses Include Anti-Glare and Anti-Reflective Coating. You will Love your New Glasses and we Guarantee it 100%. We do n…",
                  "Category": "Health|Home Health Care|Daily Living Aids",
                  "Brand": "Eye Buy Express",
                  "Unit Price": 19.22,
                  "_deepnote_index_column": 1
                },
                {
                  "StockCode": "22181",
                  "Product Name": "MightySkins Skin Decal Wrap Compatible with Nintendo Sticker Protective Cover 100's of Color Options",
                  "Description": "Each Nintendo 2DS kit is printed with super-high resolution graphics with a ultra finish. All skins are protected with MightyShield. This laminate protects from scratching, fading, peeling and most importantly leaves no sticky mess guaranteed. Our patented advanced air-release vinyl guarantees a perfect installation everytime. When you are ready to change your skin removal is a snap, no sticky mess or gooey residue for over 4 years. This package is a 2 piece vinyl skin kit. You can't go wrong with a MightySkin.|This is NOT A HARD CASE (Skin Decal Only). It is a vinyl skin/decal sticker and is NOT made of rubber, silicone, gel or plastic. Device shown not included.",
                  "Category": "Video Games|Video Game Accessories|Accessories for Nintendo, PC, Xbox and PlayStation Systems",
                  "Brand": "Mightyskins",
                  "Unit Price": 14.99,
                  "_deepnote_index_column": 2
                },
                {
                  "StockCode": "84879",
                  "Product Name": "Mediven Sheer and Soft 15-20 mmHg Thigh w/ Lace Silicone Top Band CT Wheat II - Ankle 8-8.75 inches",
                  "Description": "The sheerest compression stocking in its class is exactly what is states: sheer and soft. mediven sheer &amp; soft,which is virtually indistinguishable from regular hosiery, is specifically designed for fashion-conscious patients who demand the most durable, best-looking medical compression available. Ideal for both day and evening wear, only you and your patients will know that mediven sheer &amp; soft is a medical compression stocking.| Unequaled sheerness and softness Machine wash and tumble dry Easy to apply ",
                  "Category": "Health|Medicine Cabinet|Braces & Supports",
                  "Brand": "Medi",
                  "Unit Price": 62.38,
                  "_deepnote_index_column": 3
                },
                {
                  "StockCode": "84836",
                  "Product Name": "Stupell Industries Chevron Initial Wall D cor",
                  "Description": "Features: -Made in the USA. -Sawtooth hanger on the back for easy and instant hanging. -Hand-finished. Product Type: -Wall Letters/Monogram. Theme: -Letters. Gender: -Neutral. Life Stage: -Kid. Primary D&eacute;cor Material: -Wood. Pattern: -Chevron. Hand Painted: -Yes. Holiday / Occasion: -No Holiday. Dimensions: Overall Height - Top to Bottom: -18&quot;. Overall Width - Side to Side: -0.5&quot;. Overall Product Weight: -2 lbs. Overall Thickness: -12&quot;.|VYH1295 Features Made in the USA Sawtooth hanger on the back for easy and instant hanging Hand-finished Product Type: Wall Letters/Monogram Theme: Letters Gender: Neutral Life Stage: Kid Primary D&eacute;cor Material: Wood Pattern: Chevron Hand Painted: Yes Holiday / Occasion: No Holiday Dimensions Overall Height - Top to Bottom: 18&quot; Overall Width - Side to Side: 0.5&quot; Overall Product Weight: 2 lbs Overall Thickness: 12&quot; ",
                  "Category": "Home Improvement|Paint|Wall Decals|All Wall Decals",
                  "Brand": "Stupell Industries",
                  "Unit Price": 35.99,
                  "_deepnote_index_column": 4
                }
              ]
            },
            "text/plain": "  StockCode                                       Product Name  \\\n0     22629  Ganma Superheroes Ordinary Life Case For Samsu...   \n1     21238  Eye Buy Express Prescription Glasses Mens Wome...   \n2     22181  MightySkins Skin Decal Wrap Compatible with Ni...   \n3     84879  Mediven Sheer and Soft 15-20 mmHg Thigh w/ Lac...   \n4     84836      Stupell Industries Chevron Initial Wall D cor   \n\n                                         Description  \\\n0  New unique design, great gift.High quality pla...   \n1  Rounded rectangular cat-eye reading glasses. T...   \n2  Each Nintendo 2DS kit is printed with super-hi...   \n3  The sheerest compression stocking in its class...   \n4  Features: -Made in the USA. -Sawtooth hanger o...   \n\n                                            Category               Brand  \\\n0  Cell Phones|Cellphone Accessories|Cases & Prot...               Ganma   \n1          Health|Home Health Care|Daily Living Aids     Eye Buy Express   \n2  Video Games|Video Game Accessories|Accessories...         Mightyskins   \n3          Health|Medicine Cabinet|Braces & Supports                Medi   \n4  Home Improvement|Paint|Wall Decals|All Wall De...  Stupell Industries   \n\n   Unit Price  \n0       13.99  \n1       19.22  \n2       14.99  \n3       62.38  \n4       35.99  ",
            "text/html": "<div>\n<style scoped>\n    .dataframe tbody tr th:only-of-type {\n        vertical-align: middle;\n    }\n\n    .dataframe tbody tr th {\n        vertical-align: top;\n    }\n\n    .dataframe thead th {\n        text-align: right;\n    }\n</style>\n<table border=\"1\" class=\"dataframe\">\n  <thead>\n    <tr style=\"text-align: right;\">\n      <th></th>\n      <th>StockCode</th>\n      <th>Product Name</th>\n      <th>Description</th>\n      <th>Category</th>\n      <th>Brand</th>\n      <th>Unit Price</th>\n    </tr>\n  </thead>\n  <tbody>\n    <tr>\n      <th>0</th>\n      <td>22629</td>\n      <td>Ganma Superheroes Ordinary Life Case For Samsu...</td>\n      <td>New unique design, great gift.High quality pla...</td>\n      <td>Cell Phones|Cellphone Accessories|Cases &amp; Prot...</td>\n      <td>Ganma</td>\n      <td>13.99</td>\n    </tr>\n    <tr>\n      <th>1</th>\n      <td>21238</td>\n      <td>Eye Buy Express Prescription Glasses Mens Wome...</td>\n      <td>Rounded rectangular cat-eye reading glasses. T...</td>\n      <td>Health|Home Health Care|Daily Living Aids</td>\n      <td>Eye Buy Express</td>\n      <td>19.22</td>\n    </tr>\n    <tr>\n      <th>2</th>\n      <td>22181</td>\n      <td>MightySkins Skin Decal Wrap Compatible with Ni...</td>\n      <td>Each Nintendo 2DS kit is printed with super-hi...</td>\n      <td>Video Games|Video Game Accessories|Accessories...</td>\n      <td>Mightyskins</td>\n      <td>14.99</td>\n    </tr>\n    <tr>\n      <th>3</th>\n      <td>84879</td>\n      <td>Mediven Sheer and Soft 15-20 mmHg Thigh w/ Lac...</td>\n      <td>The sheerest compression stocking in its class...</td>\n      <td>Health|Medicine Cabinet|Braces &amp; Supports</td>\n      <td>Medi</td>\n      <td>62.38</td>\n    </tr>\n    <tr>\n      <th>4</th>\n      <td>84836</td>\n      <td>Stupell Industries Chevron Initial Wall D cor</td>\n      <td>Features: -Made in the USA. -Sawtooth hanger o...</td>\n      <td>Home Improvement|Paint|Wall Decals|All Wall De...</td>\n      <td>Stupell Industries</td>\n      <td>35.99</td>\n    </tr>\n  </tbody>\n</table>\n</div>"
          },
          "metadata": {}
        }
      ],
      "execution_count": null,
      "block_group": "54770a3c723e4c5fac29753e6970a253"
    },
    {
      "cell_type": "code",
      "source": "# Creating the list of unique users\ndef unique_users(data, column):   \n    return np.sort(data[column].unique())\n\n# Creating the list of unique produts\ndef unique_items(data, column):\n    item_list = data[column].unique()\n    return item_list\n\ndef features_to_add(customer, column1,column2,column3):\n    customer1 = customer[column1]\n    customer2 = customer[column2]\n    customer3 = customer[column3]\n    return pd.concat([customer1,customer3,customer2], ignore_index = True).unique()\n\n# Create id mappings to convert user_id, item_id, and feature_id\ndef mapping(users, items, features):\n    user_to_index_mapping = {}\n    index_to_user_mapping = {}\n    for user_index, user_id in enumerate(users):\n        user_to_index_mapping[user_id] = user_index\n        index_to_user_mapping[user_index] = user_id\n        \n    item_to_index_mapping = {}\n    index_to_item_mapping = {}\n    for item_index, item_id in enumerate(items):\n        item_to_index_mapping[item_id] = item_index\n        index_to_item_mapping[item_index] = item_id\n        \n    feature_to_index_mapping = {}\n    index_to_feature_mapping = {}\n    for feature_index, feature_id in enumerate(features):\n        feature_to_index_mapping[feature_id] = feature_index\n        index_to_feature_mapping[feature_index] = feature_id\n        \n        \n    return user_to_index_mapping, index_to_user_mapping, \\\n           item_to_index_mapping, index_to_item_mapping, \\\n           feature_to_index_mapping, index_to_feature_mapping\n\n",
      "metadata": {
        "id": "b18ee92a",
        "source_hash": null,
        "execution_start": 1694066539738,
        "execution_millis": 39,
        "deepnote_to_be_reexecuted": false,
        "cell_id": "ef7a66d58da54a5f8310a31329e0090c",
        "deepnote_cell_type": "code"
      },
      "outputs": [],
      "execution_count": null,
      "block_group": "285d852f5c5245cb8e54e54e8063abb5"
    },
    {
      "cell_type": "code",
      "source": "# create the user, item, feature lists\nusers = unique_users(order, \"CustomerID\")\nitems = unique_items(product, \"Product Name\")\nfeatures = features_to_add(customer,'Customer Segment',\"Age\",\"Gender\")",
      "metadata": {
        "id": "7c543564",
        "source_hash": null,
        "execution_start": 1694066539821,
        "execution_millis": 10,
        "deepnote_to_be_reexecuted": false,
        "cell_id": "d8bb1fe1875f4bcb848bf9b15f548ec4",
        "deepnote_cell_type": "code"
      },
      "outputs": [],
      "execution_count": null,
      "block_group": "de21617f799845a0888e9961f7a4a5ef"
    },
    {
      "cell_type": "code",
      "source": "users",
      "metadata": {
        "id": "fc156780",
        "colab": {
          "base_uri": "https://localhost:8080/"
        },
        "outputId": "48270671-dbba-4417-ca14-f43197b9bd5c",
        "source_hash": null,
        "execution_start": 1694066539822,
        "execution_millis": 22,
        "deepnote_to_be_reexecuted": false,
        "cell_id": "60604b5044c347b3b92122c4789b4f22",
        "deepnote_cell_type": "code"
      },
      "outputs": [
        {
          "output_type": "execute_result",
          "execution_count": 9,
          "data": {
            "text/plain": "array([12346, 12347, 12348, ..., 18282, 18283, 18287])"
          },
          "metadata": {}
        }
      ],
      "execution_count": null,
      "block_group": "a6cf7da94e1b4008aabe089543b2b294"
    },
    {
      "cell_type": "code",
      "source": "items",
      "metadata": {
        "id": "5143ca7c",
        "colab": {
          "base_uri": "https://localhost:8080/"
        },
        "outputId": "9a49bd4f-8876-451d-b003-598bc7ebebc7",
        "source_hash": null,
        "execution_start": 1694066539879,
        "execution_millis": 266,
        "deepnote_to_be_reexecuted": false,
        "cell_id": "d704e987ebd14102ac4c5c03bb339b8e",
        "deepnote_cell_type": "code"
      },
      "outputs": [
        {
          "output_type": "execute_result",
          "execution_count": 10,
          "data": {
            "text/plain": "array(['Ganma Superheroes Ordinary Life Case For Samsung Galaxy Note 5 Hard Case Cover',\n       'Eye Buy Express Prescription Glasses Mens Womens Burgundy Crystal Clear Yellow Rounded Rectangular Reading Glasses Anti Glare grade',\n       \"MightySkins Skin Decal Wrap Compatible with Nintendo Sticker Protective Cover 100's of Color Options\",\n       'Mediven Sheer and Soft 15-20 mmHg Thigh w/ Lace Silicone Top Band CT Wheat II - Ankle 8-8.75 inches',\n       'Stupell Industries Chevron Initial Wall D cor',\n       \"MightySkins Skin Decal Wrap Compatible with OtterBox Sticker Protective Cover 100's of Color Options\",\n       \"MightySkins Skin Decal Wrap Compatible with DJI Sticker Protective Cover 100's of Color Options\",\n       'MightySkins Skin For OtterBox Commuter iPhone 8 Plus | Protective, Durable, and Unique Vinyl Decal wrap cover | Easy To Apply, Remove, and Change Styles | Made in the USA',\n       \"Dr. Comfort Paradise Women's Casual Shoe: 4.5 X-Wide (E-2E) Black Velcro\",\n       \"MightySkins Skin Decal Wrap Compatible with Lenovo Sticker Protective Cover 100's of Color Options\",\n       'Ebe Reading Glasses Mens Womens Tortoise Bold Rectangular Full Frame Anti Glare grade ckbdp9088',\n       'Clear 18 Note Acrylic Box Musical Paperweight - Light My Fire',\n       'billyboards Porcelain School Chalkboard',\n       'Isavela MG03 Vest w/ Front Zipper & 3\" Waist Elastic Band-Large-Beige',\n       'Window Tint Film Chevy (back doors) DIY',\n       \"JustVH Women's Solid Henley V-Neck Casual Blouse Pleated Button Tunic Shirt Top\",\n       'KATARINA Diamond Fashion Ring in 10K White Gold (2 cttw) (I-Color, SI3/I1-Clarity) (Size-7)',\n       'Yosoo 32 Types 2018 World Cup Sticker National Flag Sticker Body Face Arm Temporary Waterproof Tattoo,Flag tattoo sticker, World cup sticker',\n       'Union 3\" Female Ports Stainless Steel Pipe Fitting',\n       'Auburn Leathercrafters Tuscany Leather Dog Collar',\n       'Replacement for NATIONAL STOCK NUMBER NSN 6240-01-065-0009 10 PACK replacement light bulb lamp',\n       'Ebe Women Reading Glasses Reader Cheaters Anti Reflective Lenses TR90 ry2209',\n       '3 1/2\"W x 32\"D x 36\"H Traditional Arts & Crafts Smooth Bracket, Douglas Fir',\n       \"MightySkins Skin Decal Wrap Compatible with HP Sticker Protective Cover 100's of Color Options\",\n       \"1042 - Unisex Long-Sleeve T-Shirt Free Hugs And Maybe A Kiss If You're Lucky\",\n       'MightySkins Skin For Lenovo Flex 5 15\" (2017) | Protective, Durable, and Unique Vinyl Decal wrap cover | Easy To Apply, Remove, and Change Styles | Made in the USA',\n       'Indoor/Outdoor Area Rug with Rubber Marine Backing for Patio, Porch, Deck, Boat, Basement or Garage with Premium Bound Polyester Edges Blue 8\"x24\" stair treads (set of 13)',\n       \"MightySkins Skin Decal Wrap Compatible with Apple Sticker Protective Cover 100's of Color Options\",\n       'Rosalind Wheeler Wall Mounted Bulletin Board',\n       'Nail DIP Powder, Classic Color Collection, Dipping Acrylic For Any Kit or System by DipWell (CL - 58)',\n       'Medi Comfort Closed Toe Knee Highs -15-20 mmHg Reg',\n       'New Way 1120 - Crewneck Your Job Could Be Worse Toilet Paper Sweatshirt 4XL Light Pink',\n       'JAM Paper A6 Foil Lined Envelopes - 4 3/4 x 6 1/2 - Black Linen with Gold Foil Lining - 25/pack',\n       \"MightySkins Skin Decal Wrap Compatible with Ring Sticker Protective Cover 100's of Color Options\",\n       \"MightySkins Skin Decal Wrap Compatible with Smok Sticker Protective Cover 100's of Color Options\",\n       \"MightySkins Skin Decal Wrap Compatible with YETI Sticker Protective Cover 100's of Color Options\",\n       '3 1/2\"W x 20\"D x 20\"H Funston Craftsman Smooth Bracket, Douglas Fir',\n       'Ebe Reading Glasses Mens Womens Blue Silver Temples Anti Glare remarkable grade ckb8147',\n       '6pc Boy Formal Necktie Black & White Suit Set Satin Bow tie Baby Sm-20 Teen',\n       'Urbane Urbane Classic Crossover Scrub Top Scrub Top',\n       'Mens Cotton Flat Front Belted Plad Shorts',\n       'Ebe Men Silver Rectangle Half Rim Spring Hinge Reading Glasses a963',\n       'Box Packaging White Deluxe Literature Mailer, 50/Bundle',\n       'Heart Leather Emerald Green 14',\n       'Port Authority J335 Hooded Core Soft Shell Jacket, Dress Blue Navy/ Battleship Grey, XS',\n       'Handcrafted Ercolano Music Box Featuring \"Luncheon of the Boating Party\" by Renoir, Pierre Auguste - New YorkNew York',\n       'Buckle-Down PC-W30348-NM Cameroon Flags Plastic Clip Collar',\n       'Business Essentials 8\" x 8\" x 5\" Corrugated Mailers, 12-Pack',\n       '6 1/4 x 6 1/4 Gatefold Invitation - Mandarin Orange (500 Qty.)',\n       \"Ultra Sleek And Spacious Pearl White Lacquer 18 Note Music Jewelry Box - We've Only Just Begun - NEW\",\n       'Tom Ford Lip Color Sheer 0.07Oz/2g New In Box [Choose Your Shade]',\n       'Elite Series Counter Height Storage Cabinet with Adjustable Shelves, 46\"W x 24\"D x 42\"H, Charcoal',\n       'Mini Water Proof Wireless Speaker for LG Q8, Candy, Phoenix Plus, K11 Plus, BLU Vivo XI+, Studio G4, C5, C4 (Yellow)',\n       \"Awkward Styles Sugar Skull Shirts for Men Jolly Roger Skull and Crossbones Men's Tee Shirt Tops Day of Dead Tshirts Pirate Flag Shirts Skull T-shirts Dia de Los Muertos T Shirts for Men\",\n       'Boss (hub) Boss 0551 Eyeglasses 0INX 58 Black Ruthenium',\n       \"MightySkins Skin Decal Wrap Compatible with Lifeproof Sticker Protective Cover 100's of Color Options\",\n       'E4 Safety Certified Rigid Seat Belt Extension for 2005 Hyundai Elantra Front Seats Gray 3 Inches from Seat Belt Extender Pros',\n       'Pterosaur Wall Decal - dinosaur wall decal, sticker, mural vinyl art home decor - 3765 - Orange, 47in x 24in',\n       'Ebe Reading Glasses Mens Womens Gold Harry Potter Style Horned Rim Anti Glare Cozy zsm5500',\n       'Vickerman 14\" Finial Drop Christmas Ornaments, Pack of 2',\n       'MightySkins Protective Vinyl Skin Decal for YETI Tundra 110 qt Cooler Lid wrap cover sticker skins Bright Smoke',\n       'Sculpey Polymer Clay Just Orange',\n       'EZAUTOWRAP Gray Velvet Suede Texture Cabinet Car Vinyl Wrap Vehicle Sticker Decal Film Sheet Furniture Decoration Peel And Stick',\n       'The Holiday Aisle LED C7 Faceted Christmas Light Bulb',\n       \"Edwards Garment Women's Two Pockets Chino Blend Cargo Pant, Style 8568\",\n       \"Fashionable Girl In Green Dress Tee Women's -Image by Shutterstock\",\n       \"Casual Nights Women's 2 Piece Floral Robe and Gown Set\",\n       'Christopher Radko Glass Plum Frosty Snowman Christmas Ornament #1017624',\n       'AARCO Enclosed Wall Mounted Bulletin Board',\n       'Babor Fluids FP Pure Intense Balancing Fluid 24x2ml Ampules Pro SizeNIB',\n       'A6 Invitation Envelopes w/Peel & Press (4 3/4 x 6 1/2) - Baby Blue (1000 Qty.)',\n       'Coffee Break Lunch Room Furniture FULLY ASSEMBLED \"Ready-To-Use\" 3pc Group BREAKTIME Model 2791 ? Espresso/Silver Metallic...INSTANTLY create a Lunch Break Room!!! (Includes Furniture Cabinets ONLY)',\n       'Ribbon Bazaar Double Faced Satin 2-1/4 inch Leaf Green 25 yards 100% Polyester Ribbon',\n       'Ebe Reading Glasses Mens Womens Amber Red Oval Round Full Frame Anti Glare grade ckbdp9118',\n       'BDK Stylish Design Car Seat Covers with Floor Mats and Stering Wheel Cover Full Set',\n       'Got2b Metallic Permanent Hair Color, M73 Smoky Steel',\n       'billyboards Porcelain Menu Chalkboard',\n       \"Eddie Bauer Women's Favorite Long-Sleeve Crewneck T-Shirt\",\n       'Christian Jesus Prayer The Original Wireless Connection T-Shirt',\n       'Ebe Prescription Glasses Mens Womens Burgundy Black Rectangular Half Rim Anti Glare grade s3130',\n       'Chuan Bei Mu, Tendrilleaf Fritillary (Fritillaria Cirrhosa) Glycerite, Dried Bulb Powder Alcohol-Free Liquid Extract, Yellow Himalayan Fritillary, Glycerite Herbal Supplement 15x4 oz',\n       'Abstract Heart Plant Wall Decal - Wall Sticker, Vinyl Wall Art, Home Decor, Wall Mural - S125 - 12in x 13in, Royal blue',\n       \"MightySkins Skin Decal Wrap Compatible with Razer Sticker Protective Cover 100's of Color Options\",\n       \"Women's Breeze Walker\",\n       \"CafePress - Surf's Up! - Men's Light Pajamas\",\n       \"August Grove 'Sunset Flight' Print\",\n       'Mens 10k White Gold Hammered Comfort Fit Wedding Band Ring',\n       'Efavormart Pack of 5 Premium 17\" x 17\" Washable Polyester Napkins Great for Wedding Party Restaurant Dinner Parties',\n       'Bare Nature Vitamin Iced Tea - Guava Pineapple, 20 Fl. Oz. Bottles, 12 Ct',\n       'Three Things That Makes Good Coffee: Sugar, Sugar and More Sugar Wall Decal - wall decal, sticker, quotes and sayings - W5082 - Light pink, 35in x 18in',\n       'Unik Occasions Sparkling Collection Monogram Cake Topper, Silver',\n       \"Winston Porter 'Pink Spring Flowers' Print\",\n       'Ebe Men Gold Shield Half Rim Spring Hinge Reading Glasses a970',\n       'Ebe Men Black Rectangle Half Rim Spring Hinge Eyewear Reading Glasses 2036',\n       'Heavy Duty Handlebar Motorcycle Mount Holder Kit fits Apple iPad 2 3 & 4',\n       \"Ice Skates Jackson Supreme 5500 Women's Boot\",\n       'Drive Medical Cordless Patient Alarm Pad',\n       'Nostalgic Warehouse Meadows Privacy Door Knob with Meadows Plate',\n       'Z800 Workstation, 2x Xeon E5530 2.4 4GHz Quad Core Processors, 32GB DDR3 Memory, 1x 480GB SSD, NVIDIA Quadro K5000, Windows 10 Professional 64-bit Installed',\n       'Eye Buy Express Kids Childrens Reading Glasses Violet Rectangular Full Frame Style Anti Glare grade d5343',\n       'Halloween Bats Wall Decal - Wall Sticker, Vinyl Wall Art, Home Decor, Wall Mural - W5014 - Royal blue, 16in x 10in',\n       'Toddler Kid Boys Girls Lightweight Breathable Trendy Slip-on Sneaker (6M US Toddler, Red)',\n       'Style and Apply Banksy Paratrooper Rat Wall Decal',\n       \"QMI 3'' Center Bar Pull\",\n       'Junior Straight Outta Kauffman Crown Baseball Sports DT T-Shirt Tee',\n       'Toy State 94146 Aqua Split full function RC boat Vehicle',\n       '14K White Gold Diamond Natural Amethyst Ring 3-Stone Oval 8x6mm with Swiss Blue Topaz, sizes5-10',\n       'Rear Drive Belt', 'Darby Home Co Bronze Cork Board',\n       'Eye Buy Express Kids Childrens Reading Glasses Pink Oval Round Rectangular Anti Glare grade sk9019',\n       'Basics - Blank Adult Hoodie Sweatshirt',\n       '8 1/2 x 14 Cardstock - Crystal Metallic (500 Qty.)',\n       'Ames Walker AW Style 16 Sheer Support 15-20mmHg Moderate Compression Knee Closed Toe Knee High Stockings - Relieves pain of tired aching legs-Helps prevent varicose veins',\n       'The Original Tush Cush-Navy',\n       'Xu Chang Qing, Paniculate Swallowwort (Cynanchum Paniculatum) Glycerite, Dried Root Powder Alcohol-Free Liquid Extract, å¾\\x90é•·å\\x8d¿, Glycerite Herbal Supplement 4 oz',\n       'Fringe Table Skirt Purple 9 ft x 29 inches Pkg/1',\n       'Ebe Reading Glasses Mens Womens Black Blue Retro Acetate Anti-Glare Lenses Light Weight c1219',\n       \"Mediven Vitality Women's Socks - 30-40mmHg Standard Petite MEDIVIT30-40-P\",\n       'Buckle-Down Martingale Dog Collar - Mohawk Skulls - NO Star',\n       \"Pull-Ups Girls' Learning Designs Training Pants (Choose Pant Size and Count)\",\n       'Window Tint Film Mitsubishi (all doors) DIY',\n       \"MightySkins Skin Decal Wrap Compatible with Casio Sticker Protective Cover 100's of Color Options\",\n       'Faora Secret Wishes Adult Halloween Costume',\n       'Holly N Jolly Screen Print Soft Mesh Harness Pink Extra Large',\n       'Best Freakin Gigi Ever, Stacked Black Gift for Grandma - Ladies Short Sleeve Classic Fit Tee',\n       'Primary Collection Rectangular Activity Table, 30w x 72d x 25h, Fusion Maple',\n       'Porsche Boxster 8B1 Carmon Red Metallic Quart Basecoat Paint for Car Auto Truck',\n       'Port Company PC61 Traditional MenÃ¢â‚¬s T-Shirt - Athletic Maroon - Large',\n       'Ishow 7A Brazilian Loose Wave Frontal Closure with Bundles 13x4 Ear to Ear Lace Frontal Closure with 3 Bundles, 12\"14\"16\" with 10\"',\n       'HMK Superior TR Jacket Blue/Orange 2XL HM7JSUP2BLO2X',\n       '180/55ZR-17 (73W) Bridgestone Battlax S21 Hypersport Rear Motorcycle Tire for MV Agusta Stradale 2015-2016',\n       'Ebe Reading Glasses Mens Womens Round Black Silver Full Frame Engraved Anti Glare grade ckbtr9091',\n       'Youth Zoom 2.0 Shirt-222620',\n       'Owlpack Clear Poly Bags with Open End, 1.5 Mil, Perfect for Products, Merchandise, Goody Bags, Party Favors (4x4 inches)',\n       '1500 Thread Count Hospitality Fitted Sheet 1-Piece Fitted Sheet, Queen Size, Burgundy',\n       'Country Brook Design Economy Nylon Dog Collars(Various sizes & colors available)',\n       \"14.1' WXGA Glossy LCD CCFL Screen For Compaq Presario CQ45-105AU\",\n       'Diamond Solitaire Promise Ring in 14K White Gold (1/10 cttw) (I-Color, SI3-I1 Clarity) (Size-7)',\n       'PeanutsÃƒâ€šÃ‚ Valentine Sign Craft Kit (Pack of 12)',\n       'NYDJ Womens Marilyn Slimming Fit Medium Wash Straight Leg Jeans',\n       'Ishow Hair 7A Brazilian Water Wave Virgin Hair 3 Bundles with Baby Hair with Closure Brazilian Virgin Hair, 20\"20\"20\"with 18\"',\n       '36.5 in x 60.5 in Aluminum Frame Vinyl Bulletin Board - Ebony',\n       'OPI Nail Lacquer, OPI Classics Collection, 0.5 fl oz - Tutti Frutti Tonga S48',\n       '1.5\" Flexo Remix PET Expandable Braided Sleeving - Jungle - 40FT',\n       'Ebe Reading Glasses Womens Mens Tortoise Regular Hinge Acetate Retro Anti Glare 268116',\n       'Round Keyhole Thin Plastic Horn Rim Tri-focal Progressive Reader Eyeglasses Green Pink Stripe 3.0',\n       'Ebe Glasses Men Women Rx Reading Rectangular Full Frame Professional TR-90 ckbj0178w',\n       'Replacement for VOLKSWAGEN PASSAT CC YEAR 2011 CORNERING LIGHT replacement light bulb lamp',\n       \"MightySkins Skin Decal Wrap Compatible with Smoant Sticker Protective Cover 100's of Color Options\",\n       'Replacement for HARLEY DAVIDSON FXD DYNA SUPER GLIDE 1340 CC YEAR 2000 DUAL BEAM replacement light bulb lamp',\n       'Awkward Styles Unisex USA Flag Pitbull Graphic Sweatshirt Tops American Flag Pitbull Patriotic 4th of July',\n       '94\" Bottom Width x 96 1/2\" Top Width x 5 1/2\"H x 1 3/4\"P Stockton Crosshead',\n       'ECR4Kids 48in Cog Premium Thermo-Fused Adjustable Activity Table Grey/Blue/Blue - Standard Ball',\n       'ValueBull Bully Sticks Dog Chews, 6 Inch Regular / Thin, All Natural, 10 Count',\n       'Flexible Magnetic Tape Roll with Adhesive Backing- Super Sticky! Superior Quality! By Flexible Magnets- 30mil x 0.5in x 50ft',\n       'Sony Alpha a6500 Mirrorless Digital Camera with 16-50mm Lens ILCE6500KIT + Sony E 55-210mm f/4.5-6.3 OSS Lens (Black) SEL55210/B + NP-FW50 Replacement Lithium Ion Battery + Deluxe Cleaning Kit Bundle',\n       '1.30 Carat (ctw) 14K White Gold Round Diamond Ladies 3 Stone Bridal Engagement Ring Set With Band',\n       'Foxnut (Euryale Ferox) Glycerite, Organic Seeds Alcohol-Free Liquid Extract, Qian Shi, Foxnuts, Glycerite Herbal Supplement 2x2 oz',\n       'Ply Gem Raised Panel Shutter (Set of 2)',\n       'COVERGIRL Outlast All-Day Moisturizing Lip Color, 560 Wild Berry',\n       'Mens NCAA UCLA Bruins Pull-over Hoodie (Black)',\n       'Endura SFX Face Off, Prime Blue 4oz',\n       'USB 2.0 Cable - A-Male to B-Male for Kodak Scanner (Specific Models Only) - 10 FT/2 PACK/IVORY',\n       \"Maevn PURE Women's 3 Panel V-Nect Top & Modern Yoga Pants Scrub Set [XXS - 3XL, FREE SHIPPING]\",\n       '4Legs4Pets by Mahar Pet Cot', 'ANCIENT EGYPT CHART',\n       'Replacement for HILL-ROM EXAMINER 965 replacement light bulb lamp',\n       '\"Soccer\" Vinyl Graphic - Large - Ivory',\n       'Zoan Synchrony Duo Sport Electric Snow Helmet Tourer Graphics Flou Green XXL 821-338',\n       'Augusta 1235 Ladies Triumph Jersey',\n       'UBesGoo Large Dog Pet Crate Kennel Warm Bed Beds Mat Blanke For Pad House',\n       'IN-16/1186 Surfing Rubber Duckies Per Dozen',\n       \"MightySkins Skin Decal Wrap Compatible with Google Sticker Protective Cover 100's of Color Options\",\n       'Ebe Reading Glasses Mens Womens Tortoise Rectanuglar Chic Anti Glare grade ckbdp9123',\n       'MightySkins Protective Vinyl Skin Decal for PowerA Pro Ex Xbox One Controller case wrap cover sticker skins Baby Blue Designer',\n       'Classic Mesh Ivy Newsboy Ivy Cap Hat Crochet Driving Golf Ventair Cabbie',\n       'Puppy Apparel Clothes Clothing Dog Sweatshirt Pullover Coat Hoodie (Gift for Pet)',\n       'HILASON 1200D RIPSTOP WATERPROOF TURNOUT HORSE LIGHT WINTER SHEET GREN PLAID',\n       'Country Brook Design 3/4 Inch Nylon Dog Leash (Various Colors & Lengths)',\n       \"Harriton Ladies' 4.2 oz. Athletic Sport T-Shirt\",\n       \"Ironwood Modular 3'' H x 23'' W Desk Keyboard Platform\",\n       'NATIVITY BB SET',\n       'NEW Jinhao The Shark Spiral Transparent Colourful Office Fine Nib Fountain Pen',\n       'Buckle-Down \"Steaks with MEAT Text\" Martingale Dog Collar',\n       'MightySkins Protective Vinyl Skin Decal for HP Pavilion x360 11t Touch Laptop case wrap cover sticker skins',\n       'Iguana Med Med Flex II Unisex Stealth Cargo Pant Scrub Bottoms',\n       'CafePress - Fluent In Song Lyrics, Movie Quotes, Sarcasm T-Shi - Light T-Shirt - CP',\n       'Port Authority K110 Dry Zone UV Micro-Mesh Polo, Gusty Grey, S',\n       'Stepping Stones',\n       'Eye Buy Express Prescription Glasses Mens Womens Orange Bold Rounded Rectangular Translucent Reading Glasses Anti Glare grade',\n       '16 inches 40 inches \"MERRY CHRISTMAS\" Letter Foil Inflated Balloon Float Helium Aluminum Balloons for Christmas Decoration',\n       'Claire\\'s Parking Only All Others Will Be Towed Name Gift Novelty Metal Aluminum 18\"x24\" Sign',\n       'Coral Parchment Treat Bags', 'Folding Step Stool',\n       'Fruit of the Loom T-Shirts HD Cotton Tank Top',\n       'Strong Leather Company 76900-5042 Side Open Badge Case 504 - 76900-5042 - Strong Leather Company',\n       'MAOTAIZI Electric Pencil Sharpener Battery Operated Automatic Single-hole Pencil Sharpeners with LED Light for Classroom Office Home Art Drawing Blue',\n       'Spry Peppermint Gum 55 ct Jar',\n       'awesome since 1948 - 69th birthday gift t-shirt - royal',\n       'batman dc comics superhero large shield collage seatbelt fun pet dog cat collar',\n       'Country Brook Petz Southern Forest Camo Featherweight Deluxe Dog Collar',\n       'SoCozy Curl Gel-Cream 4oz',\n       'Peel-n-Stick Poster of Home Florida For Sale Buy Sell American Mortgage Poster 24x16 Adhesive Sticker Poster Print',\n       'DuraTech Roof Support Trim',\n       'I Love my Stepmother- sun and rainbow letters Toddler T-Shirt',\n       'SkylineWears Womens One Piece Fashion Playsuit Ladies Jumpsuit',\n       'A Windy Spring Day - eBook',\n       'Fly Racing Kinetic Vector Pants Red/Black/Yellow 30 369-53230',\n       'Mightyskins Protective Vinyl Skin Decal Cover for OtterBox Commuter iPhone 5/5s/SE Case Cell Phone wrap sticker skins Distortion',\n       'Ecclesiastes 8:15 so I commend the enjoymentÃ¢â‚¬Â¦ Vinyl Decal Sticker Quote - Small - Metallic Gold',\n       'Z620 Workstation, 2x Xeon E5-2630 v2 2.6GHz Six Core Processors, 48GB DDR3 Memory, 1x 2TB Hard Drive, NVIDIA Quadro K4000, Windows 10 Professional 64-bit Installed, (Refurbished)',\n       \"Women's Aerosoles Spin Cycle Ballet Flat\",\n       'DecoArt ADC-17 Americana Chalky Finish Paint, 8-Ounce, Vintage',\n       '8#-32 x 1/8\" Thread Cup Point Head Hexagon Socket Set Grub Screws Black 50 Pcs',\n       \"SnackWell's Minis Mini Vanilla Creme Sandwich Cookies, 6.25 oz, 5 pack\",\n       'Hibiscus Flowers Wall Decal - Wall Sticker, Vinyl Wall Art, Home Decor, Wall Mural - 2186 - 8in x 19in, Dark green',\n       \"Ash City - North End Men's Reflex UTK Cool Logik Performance Embossed Print Polo\",\n       'MightySkins Skin For HP Envy x360 15z 15\" (2016), (2016) | Protective, Durable, and Unique Vinyl Decal wrap cover Easy To Apply, Remove, Change Styles Made in the USA',\n       'VERA WANG Eyeglasses EILONWY Lilac 52MM',\n       'Buckle-Down Pet Leash - Buffalo Plaid Black Green - 4 Feet Long - 1 2\" Wide',\n       \"Allwitty 1039 - Women's T-Shirt Ipac Pistol Gun Apple Iphone Parody\",\n       'Split Cable, ZebHym,',\n       'MightySkins Skin for Tile Mate w/ Replaceable Battery (2018) - Army Star | Protective, Durable, and Unique Vinyl Decal wrap cover | Easy To Apply, Remove, and Change Styles | Made in the USA',\n       'Gillette Sensor Refill Blade Cartridges, 10 Count + Schick Slim Twin ST for Dry Skin',\n       'Galaxy S6 Case, Samsung Galaxy S6 Case, Njjex [Blue] Rugged Rubber Plastic Impact Defender Slim Hard Case Cover Shell For Samsung Galaxy S6 S VI G9200 GS6 All Carriers',\n       \"Harriton Men's Paradise Short-Sleeve Performance Shirt\",\n       \"Physicians Formula The Healthy Lip Velvet Liquid Lipstick, Raisin' Immunity\",\n       '2Pcs 12mm Width 4mm Thickness EVA Single Side Sponge Foam Tape 3 Meters Length',\n       'Kids Toddler Baby Girls Boys Cartoon Animal Thick Warm Anti-Slip Socks Slippers',\n       'Extreme Networks OUTDOOR IP66 802.3AT GB ETHRT PWR INJCT 100-240',\n       'Wicked Colors grey, 2 oz. (pack of 3)',\n       '4pcs Ultrasonic Animal Repeller, Solar Powered Pest Repeller, Waterproof Outdoor Repellent , Repel Squirrels, Foxes, Birds, Skunks, rod',\n       'ML7-6 6V 7AH REPLACEMENT BATTERY FOR UPSONIC UPSSLIM 1000 + 6V CHARGER',\n       'STC211 30 Inch x 24 Inch 3.1 Mil Open End Transparent Static Shielding Poly Bags CASE OF 100',\n       'Kangol Baron Trilby',\n       'Premium Over-Head Stereo HandsfreeHeadset Headphones w/ Mic for Asus ROG Phone,ZenFone 5, 5 (2018), 5Z, 5Q, 5 Lite (2018), Max Pro (M1),Live (L1),Max (M1) (Blue Pattern) + MND Stylus',\n       'Bally 49 5/8 x 77 1/2 Door Gasket',\n       'Grandeur Fifth Avenue Tall Plate Passage Door Knob',\n       \"MightySkins Skin Decal Wrap Compatible with SnowWolf Sticker Protective Cover 100's of Color Options\",\n       'Nostalgic Warehouse MEABRN_PSG_238_NK Brown Porcelain Solid Brass Passage Knob Set with Meadows Rose and 2-3/8\" Backset',\n       '8mm X 15yd Turquoise Decor Mesh Tubes by Paper Mart',\n       'Replacement for OLYMPUS C-8080 replacement battery',\n       'Remi Collection 24 Inch Towel Bar',\n       'Replacement for FURNLITE TF416 replacement light bulb lamp',\n       'Laptop AC Power Adapter Charger for HP Pavilion dv2035US',\n       'Heepo Fashion Lovely Dog Style Pet ID Tag Collar Necklace Metal Pendant Accessories',\n       'LA Choppers Complete Handlebar Cable And Brake Line Kits Black Vinyl/Stainless Mini Ape Hangers LA-8110KT2B-08B',\n       'Digital electric heating pad, mini (19 x 7\")',\n       'Apple iPhone SE Shockproof Impact Hard Soft Case Cover Keep Calm and Call Mom (White),MIP',\n       'Matrix Color Insider Oil-Cream Developer 33.8oz, PACK OF 2',\n       'MoYo Natural Labs 8 oz Travel Bottle, Empty Travel Containers with Flip Caps, BPA Free PET Plastic Squeezable Toiletry/Cosmetic Bottle (3 Pack, Clear)',\n       \"Mayberry R.F.D. 60's CBS TV Series Floyd's Barber Shop Juniors Tank Top Shirt\",\n       'Darby Home Co Wall Mounted Chalkboard',\n       \"Marvel Men's Hulk Comic Book Cent T-Shirt\",\n       'SparkSettings Frosty Paper Plates Cut Proof Heavy Duty Compostable Square Party Plates Disposable Paper Plastic Plates for All Occasions 20 Count Dessert Salad Plates Caribbean Blue',\n       '740160-001 HP Chromebook 14-Q Laptop Motherboard 4GB RAM w/ Intel Celeron 295...',\n       'All Weather Cornhole Bags - Set of 8', 'Green Hairspray',\n       'MightySkins Skin for Fitbit Charge 3 - Cartoon Mania | Protective, Durable, and Unique Vinyl Decal wrap cover | Easy To Apply, Remove, and Change Styles | Made in the USA',\n       'Rusticware 972 Double Knuckle Cabinet Pull with 5\" Center',\n       'SWE Inc Nyce Nails ProPerfect Instant Nail Makeover',\n       '3x DOT-01 Brand 1400 mAh Replacement Canon NB-4L Batteries for Canon SD400 Digital Camera and Canon NB4L',\n       '\"In Vinyl W.e Trust\" Rasta Quote Men\\'s T-shirt',\n       'Buckle Down Buckle-Down Pet Seatbelt Buckle Dog Collar',\n       'Packagingsuppliesbymail Machine Pallet Wrap Stretch Film 30 In 5000 Ft 80 Ga (10 Rolls) Red Color',\n       'Skinomi Carbon Fiber Black Phone Skin+Screen Protector for Motorola Tundra VA76R',\n       'MightySkins Skin For OtterBox Symmetry Google Pixel 2 XL 5.5â€\\x9d Case - Anime Fan | Protective, Durable, and Unique Vinyl Decal wrap cover | Easy To Apply, Remove, and Change Styles | Made in the USA',\n       '2 Pack Fabric Eyeglass Case, Slip In Eyeglass Case Soft Fits Medium Glasses, Women',\n       \"Women's Aviana 2457 Satin and Lace Minimizer Bra\",\n       'Deago LED Dog Collar Safety USB Rechargeable Flashing Light Pet Leash Adjustable For Party Festival Glowing Reflective (L/Green)',\n       'Hohner Golden Melody Diatonic Harmonica - Key Of G',\n       'ICE BREAKERS COOL BLASTS Chews, Peppermint, Sugar Free, 0.8 Ounce Box (Pack of 6)',\n       'Puppia Dog Soft Mesh Harness and a Leash COMBO Color:Camo Size:Large',\n       'Replacement for RAM 3500 V8 5.7L 730CCA YEAR 2014 FOG 10 PACK replacement light bulb lamp',\n       'Honda Prelude B91M Crystal Blue Metallic Paint Pen For Car Truck or Auto',\n       'Socks- Sockguy - Limited Edition - Lucky AF (SGX) S/M Cycling/Running',\n       '3 Pack Newbee Fashion- \"Butterfly\" Thin Design Gold Emblem Reading Glasses with Lanyard +1.75',\n       \"Men's 1ct Diamond Ring In 14K Rose Gold I-J-K I1-I2 Size 10\",\n       'ifrogz Tadpole On the Go Bluetooth Speaker w/ Belt Clip - Blue',\n       'Bee Pollen Granules (16 oz, ZIN: 528591) - 2-Pack',\n       'Sunco Lighting 16 Pack A19 Dusk to Dawn 9W LED Light Bulb 2700K, Soft White',\n       'Election 2016 Carly Fiorina Varsity Black Adult Tank Top',\n       'Skin For Pax Era | MightySkins Protective, Durable, and Unique Vinyl Decal wrap',\n       'Planet Wise Large Lite Wet Bag, To the Point',\n       'Studded Dragon Hoodies Pink XXL - 18',\n       'Heepo 1Pc Unisex Compression Leg Sleeve Sock Sports Running Football Calf Support Brace',\n       'ACER ASPIRE ONE AOD250-1026 Laptop Screen 10.1 LED BOTTOM LEFT WSVGA 1024x600',\n       'CHRYSLER OEM 07-09 Aspen Dash Cluster Switch-Switch Bezel 5JG50DX9AB',\n       'Office Depot Round Key Tags, 1.25in. Diameter, Assorted Colors, Pack Of 50, XS007001A',\n       'Sport-Tek Ladies PosiCharge Competitor Tee',\n       'Grobust Natural Balance 180 VCaps',\n       'Gain flings! plus Aroma Boost Laundry Detergent Pacs, Moonlight Breeze, 57 Count',\n       'Western Digital WD30EURS-73TLHY0 3TB DCM: HARNHTJMAB',\n       'Toshiba Satellite 5205-S506 Drivers Recovery Restore Resource Utilities Software with Automatic One-Click Installer Unattended for Internet, Wi-Fi, Ethernet, Video, Sound, Audio, USB, Devices, Chipse',\n       \"Eddie Bauer Women's Passenger Ponte 5-Pocket Pants\",\n       'Collapsible Rectangular Plastic Folding Clear Lens Reading Glasses Brown 2.5',\n       'Mightyskins Protective Skin Decal Cover for Samsung Chromebook 11.6\" screen XE303C12 Notebook wrap sticker skins',\n       'Travel Cosmetic Makeup Toiletry Case Portable Wash Organizer Storage Pouch Bag',\n       \"Winston Porter 'Fogo, New Foundland' Print\",\n       'Anodized Clutch Reservoir Cap Blue for KTM 250 XC-W i (Fuel Injected) 2018-2019',\n       'Paasche Vision Airbrush with .2mm Head - Airbrush Only',\n       'Unisex F**k It Short Sleeve Shirt',\n       \"Ebern Designs 'Cross Dressing' Print\",\n       'MightySkins Skin for Facebook Portal+ - Acid | Protective, Durable, and Unique Vinyl Decal wrap cover | Easy To Apply, Remove, and Change Styles | Made in the USA',\n       'OMNIHIL Replacement 2-Port USB Charger+(WHT-30FT)MICRO-USB for Boxtron Hercules X3: Qualcomm Quick Charge 3.0, 10400mAh ultra slim power bank',\n       'Z420 Workstation, 1x Xeon E5-1650 3.2GHz Six Core Processor, 64GB DDR3 Memory, 1x 600GB 10K Hard Drive and 1x 1.4TB PCIe SSD, NVIDIA Quadro 2000, Windows 10 Pro 64-bit Installed, (Refurbished)',\n       'Apex Ambulator Active Walker Strap - Mens - Black',\n       'Hollow Crown: The Wars of the Roses (DVD)',\n       'STARWEST PLANTAIN LEAF POWDER WC 1 LB',\n       \"USA Olympic - Gymnastics Artistic - Flag - Silhouette Men's T-Shirt\",\n       \"Seachrome Lifestyle & Wellness Left Hand Zuma 38'' Grab Bar\",\n       '2015 Ferrari 488 Spider in Metallic Blue- Limited Edition Resin Scale Model in 1:18 Scale by BBR',\n       'HK Army Zero-G Strapless Harness - Amp - 3+2+4',\n       'American Pit Bull Terrier Blue Nose Dog Pill Box',\n       'New Flower Heart Metal Cutting Dies Stencils DIY Scrapbooking Album Paper Card',\n       \"MightySkins Skin Decal Wrap Compatible with Roku Sticker Protective Cover 100's of Color Options\",\n       'JAM Paper - Papercloops Assortment Pack - 7 Color Packs of Round Circular Paperclips - 50 clips per pack',\n       \"CafePress - Spider-Man Teacher - Women's Dark T-Shirt\",\n       'Sakura Sumo Grip Mechanical Pencil Jumbo Eraser 0.5mm Lead GRAY Case 12ea',\n       'COFFEY Street Sign Rustic Chic Sign Home man cave Decor Gift White G41804821',\n       \"SWAK Designs Women's Plus Size Candice Chiffon Dress\",\n       \"Call of the Wild Howling the Full Moon Women's Racerback Alpha Wolf\",\n       'Pair High Low R1234YF A/C Quick Coupler Connector Adapter for Jaguar Land Rover',\n       'Sweet Pumpkin Body Spray, 2 ounces',\n       'Boyesen Waterpump and Impeller Kit White WPK-07W',\n       \"Awkward Styles Shamrock Flag St. Patrick's Day Shirt Men Irish Gifts for Him Lucky T Shirt Saint Patrick's Day Shamrock Tshirt Irish Clover Shirt Funny Irish Men's Shirt Lucky Irish Flag Tshirt\",\n       'comfortable Flex-Knee Support Brace for Maximum Pain Relief and Stability',\n       'SPS Brand 12V 12Ah Replacement Battery for APC Back 650M - BP650M (3 Pack)',\n       'Phil-Tone Theo Wanne Isotope Alto Saxophone Mouthpiece 8',\n       'Have You Hugged a Cactus Today Infant Creeper',\n       'Super Mario Bros Party Supplies - Balloon Bouquet',\n       'Shell Assortment Chocolate Candy Mold with Exclusive Cybrtrayd Copyrighted Molding Instructions, Pack of 3',\n       'Philips Dimmable Efficient 9.5W A19 Warm 60W Replacement LED Light Bulb (4 Pack)',\n       'MBJ WB670 Womens Fold-Over Maxi Skirt XXXL TAUPE',\n       'Moon And Back Small Pet Owner Matching Gift Outfits Black T-Shirts',\n       'The Decal Guru Hanging Stars Wall Decal',\n       'Springhill Digital Opaque Colors Tan, 60lb, Ledger, 11 x 17, 500 Sheets / 1 Ream, Made In The USA',\n       'Victoria Klein 9076 Purple',\n       '12 Pcs 3D Butterfly Stickers DIY Mural Art Decal Wall Stickers Crafts Wall Paper Decor (Yellow Series)',\n       'Country Brook Design&reg; Purple Hawaiian Step-In Dog Harness',\n       'American Imaginations 21.5-in. W 3H8-in. Ceramic Top Set In White Color - Overflow Drain Incl.',\n       'Ralph Lauren Womens Belen Leather Closed Toe Loafers',\n       '2-Pack Wired 8-bit Controller For Nintendo Entertainment System',\n       'Etro Raving Perfumed Body Milk For Women 200ml/6.7oz',\n       \"L'Oreal Paris Colour Riche Lip Gloss, Soft Wine\",\n       'Volleyball Lolly Chocolate Candy Mold with Exclusive Cybrtrayd Copyrighted Molding Instructions',\n       'MightySkins Skin For Samsung Galaxy J3 (2016), (2016) | Protective, Durable, and Unique Vinyl Decal wrap cover Easy To Apply, Remove, Change Styles Made in the USA',\n       'Election 2016 Keep Calm and Vote Santorum Black Adult Hoodie',\n       'FeitElectric 40 Watt (60 Watt Equivalent) , G25 Halogen, Dimmable Light Bulb, Warm White (3000K) E26 Base',\n       'Black Leather Deluxe Letter-Size Zip-Around Portfolio',\n       'Silky Draped Fit Scoop-Neck Tee, Multiple Colors',\n       'Giant 36in. Purple Balloons (Set of 2)',\n       \"Washington Capitals Adidas NHL Men's Climalite Authentic Practice Jersey\",\n       'Dynarex - Itch Relief - 1% Strength Cream - 72/Case - 1 oz. Tube - McK',\n       \"San Francisco Giants Women's Oversized Long Sleeve Ombre Spirit Jersey T-Shirt - Black\",\n       '[Tech Cover] Samsung Galaxy Note 8 (Black) Slim Impact Resistant Armor Cover Case [Donut Crush Print]',\n       'Lion Brand Homespun Yarn, Available in Mutiple Colors',\n       'Replacement for GE GENERAL ELECTRIC G.E Q50MR16/FL replacement light bulb lamp',\n       '48\" Rect Resin Table & 6x14\" Chairs - Sand',\n       'GI Joe Frostbite Arctic Operations Specialist Hasbro Action Figure',\n       'REDI-TAG 91001 Message Right Arrow Flag Refills, \"Sign Here\", Yellow, 6 New',\n       'Amerlite Niche Sealing Ring',\n       'Tucker Murphy Pet Linneman Scratching Post',\n       \"Awesome Live Love Crew Rowing Large Graphic Women's Cotton T-Shirt\",\n       'A4 Drop Ship Youth 3/4 Sleeve Utility Shirt',\n       'Sunsets Stained Glass Muse Bikini Top D-DD Cups',\n       'Luz de Los Angeles : Alcanza La Felicidad En Todas Las Areas de Tu Vida Con El Amor Angelical',\n       'Skull Crossbones Screen Print Soft Mesh Harness Pink Medium',\n       'New Amusing Pull Back Bus Collection Model Double-decker Bus Alloy Die Cast City Bus For Kid',\n       'The Holiday Aisle 3 Piece Tissue Snowflake Set (Set of 24)',\n       'Holiday Birthday Paper 3D Sailboat Design Decoration Present Greeting Card Red',\n       'CoverGirl Brow and Eye Makers Pencil - Midnight Brown (505)',\n       'Lutema Replacement Lamp with Housing / Bulb for Triumph-Adler SP-LAMP-LP2E',\n       \"CW-X Women's Insulator Endurance Pro Tights\",\n       'For LG V10 / F600 Case, INNOVAA Shockproof Armor Case',\n       'Badlands National Park, South Dakota - Buffalo Insignia - Lantern Press Artwork (24x36 Acrylic Wall Art Gallery Quality)',\n       'Mightyskins Protective Vinyl Skin Decal Cover for BlackBerry Q10 Cell Phone SQN100-3 wrap sticker skins Wolf',\n       '12x Grunge Off Super Soaker Glass Pipe Cleaner 16.9 FL OZ 500ml Advanced Cleaning Technology New & Improved Formula',\n       'storefront christmas LED Decoration Light Gold Color Star Shape Vine Wedding Party event',\n       '(Pre-Owned Original Part) Driver Left Taillight Tail Light Fits 04 05 06 Chevrolet Tahoe GMC Yukon R307594',\n       'Jim Shore Disney Tinkerbell With Snowflake Figurine',\n       'Master Wrist Master II Bowling Support Right Hand, Large',\n       \"New Way 862 - Women's Long Sleeve T-Shirt I Tried It At Home Experiment Fire Funny Humor Small Envy\",\n       'Country Brook Design Premium Schnauzer Ribbon Dog Collar',\n       'Artist Watercolor viridian, 5 ml (pack of 2)',\n       'Yellow Dog Design H-ALP104XL Alpine Roman H Harness - Extra Large',\n       'Birthday Girl Rhinestone Shirt Red XS (8)',\n       'Oopsy Daisy - United We Stand Canvas Wall Art 40x30, Edward Miller',\n       'Phalanx Defense Stealth H&K HK HECKLER & KOCH P30 P-30 Holster Multi-Fit OWB Belt Right Hand, Black + Ultimate Arms Gear 9mm/.40/.45 Mag Pouch',\n       \"Ames Walker Women's AW Style 7061 Lymphedema Compression Armsleeve w/ Silcone Band - 20-30 mmHg AW7061-P\",\n       'Universal Boss Baby Dvd Std Ws Excl',\n       \"New Way 075 - Men's Sleeveless Fbi Female Body Inspector\",\n       'Replacement for ERGOTRON SV42-56E1-1',\n       'Burton & Burton 360 Deluxe Grey Pk/50 Pack/50 Balloons',\n       'Anker PowerCore+ mini, 3350mAh Lipstick-Sized Portable Charger (3rd Generation, Premium Aluminum Power Bank), One of the Most Co',\n       'Mitsubishi Spyder AC10812 Northstar White Gallon Basecoat PaintFor Car Truck or Auto',\n       'Dr. Mercola Natural Flea and Tick Defense - A Repellant To Help Protect Your Pet From Fleas, Ticks, Mosquitoes And Flies - Contains Natural Brazilian Oils - Safe, Natural Pest Deterrent - 8 Fl Oz',\n       \"MLS-Vancouver Whitecaps-Women's Middle Logo Scarf Tee\",\n       '35mm Tapered Dark Brown Latigo Leather Belt With Large Mouth Bass Concho',\n       '(3 Pack) Plastic PAW Patrol Goodie Bags, 9 x 7 in, 8ct',\n       'Yo Gabba Gabba Mens T-Shirt - Hello Friends Distressed Yellow Print Group image',\n       'Yamaha 1DX-H59B0-V0-00 1DX-H59B0-V0-00 Fi - Setting Tool Set; New # 1DX-H59C0-V0-00',\n       'Bulk Buy: Sakura Markers (2-Pack) Koi Water Brush 9ml Tank Round Size 6 3912-2',\n       'Skin For Microsoft Xbox One Elite Controller | MightySkins Protective, Durable,',\n       \"Men's 1ct Diamond Ring In 10K Yellow Gold G-H I2-I3 Size 11.5\",\n       'Alpinestars T-Jaws Air Textile Jacket Black/White Lg 3301514-12-L',\n       'Entra en Frecuencia : El Poder de la Vibracion Personal',\n       'Drag Specialties 0711-0195 Fuel/Oil Line',\n       'Hard Core Brands Lighted Dog Collar, Multiple Colors and Sizes Available',\n       '- GARBO Compatible Lamp for - Projector with 150 Days Replacement Warranty',\n       'Paper Mate Write Bros. Grip Mechanical Pencil, 0.7mm 5 ea (Pack of 2)',\n       '4 ft. x 10 ft. Style C Combination Unit - Porcelain Magnetic Whiteboard and Vinyl Fabric Tackboard - Ocean',\n       'Beroyal Ombre Hair Peruvian Virgin Hair Sraight Hair 3 Bundles Ombre Human Hair Weave T1b/27, 12\"14\"14\"',\n       'Z620 Workstation, 2x Xeon E5-2690 v2 3.0GHz Ten Core Processors, 128GB DDR3 Memory, 1x 480GB SSD, NVIDIA Quadro NVS 510, Windows 10 Professional 64-bit Installed, (Refurbished)',\n       '1/8 ct Infinity Diamond Wedding Womens Stackable Anniversary Ring 14K Rose Gold',\n       'Learning and Performance in Corrections',\n       'UPBRIGHT New AC / DC Adapter For Model: GDJ20482-0520 5.0V Tablet PC DC Power Supply Cord Wall Charger PSU',\n       'Beaufort, North Carolina - Sea Turtle - Watercolor - Lantern Press Artwork (24x36 Acrylic Wall Art Gallery Quality)',\n       'Sax Versatemp Heavy-Bodied Tempera Paint, Primary Yellow, Gallon',\n       'Private Property No Unauthorized Parking Restriction Alert Attention Caution Warning Notice Aluminum Metal Sign 12\"x18\" Plate',\n       'Fleur De Lis Living Boxwood Ball Topiary in Pot',\n       'BRADY Wire Marker,Wire Sleeve,PermaSleeve(R) 3PS-250-2-WT-4',\n       'Skid Plate Foam Black 2\" x 8\" x 10\" for KTM 690 SMC 2007-2010',\n       'Mexico En La Obra de Octavio Paz, I. El Peregrino En Su Patria : Historia y Politica de Mexico, 2. Presente Fluido',\n       'Mens Saucony Grid SD Ether Rose Gold S70310-1',\n       'Fenwick Eagle Salmon/Steelhead Casting Fishing Rod',\n       'Skin For OtterBox Defender Apple iPad Pro 12.9 | MightySkins Protective, Durable',\n       'Gillette Mach3 Turbo Refill Blade Cartridges, 10 Count + Facial Hair Remover Spring',\n       'Truck,Hand,800 Lb DAYTON 6W857',\n       'Superior 1500 Series Brushed Microfiber Soft and Wrinkle Resistant Solid Duvet Cover Set',\n       'PCT D12RBLD Food Container - Combo 250',\n       'RSD Bronzo Leather Gloves',\n       'Reserved Parking For Volunteer Of The Month Alert Notice Warning Aluminum Metal 8\"x12\" Sign Plate',\n       'FMF Snap Intake Wing 18401',\n       '2 Pack - Ocean Blue Omega-3 2100 mg Dietary Supplement Softgels, Natural Orange 120 ea',\n       'Edwards 1604 Battery Replacement (6V 12AH SLA Battery)',\n       'Square Fun Tropical Summer Party Plates, 7 in, 10ct',\n       'EMPIRE KLIX Klutch Designer Wallet Case for LG G2',\n       \"FashionOutfit Women's Solid Open Front Draped Neck Sleeveless Vest Cardigan - Made in USA\",\n       'Pemberly Row 49\" Bath Vanity with Quartz Marble Top in White',\n       'Rayne Mirrors American Made Rayne Stitched Black Leather Blackboard/Chalkboard',\n       '3 Pack - CHI Volume Booster Liquid Bodifying Glaze 8.5 oz',\n       'PetAlive Energy Tonic - All Natural Herbal Supplement Promotes Energy and Vitality in Cats and Dogs Including Older Pets - 60 Veggie Caps',\n       'Fancyleo Christmas Glasses Frames 2 Pack Glittered Eyeglasses Glasses Set No Lens Kids Family Xmas Party Ornaments Gift',\n       'Link Handle Div Of Seymour 64244 File Handle, Short Ferrule, 4-5/8 x 1-3/16-In. - Quantity 1',\n       '38cm Outer Diameter Faux Leather Car Steering Wheel Cover Protector Beige',\n       'James Martin Furniture Brittany 36 in. Single Bathroom Vanity',\n       'Swanson Chew-Q Bioenhanced Coq10 100 mg 30 Chwbls',\n       'Dove Advanced Care Antiperspirant Deodorant Original Clean - 2.6 oz. (Pack of 20)',\n       'Pete The Cat Making New Friends Toddler - Toddler Short Sleeve Tee',\n       '26.25-in. W Above Counter White Vessel Set For 1 Hole Center Faucet',\n       'Unique Bargains Cupboard Cabinet Drawer 36mm Dia Vintage Style Ring Pull Knob Handle 2 Pcs',\n       'LEMISOL PLUS FEMININE WASH 8OZ',\n       'Crochet Headband With Sequin Flower',\n       'Questions Concerning Health : Stress and Wellness in Johannesburg',\n       'Schnauzer Calendar 2019 - Schnauzer Dog Breed Calendar - Schnauzers Premium Wall Calendar 2018-2019',\n       '17 Stories Modern Wall Mounted Bulletin Board',\n       'LG X Power Case, K6 Case - Wydan Wallet Leather Credit Card Flip Book Style Folio Kicktand Feature Cover w/ Wrist Strap Anchor - Mint Green',\n       'Sports Parts Inc 03-110-03 Chaincase Oil Seal - 25mm x 44mm x 7mm',\n       'Black Box Rackmount Fiber Panels 1U Loaded with 24 Single-Mode/Multimode Connectors JPM380A',\n       'SKIN DECAL FOR OtterBox Symmetry Samsung Galaxy S7 Case - Christmas Snowflake Blue Ornaments DECAL, NOT A CASE',\n       'Women with Control Controlways Top with Cut- Out A273771',\n       'Blue Ridge Mountains, North Carolina - Rocky Broad River Scene - Vintage Halftone (16x16 Spun Polyester Pillow, Custom Border)',\n       'Skin Illustrator - Activator, 4oz',\n       'INSTEN Hard Snap-on Dual Layer Hybrid Case Cover For Apple iPhone 6 Plus/ 6s Plus',\n       'Replacement for VOLKSWAGEN BEETLE YEAR 2007 GLOVE COMPARTMENT LIGHT 10 PACK replacement light bulb lamp',\n       'CHRYSLER OEM 2017 Pacifica-Outside Exterior Door Handle Right 5RR20KBXAC',\n       'PowerPoint 2013 for Dummies',\n       \"Medaglia D'Oro Instant Espresso Coffee, Original, 2 Oz, 1 Ct\",\n       'Spencer Multifunction Baby Nappy Diaper Backpack Large Capacity Mummy Maternity Bag Waterproof Travel Laptop Backpack for Baby Care - Red',\n       '32 Square DIL14GWG 0.25 in. Oversized 3D Dinosaur Puzzle - Dilophosaurus&#44; Green&#44; White & Green - 44 Piece',\n       'CafePress - FIN Nuts Squirrel - Cute Infant Baby Football Bodysuit',\n       \"Women's 3/4 Sleeve 2Fer\", 'Unilume LED Slimline',\n       'Mega Cap Headwear Terry Cloth Headband',\n       'Style and Apply Magic Fairy Wall Decal',\n       '30m 20mm Dia Insulated PE Heat Shrink Tube 2:1 Shrinkage Ratio Waterproof Black',\n       'SHANY Silky Shimmer Eye Shadow, Golden Flame',\n       '031 - Unisex Long-Sleeve T-Shirt Disobey V For Vendetta Anonymous Fawkes Mask',\n       \"MightySkins Skin Decal Wrap Compatible with Fat Shark Sticker Protective Cover 100's of Color Options\",\n       \"Women's Rialto Adora Ballet Flat\",\n       'Cottcuboaba Unisex Bear bathing Softe baby bath towel',\n       '(2-Pack) StealthShields Tablet Screen Protector for Lenovo IdeaPad Yoga 11 (U...',\n       '2PET Puppy ID Collars - Adjustable & Reusable Bands -Perfect for Identification Twelve Colors ID Bands. All Breeds 14\" Long',\n       'MightySkins Skin For Samsung Chromebook 3 11.6\", 11.6\" | Protective, Durable, and Unique Vinyl Decal wrap cover Easy To Apply, Remove, Change Styles Made in the USA',\n       'Mens Colorado State Rams Short Sleeve Polo Shirt - XL',\n       'Introduction to Policing 3rd Ed. + Law Enforcement Interpersonal Communication and Conflict Management',\n       'Country Brook Design Premium Puppy Picnic Ribbon Dog Collar',\n       \"Gorilla With Expensive Camera Tee Men's -Image by Shutterstock\",\n       '14K Yellow Gold Natural Citrine, Opal & Lemon Quartz Ring 3-Stone 7x5 mm Oval Diamond Accent, sizes 5 - 10',\n       'Buckle-Down Pinocchio Poses Black White Confirm Name Disney Breakaway Plastic Clip Collar, Narrow-Large',\n       'Simplicity 3 Pack Elastic Hair Ties White/Pink/Pink Leopard, 24 Count',\n       'Silver Metallic Foil Streamers', 'Tulane Green Wave Muscle Mug',\n       'Superb Choice 4-cell HP Pavilion Sleekbook 15-B117El Laptop Battery',\n       \"Turkey Olympic - Archery - Flag - Silhouette Girl's Cotton Youth T-Shirt\",\n       'Painters Touch 1966-502 Qt Pnt Tch Apple Red',\n       'Florida LGBT Gay Pride Rainbow White Juniors V-Neck T-Shirt',\n       'Numero Uno by Rasasi - 75 ml',\n       \"Men's Grooming Set - Comes with Gift Box - Black Shaving Mug with Knob Handle...\",\n       'Vanity Fair Smoothing Comfort Brief',\n       'Buckle-Down \"Skewed Squares Stacked\" Martingale Dog Collar',\n       'Ergotron - 97-586 - Ergotron TeachWell 97-586 Desk Mount for Flat Panel Display - 22 Screen Support - 14.11 lb Load',\n       'Barcelona Game, Level 1, Pearson English Active Readers',\n       'Parisian Pet Poop Bags Dog Waste Bags, Refill Rolls',\n       'Lenovo THINKPAD T440P 20AN0072IX Laptop Screen 14 SLIM LED BOTTOM RIGHT WXGA HD',\n       '20pcs Cabinet Cupboard Drawer Door Stainless Steel Pull Handle 4.5\" Long',\n       'Bone Shaped American Flag Screen Print Shirts White XXL - 18',\n       'Girls Dress Up Kids Crafts Hair Kit With Hair Makes 10 Unique Hair Accessories Assortment of Kids Fashion Headbands Craft Kit Perfect Beauty Shop Play Date',\n       'Buckle-Down \"Stripes Red Blue Green\" Dog Leash',\n       'Pro Pinstripe Jersey Sleeveles',\n       'Sheng Yang SY12100 12V 9Ah Sealed Lead Acid Battery - This is an AJC Brand Replacement',\n       'Lutema TV Replacement Lamp with Housing / Bulb for Mitsubishi WD-65738',\n       'Polyamide Imide (PAI) 4203 Round Rod, Diameter: 1.750 (1-3/4 inch), Length: 8 inches',\n       'Avon Grips Air Cushioned Grips - Gatlin - Black , Color: Black AIR-90-AN-FL-GA',\n       'Iso I Color Permanent Conditioning Creme Hair Color (Color : 6CR Blood Orange)',\n       'Replacement for LIGHT BULB / LAMP F8T5/CW-TF replacement light bulb lamp',\n       'Halloween Wolf Costume Black Mens T Shirt',\n       \"Exclusive Women's Tank with Keyhole Front and Back - Blush - Medium\",\n       'ILive _ Stereo Earbuds _White_',\n       'Harper\\'s Parking Only All Others Will Be Towed Name Gift Novelty Metal Aluminum 8\"x12\" Sign',\n       'Mercury Mercruiser Quicksilver New Oem Part # 90-8M0056559 Manual-Parts',\n       'Purity Home 100% Combed Compact Cotton Sheet Set,3 Piece Set, Bestselling TWIN SHEETS PERCALE Weave,Garment-Washed,Cool & Breathable, Smooth & Soft, Fitted Sheet Fits Up to 16\" Deep Pocket, KHAKI',\n       'Hazelnut SWP Decaf Singlicious Servings',\n       'Christmas Presents Between Friends Chinese Crested Black Sticky Note Holder',\n       'Yorkie Dog with a Bow Flat Print Design Black Rubber Phone Case That Is Compatible with the Apple iPhone 7/8',\n       'HP Storageworks P2000 Lff Drive Enclosure I/o Module',\n       '1-1/2 X 50 Yards Red Trevia Taffeta Wired Ribbon by Paper Mart',\n       'Venosan VenoSoft 20-30 mmHg Below Knee Stocking Closed Toe',\n       'For LG Aristo 2 / LG Tribute Dynasty / LG K8 (2018) / LG Fortune 2 / LG Zone 4 (2018) Case Brushed Metal Texture Hybrid TPU MetoGuard Phone Cover (Blue Dragon)',\n       'Da-Lite Tensioned Cosmopolitan Electrol - projection screen - 84 in (83.9 in)',\n       \"Saga of the Sioux : An Adaptation from Dee Brown's Bury My Heart at Wounded Knee\",\n       'FurHaven Pet Dog Bed | Cooling Gel Memory Foam Orthopedic Faux Fleece & Corduroy Lounge Pet Bed for Dogs & Cats, Sandstone, Jumbo',\n       'Rumiano Organic Mozzarella Cheese Bar',\n       \"Wrangler Men's Western Cowboy Cut Slim Fit Jean - Stonewashed\",\n       '10m Universal Car Door Edge Guards Trim Molding Protection Strip Scratch Protector',\n       \"ECR4Kids 48'' Square Activity Table\",\n       'Replacement for TOYOTA PICK-UP YEAR 1991 FRONT TURN SIGNAL 10 PACK replacement light bulb lamp',\n       'Emerald Scallops PRINT DESIGN - Wallet Phone Case for the iPhone 10/X/XS - iPhone X Wallet Case - iPhone 10 Wallet Case - iPhone XS Wallet Case',\n       'Access Womens 15-20 mmHg Open Toe Knee High Compression Stockings&#44; Crispa - Large Long',\n       'Aquarium Fish Tank Artificial Leaves Water Grass Plant Ornament Landscape Green',\n       'Pair of Two Rear Hatch Door Liftgate Lift Gas Supports Gas Shocks Gas Struts Arms replacement 7.5\" extended length x 5.5 \" compressed length x 20 LB Pressure',\n       \"Lucy's Gluten Free Ginger Snap Cookies, 5.5 OZ (Pack of 8)\",\n       'KENSIE Eyeglasses CHARM Teal 47MM',\n       'Snowflake Rhinestone Shirt Aqua M - 12',\n       'Child Craft Toddler Bed Guard Rail',\n       'Nostalgic Warehouse Meadows Privacy Door Knob with Studio Plate',\n       'Benmer Strap Quick Release Clip Clamp Mount 360 Degree Rotation for Gopro Hero 4 3+ 3 2 1 Black',\n       'Spicebomb by Viktor & Rolf - Men - Eau De Toilette Spray 5 oz',\n       'Global Portuguese',\n       'Desantis Mini Scabbard Holster fits KAHR P380, Right Hand, Tan - 019TAR8Z0 - Desantis',\n       'iPhone 6/6s Ultra-Clear Screen Protector Glass, Tempered Glass Screen Protector for Apple iPhone 6/6s',\n       'Cat Mod Garden Complex - Unfinished/Black',\n       'IN-70/65 Blue Paper Streamers 2PK',\n       'Frankincense (Boswellia Serrata) Tincture, Organic Dried Resin Liquid Extract, Ru Xiang, Herbal Supplement 2 Gal',\n       \"Trademark Fine Art Fiona Stokes-Gilbert 'Ground Coffee' Canvas Art\",\n       \"Men's 212 Vip By Carolina Herrera\",\n       'Nearly Natural Rubber Leaf Artificial Plant in Marble Finished Vase (Real Touch)',\n       'Watership Down [DVD]',\n       'Replacement for ORBITEC T 12 PSB GREEN LED REPLACEMENT replacement light bulb lamp',\n       'Drive Medical Supp Trunk Walker Blk Sm, Each - Model CE 1080 S',\n       'Funny Design Workout Tank Top - Absolutely All the Chocolate Chip Cookies',\n       \"Sigvaris Secure 553 Women's Closed Toe Thigh Highs w/Silicone Band - 30-40 mmHg\",\n       'Is It To Late To Be Good Grinch Christmas Mens Tank Top Shirt',\n       'MUNDAZE American Flag Case Cover For Samsung Galaxy J7 Perx / Halo / J7 Prime / Sky Pro / J7 (2017)',\n       'The Wonder Years TV Show Original Hipster Paul Pfeiffer Adult T-Shirt Tee',\n       'Bulk Buy: Ruby Rock It (6-Pack) Fundamentals Sentiments Stickers Mini Sentiments FUN21',\n       'Classic 4mm Domed Titanium Wedding Band, Unisex Engagement Band (Available in Sizes 4-14)',\n       'Mirage 624-136 BK16 Mardi Gras Fleur De Lis Bandana Pet Collar Black Size 16',\n       \"MightySkins Skin Decal Wrap Compatible with Nest Sticker Protective Cover 100's of Color Options\",\n       '12ct Light Gunmetal Gray Shatterproof 4-Finish Christmas Ball Ornaments 4\" (100mm)',\n       'Classique 766 Post Mastectomy Fashion Bra-Beige/Skin-38D',\n       'Partridge Berry (Mitchella Repens) Tincture, Dried Herb Liquid Extract, Squaw Vine, Herbal Supplement 64 oz',\n       'Cavalier Spaniel St. Patricks Day Shamrock Mouse Pad&#44; Hot Pad Or Trivet',\n       'Fintie Tempered Glass Screen Protector for Samsung Galaxy Tab E 8.0 - [Scratch Resistant] Premium HD Clear [9H Hardness]',\n       'Places Near the Mountains, from the Community of Amsterdam, Virginia, Up the Road to Catawba, on the Waters of the Catawba and Timber Creeks, Along Th',\n       'Replacement for DODGE DAKOTA YEAR 2010 BACK UP LIGHT 10 PACK replacement light bulb lamp',\n       'Bones & Jokes', \"Diamond Clear Jewel Tone 3' Latex Balloon\",\n       'The Holiday Aisle 3D Glitter Star Ornament',\n       '2019 Classic Comic Book Covers 2019 Desk Calendar, Cartoons | Comics by Retrospe',\n       'Replacement for PERKIN ELMER AANALYST 400 HOLLOW CATHODE LAMP YTTRIUM Y',\n       'San Jose Sharks 2018 Calendar',\n       'Pet Cat Puppy Hoodie Single Breasted Sleeved Apparel Coat Clothes Gray Size XL',\n       'Abba Volumizing Gel 6.8 oz 6 pack',\n       'Wet n Wild Wild Shine Nail Color, Night Prowl, 0.43 fl oz',\n       \"100 CLEAR Reclosable Zipper Bag. 4' x 6' - 2 mil. thick\",\n       'Sosoft 20 - 30 Knee High Brocade Closed Toe Compression Stocking Black&#44; XL',\n       'Offray 423806 0. 25 inch Simply Sheer Asiana Ribbon - 100 Yards, Burgundy',\n       'Always in My Heart',\n       'Musica Sveciae: Swedish Fiddlers Of The Past, Vol. 26-28',\n       'Refurbished Microsoft D5S-00004 Touch Cover Keyboard for Surface - Cyan Blue',\n       'GREENCYCLE 5PK 12mm 7m Black on Silver Label Tape for Dymo D1 45022 LabelManager LabelPoint LabelWriter Label Maker',\n       'LAU PARTS 3Bld 20Dia 33Deg Cw Fan Blade OEM 60557101',\n       'Spiral Birthday Candles, 36 Count',\n       'Funko Mystery Minis Vinyl Figure - Batman Arkham Series - CATWOMAN',\n       'Unique Bargains 3 x Straight Through Quick Union Pneumatic Fitting 4mm x 1/8\" PT Male Thread',\n       'St. Marys, Georgia - My Happy Place - Simply Said - Lantern Press Artwork (12x8 Acrylic Wall Sign)',\n       'Leg Avenue SWAT Commander Childrens Costume',\n       'McDonalds McCafe, T-Discs for Tassimo Hot Beverage System (56 Count) (4x6oz)',\n       'Replacement for DOLAN JENNER 02-015850-0000 replacement light bulb lamp',\n       'Replacement for SVP841003 PANEL COWL AWD CRIMSON RED',\n       'Howe Gummi Bears, 15 Oz.',\n       'Travel Cosmetic Toiletry Bag Case Portable Storage Pouch Hanging Bag',\n       'Cross Jot Zone Journal, Black/Slate, Medium (AC273-2M)',\n       'No Escape No Way Out (CD)',\n       'Primary Drive 520 ORH X-Ring Chain 520x108 for Honda CBR300R 2015-2017',\n       'Birthdays For Him Luxury Topper Set, A4',\n       'Replacement for SUBARU DL H4 1.8L 490CCA/TURBO YEAR 1989 STEP OR 10 PACK replacement light bulb lamp',\n       'Brand, Vasotate 100 tabs',\n       'EagleCell Zebra Hard Rhinestone Cover Case For BLU Studio 5.5 - Black/Silver',\n       'Gillette Fusion ProGlide Power Razor Cartridges 6.0 ea(pack of 2)',\n       'Darby Home Co Wall Mounted Bulletin Board',\n       'TExES Bilingual Education Supplemental (164) Secrets Study Guide : TExES Test Review for the Texas Examinations of Educator Standards',\n       'DreamLine SHEN-2428183630 Unidoor Plus 72\" High x 46\" Wide x 30-3/8\" Deep Hinged',\n       'IMMORTAL 1978 - A Legend Was Born - 39th Birthday Gift T-shirt - Dark Heather',\n       'Leftover Salmon', 'Infocus IN34C Replacement Color Wheel',\n       '1st Birthday Noahs Ark Animals Baby Bib',\n       'Marshalls Creek Spices CHAMOMILE',\n       'Replacement for HIKARI JCD6231 replacement light bulb lamp',\n       'Casual Blouses Plus Size Lattice Marled Handkerchief T-shirt For Women',\n       'Daily Chef Heavy Duty Plastic Cups, 18 Oz, Red, 252 Ct',\n       'charger for sony dvd handycam dcr-dvd610 dcr-dvd710 dcr-dvd810 dcr-dvd910 dcr-dvd92 dcr-dvd92e',\n       'ITA-MED Elastic Duo-Adjustable Back Support Belt (9\" Wide)',\n       \"Columbia Lions Men's Crew Neck Sweatshirt - Navy\",\n       'Elements Warm Faux Fur Stylish Jacket For Dogs Available In Rose Or Tan Almond (Large Pink Rose)',\n       'NGS Gaming Headset with LED lights - GHX-500',\n       'Archie Comics LAUGHING JUGHEAD Licensed Juniors V-Neck Tee Shirt - MD',\n       'Replacement for LEXUS GS430 YEAR 2006 FRONT TURN SIGNAL 10 PACK replacement light bulb lamp',\n       \"I'll Be Your Shelter\",\n       'Trend Enterprises T-83315 1.25 in. Holiday Pals & Peppermint Scratch N Sniff Stinky Stickers&#44; Large Round',\n       'New England Patriots NFL Pro Line by Fanatics Branded Youth Super Bowl LIII Champions Two-Minute Drill Pullover Hoodie - Navy',\n       'Good (Vinyl)',\n       'Replacement for GMC ENVOY YEAR 2004 STEP COURTESY LIGHT 10 PACK replacement light bulb lamp',\n       'Drunken Monkeys', '2019 Minecraft (Bilingual FRE) Wall Calendar',\n       'American Foxhound Christmas Sticky Note Holder BB8433SN',\n       '6 Pack - TUMS Ultra 1000 Tablets Assorted Tropical Fruit 72 ea',\n       'Institutional Beach Ball, 48\"',\n       'MAXTOR 2B010H1110662 HP/MAXTOR 10GB IDE HDD - 3.5INCH - 5400RPM',\n       'Buckle-Down DL-W30350-N Narrow 0.5\" Cassette',\n       'Replacement for ZORO 4WW18 4 PACK replacement light bulb lamp',\n       'Gerber 2nd Foods Chicken & Rice Nutritious Dinner Baby Food, 4 oz. Tubs, 2 Count',\n       'Halloween Pretzel Food Costume Mens T Shirt',\n       'Fast Charger for LG G4 Charger Fast Car Charger + Type-C Cable by Ixir - (Quick Charge 3.0 Two-Ports) Compatible with Samsung Products up to 75% faster charging!',\n       'Ishow Malaysian Virgin Hair Straight 3Bundles Malaysian Human Hair, 20\"20\"20\"',\n       'Rohl A2400 Country Bath Shower Valve Trim, Available in Various Colors',\n       'American Imaginations 23.75\"W x 18.25\"D Quartz Top, Bianca Carara For Single Hole Faucet',\n       '24 PACKS : Colgate Total Whitening Gel Toothpaste, 7.8 Ounce',\n       'Faith and Practice of Islam : Three Thirteenth-Century Sufi Texts',\n       'Polo Blue by Ralph Lauren',\n       'Funny West Virginia Quote Gift Infant Creeper',\n       'Safety 1st - Clear View Clippers',\n       '2WFR4 15 Sheet Battery Operated Stapler, 3/8 In Throat',\n       'Assorted Short Sleeve Onesies Bodysuits, 5pk (Baby Girl)',\n       'Red Gift Wrap Bag by K-Kraft (Festive Red Stripes, 13 x 17.5 inches)',\n       'TOSHIBA MINI NB200-SP2912A Laptop Screen 10.1 LED BOTTOM LEFT WSVGA 1024x600',\n       'Fresh Pico De Gallo Mild 12 Oz',\n       'Baldwin Ellipse Passage Door Knob with Traditional Square Rose',\n       'Sweet Secret Sugar Cookies-SHERAS17220 Print 13\"x13\" by Shelly Rasche in a Affordable White Medium',\n       'Platinum 5 mm Comfort Fit Half Round Wedding Band - Size 9.5',\n       'Replacement for BULBRITE BAB-GU7 replacement light bulb lamp',\n       'Gomadic High Capacity Rechargeable External Battery Pack suitable for the Timex Cycle Trainer 2.0 - Portable Charger with TipExchange Technology',\n       'Adventures Odyssey: Peer Pressure (Audiobook)',\n       'Lutema Replacement Lamp with Housing / Bulb for Optoma BL-FP240B',\n       'Seifelden 80GB Hard Disk Drive with 3 Year Warranty for Compaq Presario V6107AU Laptop Notebook HDD Computer (Certified Refurbished)',\n       'A Year with G.K. Chesterton (Paperback)',\n       \"Arabesque Flower Circle Design Tee Women's -Image by Shutterstock\",\n       'Replacement for CHEVROLET ASTRO YEAR 1986 PILOT TURN LIGHT 10 PACK replacement light bulb lamp',\n       'Lifetime Range Rod',\n       'Skin Decal For Beats By Dr. Dre Beats Pill Plus / Sugar Skull Girl',\n       'NORTHBOUND INTERFACE OPTION',\n       \"Santa's Workshop Illinois Mascot and Flag Nutcracker\",\n       'Girl12Queen Summer Cute Small Dog Big Heart Print Dog Puppy Doggie Vest Pet Clothes Costume',\n       'Klarus Mi1C 600 Lumen Side Switch EDC Titanium Flashlight 16340 Mini Bright w/ 16340 Battery + LightJunction USB Wall and Car Adaptors',\n       '(6 Pack) MILANI Stay Put Brow Color - Dark Brown',\n       'Red Plastic Party Tablecloth, 108 x 54in, 2ct',\n       'Sterilite Plastic Heavy Duty File Crate Stacking Storage Container (12 Pack)',\n       'Trading on Sentiment : The Power of Minds Over Markets',\n       'Japonesque Pro Performance Lip Lacquer 5ml New in Box [Choose Your Shade]',\n       '24 Holiday Note Cards - Holiday Typography Stocking - Blank Cards - Red Envelopes Included',\n       'LNKOO Wireless Bluetooth Speakers Portable Stereo Bass Mini Hifi Classic Music Radio Player With Subwoofer For Mobile Cellphone Indoor Outdoor Home Picnic Party-White',\n       'Jillson & Roberts Medium Gift Bags, Traditional Nutcracker (12 Pcs)',\n       'Honeywell 46187001-002 Pen',\n       'HP Z2 Mini G3 Workstation Ultra Small Form Factor Premium Workstation Desktop PC (Intel Xeon E3 Quad-Core, 32GB RAM, 1TB HDD + 256GB PCIe SSD, NVIDIA Quadro M620, WiFi, Bluetooth, Win10 Pro)',\n       'Ice Bag Relief Pak - Item Number 111061EA',\n       \"[P] Disney Womens' Classic Mickey & Minnie Mouse Pajama Top - Grey (2XL)\",\n       'MightySkins Skin For OtterBox Commuter iPhone X | Protective, Durable, and Unique Vinyl Decal wrap cover | Easy To Apply, Remove, and Change Styles | Made in the USA',\n       'LG G6 2017 Case, Maxessory Trailblazer Dual-Layer Heavy-Duty Hybrid + Built-in Belt Clip Holster w/ Rigid Rugged Kickstand Protective Armor Cover',\n       '2in1 mini lighted fast 2.4 Amp 12W car charger kit with double USB power ports 22 awg charge only cable pocket sized for travel designed for Samsung Convoy 2',\n       'Kikkoman Sriracha Mayo, 8.5 oz',\n       'LG Fiesta Wallet Case - Basket Ball Case',\n       \"Custom Party Shop Baby's Happy Hanukkah Onepiece Grey - 18 Months\",\n       'Gomadic High Capacity Rechargeable External Battery Pack suitable for the Samsung SGH-T109 - Portable Charger with TipExchange Technology',\n       'Knot Antique Finish Fly Plaid Piper Brooch,3 pack',\n       'Villanova University Confetti Glitter Case for iPhone X',\n       \"I'm a Princess Screen Print Shirts Red XL (16)\",\n       'Just Write Antique Typewriter Writer Author 2\" Heart Shaped Planner Calendar Scrapbook Craft Clear Stickers',\n       'Buckle Down DC Comics Pet Dog or Cat Leash',\n       'Break Room - Laser Engraved Sign - 3\"x9\" - .050 Black and Gold Plastic',\n       'Heepo Baby Bib Cotton Pom Pom Trim Cartoon Fox Feather Triangle Infants Saliva Towel',\n       'Womens AR35 Adarra Wide Calf Over The Knee Boots, Black Smooth',\n       'Milani Even Touch Powder Foundation 0.42oz.',\n       'prism hypnotist dual-line stunt kite, ice',\n       'CHANNEL VISION SATIN NICKEL INTERCOM SYSTEM',\n       'Eau Des Jardins Treatment Fragrance Spray-100ml/3.3oz',\n       'Doco DCS005-10XL Double D-Ring Dog Neck Collar&#44; Olive Green - Extra Large',\n       'Razac Hand & Body Lotion, 473 ml (Pack of 3)',\n       'Sorbus Acrylic Cosmetics Makeup and Jewelry Storage Case X-Large Display Sets -Interlocking Scoop Drawers to Create Your Own Specially Designed Makeup Counter -Stackable and Interchangeable (Pink)',\n       \"MightySkins Skin Decal Wrap Compatible with BottleKeeper Sticker Protective Cover 100's of Color Options\",\n       'Replacement for YODN / DNGO / GLORY GLH-16 LAMP and HOUSING',\n       'Motorcraft Engine Fuel Filter, MTCFG 1-A',\n       'Cotton Ball, Prem Med (Units Per Case: 4000)',\n       'Scruples Moisture Bath - Moisture Replenishing Shampoo - Size : 12 oz',\n       'Place We Ran from (Imported)',\n       'Casebound Hardcover Notebook, 10 1/4 X 7 5/8, Black With White Dots',\n       'Presents Screen Print Soft Mesh Harness Blue Extra Large',\n       'Chasing Hamburg (Vinyl)',\n       'Adopt Me Rhinestone Shirt Brown XXXL (20)',\n       'Insten 3D Embossed Printing Paris Dual Layer Hybrid PC/TPU Rubber Case Cover For Apple iPhone XS Max - Pink (Bundle with BasAcc MFI Certified Lightning Cable)',\n       '12BB 5.5:1 Metallic Casting Spinning Fishing Reel Wheel Tackle Accessories ,Casting Fishing Reel, Metallic Fishing Reel',\n       \"Nature's Truth Vitamin E High Potency 1000 IU, 60 ea\",\n       'DesignOvation Walcott Framed Magnetic Board Wall Organizer with Clip',\n       'Mignova Slim Shell Case for All-New Fire 7 2017 - Ultra Slim Lightweight Standing Cover Case for Fire 7 Tablet (7th Generation - 2017 release)+ Screen Protector Film and Stylus Pen (Blue)',\n       'Packagingsuppliesbymail 12 Rolls 2-inch x 55 yards Clear Packing Tape 1.8 Mil w/ Dispenser Heavy Duty Shipping Tapes',\n       'SYNCHROTRON DESIGN PROP. APP.',\n       'Tractor At Little Eaton-BILMAK47698 Print 16.25\"x30\" by Bill Makinson in a Cafe Mocha',\n       'Evolur Nova Reversible Seat Stroller, Gray',\n       'Becca - Sunlit Bronzer - # Bali Sands -7.1g/0.25oz',\n       'GEARONIC Luxury Flip PU Leather Skin Front View Wallet Cover Hard Pouch Case For Apple iPhone 6 6S',\n       'Alfred 00-42650 Musical Scenes 1 Book',\n       'Popchips Original Barbeque Potato Chips, 4.8 oz (Pack of 12)',\n       \"Alfred's Drum Method, Book 1\",\n       'Redondos Sliced Pipi Kaula, 6 Oz.',\n       'Unique Bargains Granite Concrete Wet Dry Abrasives Polishing Grinding Pad Wheel Black 2 Pcs',\n       'Boosey and Hawkes String Quartet (Study Score) Boosey & Hawkes Scores/Books Series Composed by Nicholas Maw',\n       'Ten Day Results Downsize, 60 Ct',\n       'Fantasy Fields Crackled Rose Kids Table',\n       'OMNIHIL (32FT) 2.0 High Speed USB Cable forCocktail Audio - X12 - CD Ripper - Music Server & Streamer - White',\n       'SE1009 Green 15 Inch Plastic Tug Tight Pull-Tight Seals Made In USA CASE OF 100',\n       'CHAIM Street Sign Childrens Name Room Sign | Indoor/Outdoor | Â\\xa024\" Wide',\n       'Kensington Computer Standard Underdesk Keyboard Drawer',\n       \"Belgium Triathlon - Olympic Games - Rio - Flag Girl's Cotton Youth T-Shirt\",\n       'JAM Paper A6 Invitation Envelopes, 5 3/4 x 8 3/4, Presidential Blue, 50/pack',\n       'Coronet Race Dee Bit - 5\"',\n       'Hanes Alive Sheer to Waist Pantyhose, Style 811',\n       'Memory Flex Readers - Black, Magnification 4.00X',\n       'CAT5e 100-MHz Shielded Stranded PVC Cable - 26 AWG&#44; White - 1 ft.',\n       'Little Buddy LLC, Splatoon: 7\" Judd / Judge Kun the Cat Stuffed Plush',\n       'Magox 400 Dietary Supplement, 120ct',\n       'PM COMPANY Color-Coded Kraft Currency Straps, Dollar Bill, $50, Self-Adhesive, 1000/Pack',\n       'China Glaze Nail Polish - #81767 METRO POLLEN-TIN',\n       'Beech Nut Naturals Stage 1 Just Green Beans',\n       'Buckle Down Buckle-Down Pet Plastic Clip Dog Collar',\n       'Colavita Capers, 4.76 Oz',\n       'Master Grooming Tools Ergonomic Dematting Pet Combs',\n       '3dRose Sarcasm noun the brains defense against the less intelligent. - Greeting Card, 6 by 6-inch',\n       'Letter C Flowers Retro Blue Retractable Badge Reel CJ2012-CBR',\n       'Bloomsbury Market Orchid Floral Arrangement in Wooden Small Square Container',\n       'Radiance NY Bust Enlargement with Patented Adifyline to Add Volume to Buttox, Back of Hands, and Cheeks',\n       'Unique Bargains Loose Curly Human Hair Extension 12\"14\"16\" 3 Bundles Remy Hair',\n       'University of Michigan Nylon Adjustable Dog Collar',\n       'Pretend Play Town Toys Mozlly World Airport Friction Power Cars Vehicles and Planes (19pc Set)',\n       'Country Living 150 Ways to Dress Your Windows',\n       \"L'Oreal Paris Infallible Pro-Matte Foundation, Classic Tan [109] 1 oz (Pack of 6)\",\n       'Pants Saver Custom Fit 4pc Car Mat Set, Chrysler 200 2012',\n       'for 5\" Samsung Galaxy Amp Prime 2 Express Prime 2 Luna Pro Case Phone Case Belt Clip Holster 2 Kick Stand Hybrid Armor Shock Bumper Cover Grey',\n       'Pair of Two Gas Prop Lift Rod Springs Struts Heavy Duty Tool Box Lid Top RV 35.3\" extended length x 19.17 \" compressed length x 56 LB Pressure',\n       'CMFUN Watercolor Brush Creative Flower Made with Ink Hand Painting for Your Designs Pillowcase 20x20 inch',\n       \"Clairol Nice 'N Easy Medium Brown (Pack of 20)\",\n       'Just Artifacts Gold Glitter Letter B',\n       'Replacement for S8697 16 WATT T5 LED MINIATURE BI PIN BASE 4000K 50000 AVERAGE RATED HOURS 1850 LUMENS 120 277 VOLTS',\n       'Morning Coffee Cover Compatible with Keurig Coffee Brewing Systems (Chocolate Brown, B70 K70 K75 K79)',\n       'Acer Travelmate 8371-354g32n Replacement LAPTOP LCD Screen 13.3\" WXGA HD LED DIODE (Substitute Replacement LCD Screen Only. Not a Laptop )',\n       'Original TV Remote Control for EMERSON LF501EM4F Television',\n       \"Shop4Ever Men's Colon Cancer Awareness Ribbon Support Hooded Sweatshirt Hoodie\",\n       'Wireless Networks : Design and Integration for LTE, EVDO, HSPA, and WiMAX',\n       \"The Highlander's Touch\",\n       'Strong Knee Sleeves by Sling Shot - Black Medium',\n       'Little Girls Mini Dress Outfits Clothes Kids Girl Stripes Long Sleeve Play Dresses',\n       'Ganesh Galaxy S8 Plus Case',\n       'Replacement for MITSUBISHI STARION YEAR 1984 GLOVE COMPARTMENT LIGHT 10 PACK replacement light bulb lamp',\n       'Diary of an Anorexic Girl',\n       'Dare to Repair Your Car : A Do-It-Herself Guide to Maintenance, Safety, Minor Fix-Its, and Talking Shop',\n       'Skull Crossbones Screen Print Soft Mesh Harness Blue Medium',\n       'WP000-1285-02-MD 1285-02-MD Sling Arm Deluxe Denim Med Blue 1285-02-MD From Scott Specialties Inc Quantity 1 Unit',\n       'Lamp Housing For IBM MicroPortable Data Projector DLP LCD Bulb',\n       'Chevrolet Impala 28 Navy Blue Metallic Gallon Basecoat PaintFor Car Truck or Auto',\n       'Country Brook Petz Bunnies and Chicks Ribbon on Lavender Half Check Dog Collar Limited Edition',\n       'Uncommon LLC C0007-CS Deflector Hard Case for iPhone 5/5S - Pink/Violet',\n       'BlackBerry Q5 Charger Micro USB 2.0 Cable Kit by Ixir - (Car Charger + Cable) True Digital Adaptive Fast Charging uses dual voltages for up to 50% faster charging!',\n       'HJ Scott St. James Rustic Dartboard Dart Board Cabinet - Antiqued Grey Finish',\n       '3 Pack - Revlon Ultra HD Lip Lacquer, HD Garnet 0.2 oz',\n       'Home Cardboard Flower Print Travel Memo Collection Picture Book Photo Album Red',\n       'LG PTAC 15 100 BTU/Cooling 11 900 BTU/Heating Heat Pump - LP153HD3B',\n       nan], dtype=object)"
          },
          "metadata": {}
        }
      ],
      "execution_count": null,
      "block_group": "002076446e9d4d91a962e2b506561ab9"
    },
    {
      "cell_type": "code",
      "source": "features",
      "metadata": {
        "id": "6ec0d8cd",
        "colab": {
          "base_uri": "https://localhost:8080/"
        },
        "outputId": "3f01c916-9416-4f45-99f3-930e0adc0c7e",
        "source_hash": null,
        "execution_start": 1694066539923,
        "execution_millis": 31,
        "deepnote_to_be_reexecuted": false,
        "cell_id": "87c03fefe1584b58a3ac5bc50b2f3d69",
        "deepnote_cell_type": "code"
      },
      "outputs": [
        {
          "output_type": "execute_result",
          "execution_count": 11,
          "data": {
            "text/plain": "array(['Small Business', 'Corporate', 'Middle class', 'male', 'female',\n       53, 22, 29, 36, 48, 45, 47, 23, 39, 34, 52, 51, 35, 19, 26, 37, 18,\n       20, 21, 41, 31, 28, 50, 38, 30, 25, 32, 55, 43, 54, 49, 40, 33, 44,\n       46, 42, 27, 24], dtype=object)"
          },
          "metadata": {}
        }
      ],
      "execution_count": null,
      "block_group": "96561fe59173464d9975385483082ff3"
    },
    {
      "cell_type": "code",
      "source": "# generate mapping, LightFM library can't read other than (integer) index\nuser_to_index_mapping, index_to_user_mapping, \\\n           item_to_index_mapping, index_to_item_mapping, \\\n           feature_to_index_mapping, index_to_feature_mapping = mapping(users, items, features)",
      "metadata": {
        "id": "0c41c13a",
        "source_hash": null,
        "execution_start": 1694066539937,
        "execution_millis": 16,
        "deepnote_to_be_reexecuted": false,
        "cell_id": "8e1d5e26239a400a898afec061e6e9cf",
        "deepnote_cell_type": "code"
      },
      "outputs": [],
      "execution_count": null,
      "block_group": "1b451ff2c8f340fd8bea2bd2fa50011f"
    },
    {
      "cell_type": "code",
      "source": "full_table.head()",
      "metadata": {
        "id": "1a7fead7",
        "colab": {
          "height": 632,
          "base_uri": "https://localhost:8080/"
        },
        "outputId": "db2ea408-96a6-4a00-96e6-9f8d54172277",
        "source_hash": null,
        "execution_start": 1694066540027,
        "execution_millis": 288,
        "deepnote_to_be_reexecuted": false,
        "cell_id": "33c6ff6e68e24ef9ac9fee0bce9c2c8c",
        "deepnote_cell_type": "code"
      },
      "outputs": [
        {
          "output_type": "execute_result",
          "execution_count": 13,
          "data": {
            "application/vnd.deepnote.dataframe.v3+json": {
              "column_count": 19,
              "row_count": 5,
              "columns": [
                {
                  "name": "InvoiceNo",
                  "dtype": "int64",
                  "stats": {
                    "unique_count": 1,
                    "nan_count": 0,
                    "min": "536365",
                    "max": "536365",
                    "histogram": [
                      {
                        "bin_start": 536364.5,
                        "bin_end": 536364.6,
                        "count": 0
                      },
                      {
                        "bin_start": 536364.6,
                        "bin_end": 536364.7,
                        "count": 0
                      },
                      {
                        "bin_start": 536364.7,
                        "bin_end": 536364.8,
                        "count": 0
                      },
                      {
                        "bin_start": 536364.8,
                        "bin_end": 536364.9,
                        "count": 0
                      },
                      {
                        "bin_start": 536364.9,
                        "bin_end": 536365,
                        "count": 0
                      },
                      {
                        "bin_start": 536365,
                        "bin_end": 536365.1,
                        "count": 5
                      },
                      {
                        "bin_start": 536365.1,
                        "bin_end": 536365.2,
                        "count": 0
                      },
                      {
                        "bin_start": 536365.2,
                        "bin_end": 536365.3,
                        "count": 0
                      },
                      {
                        "bin_start": 536365.3,
                        "bin_end": 536365.4,
                        "count": 0
                      },
                      {
                        "bin_start": 536365.4,
                        "bin_end": 536365.5,
                        "count": 0
                      }
                    ]
                  }
                },
                {
                  "name": "StockCode",
                  "dtype": "object",
                  "stats": {
                    "unique_count": 5,
                    "nan_count": 0,
                    "categories": [
                      {
                        "name": "84029E",
                        "count": 1
                      },
                      {
                        "name": "71053",
                        "count": 1
                      },
                      {
                        "name": "3 others",
                        "count": 3
                      }
                    ]
                  }
                },
                {
                  "name": "Quantity",
                  "dtype": "int64",
                  "stats": {
                    "unique_count": 3,
                    "nan_count": 0,
                    "min": "2",
                    "max": "8",
                    "histogram": [
                      {
                        "bin_start": 2,
                        "bin_end": 2.6,
                        "count": 1
                      },
                      {
                        "bin_start": 2.6,
                        "bin_end": 3.2,
                        "count": 0
                      },
                      {
                        "bin_start": 3.2,
                        "bin_end": 3.8,
                        "count": 0
                      },
                      {
                        "bin_start": 3.8,
                        "bin_end": 4.4,
                        "count": 0
                      },
                      {
                        "bin_start": 4.4,
                        "bin_end": 5,
                        "count": 0
                      },
                      {
                        "bin_start": 5,
                        "bin_end": 5.6,
                        "count": 0
                      },
                      {
                        "bin_start": 5.6,
                        "bin_end": 6.2,
                        "count": 3
                      },
                      {
                        "bin_start": 6.2,
                        "bin_end": 6.8,
                        "count": 0
                      },
                      {
                        "bin_start": 6.8,
                        "bin_end": 7.3999999999999995,
                        "count": 0
                      },
                      {
                        "bin_start": 7.3999999999999995,
                        "bin_end": 8,
                        "count": 1
                      }
                    ]
                  }
                },
                {
                  "name": "InvoiceDate",
                  "dtype": "datetime64[ns]",
                  "stats": {
                    "unique_count": 1,
                    "nan_count": 0,
                    "min": "2010-12-01 08:26:00",
                    "max": "2010-12-01 08:26:00",
                    "histogram": null
                  }
                },
                {
                  "name": "DeliveryDate",
                  "dtype": "datetime64[ns]",
                  "stats": {
                    "unique_count": 3,
                    "nan_count": 0,
                    "min": "2010-12-02 08:26:00",
                    "max": "2010-12-04 08:26:00",
                    "histogram": [
                      {
                        "bin_start": 1291278360000000000,
                        "bin_end": 1291295640000000000,
                        "count": 2
                      },
                      {
                        "bin_start": 1291295640000000000,
                        "bin_end": 1291312920000000000,
                        "count": 0
                      },
                      {
                        "bin_start": 1291312920000000000,
                        "bin_end": 1291330200000000000,
                        "count": 0
                      },
                      {
                        "bin_start": 1291330200000000000,
                        "bin_end": 1291347480000000000,
                        "count": 0
                      },
                      {
                        "bin_start": 1291347480000000000,
                        "bin_end": 1291364760000000000,
                        "count": 0
                      },
                      {
                        "bin_start": 1291364760000000000,
                        "bin_end": 1291382040000000000,
                        "count": 2
                      },
                      {
                        "bin_start": 1291382040000000000,
                        "bin_end": 1291399320000000000,
                        "count": 0
                      },
                      {
                        "bin_start": 1291399320000000000,
                        "bin_end": 1291416600000000000,
                        "count": 0
                      },
                      {
                        "bin_start": 1291416600000000000,
                        "bin_end": 1291433880000000000,
                        "count": 0
                      },
                      {
                        "bin_start": 1291433880000000000,
                        "bin_end": 1291451160000000000,
                        "count": 1
                      }
                    ]
                  }
                },
                {
                  "name": "Discount%",
                  "dtype": "float64",
                  "stats": {
                    "unique_count": 5,
                    "nan_count": 0,
                    "min": "0.2",
                    "max": "0.57",
                    "histogram": [
                      {
                        "bin_start": 0.2,
                        "bin_end": 0.237,
                        "count": 2
                      },
                      {
                        "bin_start": 0.237,
                        "bin_end": 0.274,
                        "count": 0
                      },
                      {
                        "bin_start": 0.274,
                        "bin_end": 0.311,
                        "count": 1
                      },
                      {
                        "bin_start": 0.311,
                        "bin_end": 0.348,
                        "count": 0
                      },
                      {
                        "bin_start": 0.348,
                        "bin_end": 0.38499999999999995,
                        "count": 0
                      },
                      {
                        "bin_start": 0.38499999999999995,
                        "bin_end": 0.42199999999999993,
                        "count": 0
                      },
                      {
                        "bin_start": 0.42199999999999993,
                        "bin_end": 0.45899999999999996,
                        "count": 0
                      },
                      {
                        "bin_start": 0.45899999999999996,
                        "bin_end": 0.49599999999999994,
                        "count": 0
                      },
                      {
                        "bin_start": 0.49599999999999994,
                        "bin_end": 0.5329999999999999,
                        "count": 0
                      },
                      {
                        "bin_start": 0.5329999999999999,
                        "bin_end": 0.57,
                        "count": 2
                      }
                    ]
                  }
                },
                {
                  "name": "ShipMode",
                  "dtype": "object",
                  "stats": {
                    "unique_count": 3,
                    "nan_count": 0,
                    "categories": [
                      {
                        "name": "ExpressAir",
                        "count": 2
                      },
                      {
                        "name": "Regular Air",
                        "count": 2
                      },
                      {
                        "name": "Delivery Truck",
                        "count": 1
                      }
                    ]
                  }
                },
                {
                  "name": "ShippingCost",
                  "dtype": "float64",
                  "stats": {
                    "unique_count": 3,
                    "nan_count": 0,
                    "min": "5.81",
                    "max": "30.12",
                    "histogram": [
                      {
                        "bin_start": 5.81,
                        "bin_end": 8.241,
                        "count": 1
                      },
                      {
                        "bin_start": 8.241,
                        "bin_end": 10.672,
                        "count": 0
                      },
                      {
                        "bin_start": 10.672,
                        "bin_end": 13.103,
                        "count": 0
                      },
                      {
                        "bin_start": 13.103,
                        "bin_end": 15.533999999999999,
                        "count": 2
                      },
                      {
                        "bin_start": 15.533999999999999,
                        "bin_end": 17.965,
                        "count": 0
                      },
                      {
                        "bin_start": 17.965,
                        "bin_end": 20.396,
                        "count": 0
                      },
                      {
                        "bin_start": 20.396,
                        "bin_end": 22.826999999999998,
                        "count": 0
                      },
                      {
                        "bin_start": 22.826999999999998,
                        "bin_end": 25.258,
                        "count": 0
                      },
                      {
                        "bin_start": 25.258,
                        "bin_end": 27.689,
                        "count": 0
                      },
                      {
                        "bin_start": 27.689,
                        "bin_end": 30.12,
                        "count": 2
                      }
                    ]
                  }
                },
                {
                  "name": "CustomerID",
                  "dtype": "int64",
                  "stats": {
                    "unique_count": 1,
                    "nan_count": 0,
                    "min": "17850",
                    "max": "17850",
                    "histogram": [
                      {
                        "bin_start": 17849.5,
                        "bin_end": 17849.6,
                        "count": 0
                      },
                      {
                        "bin_start": 17849.6,
                        "bin_end": 17849.7,
                        "count": 0
                      },
                      {
                        "bin_start": 17849.7,
                        "bin_end": 17849.8,
                        "count": 0
                      },
                      {
                        "bin_start": 17849.8,
                        "bin_end": 17849.9,
                        "count": 0
                      },
                      {
                        "bin_start": 17849.9,
                        "bin_end": 17850,
                        "count": 0
                      },
                      {
                        "bin_start": 17850,
                        "bin_end": 17850.1,
                        "count": 5
                      },
                      {
                        "bin_start": 17850.1,
                        "bin_end": 17850.2,
                        "count": 0
                      },
                      {
                        "bin_start": 17850.2,
                        "bin_end": 17850.3,
                        "count": 0
                      },
                      {
                        "bin_start": 17850.3,
                        "bin_end": 17850.4,
                        "count": 0
                      },
                      {
                        "bin_start": 17850.4,
                        "bin_end": 17850.5,
                        "count": 0
                      }
                    ]
                  }
                },
                {
                  "name": "Gender",
                  "dtype": "object",
                  "stats": {
                    "unique_count": 1,
                    "nan_count": 0,
                    "categories": [
                      {
                        "name": "female",
                        "count": 5
                      }
                    ]
                  }
                },
                {
                  "name": "Age",
                  "dtype": "int64",
                  "stats": {
                    "unique_count": 1,
                    "nan_count": 0,
                    "min": "48",
                    "max": "48",
                    "histogram": [
                      {
                        "bin_start": 47.5,
                        "bin_end": 47.6,
                        "count": 0
                      },
                      {
                        "bin_start": 47.6,
                        "bin_end": 47.7,
                        "count": 0
                      },
                      {
                        "bin_start": 47.7,
                        "bin_end": 47.8,
                        "count": 0
                      },
                      {
                        "bin_start": 47.8,
                        "bin_end": 47.9,
                        "count": 0
                      },
                      {
                        "bin_start": 47.9,
                        "bin_end": 48,
                        "count": 0
                      },
                      {
                        "bin_start": 48,
                        "bin_end": 48.1,
                        "count": 5
                      },
                      {
                        "bin_start": 48.1,
                        "bin_end": 48.2,
                        "count": 0
                      },
                      {
                        "bin_start": 48.2,
                        "bin_end": 48.3,
                        "count": 0
                      },
                      {
                        "bin_start": 48.3,
                        "bin_end": 48.4,
                        "count": 0
                      },
                      {
                        "bin_start": 48.4,
                        "bin_end": 48.5,
                        "count": 0
                      }
                    ]
                  }
                },
                {
                  "name": "Income",
                  "dtype": "object",
                  "stats": {
                    "unique_count": 1,
                    "nan_count": 0,
                    "categories": [
                      {
                        "name": "Medium",
                        "count": 5
                      }
                    ]
                  }
                },
                {
                  "name": "Zipcode",
                  "dtype": "int64",
                  "stats": {
                    "unique_count": 1,
                    "nan_count": 0,
                    "min": "84306",
                    "max": "84306",
                    "histogram": [
                      {
                        "bin_start": 84305.5,
                        "bin_end": 84305.6,
                        "count": 0
                      },
                      {
                        "bin_start": 84305.6,
                        "bin_end": 84305.7,
                        "count": 0
                      },
                      {
                        "bin_start": 84305.7,
                        "bin_end": 84305.8,
                        "count": 0
                      },
                      {
                        "bin_start": 84305.8,
                        "bin_end": 84305.9,
                        "count": 0
                      },
                      {
                        "bin_start": 84305.9,
                        "bin_end": 84306,
                        "count": 0
                      },
                      {
                        "bin_start": 84306,
                        "bin_end": 84306.1,
                        "count": 5
                      },
                      {
                        "bin_start": 84306.1,
                        "bin_end": 84306.2,
                        "count": 0
                      },
                      {
                        "bin_start": 84306.2,
                        "bin_end": 84306.3,
                        "count": 0
                      },
                      {
                        "bin_start": 84306.3,
                        "bin_end": 84306.4,
                        "count": 0
                      },
                      {
                        "bin_start": 84306.4,
                        "bin_end": 84306.5,
                        "count": 0
                      }
                    ]
                  }
                },
                {
                  "name": "Customer Segment",
                  "dtype": "object",
                  "stats": {
                    "unique_count": 1,
                    "nan_count": 0,
                    "categories": [
                      {
                        "name": "Middle class",
                        "count": 5
                      }
                    ]
                  }
                },
                {
                  "name": "Product Name",
                  "dtype": "object",
                  "stats": {
                    "unique_count": 5,
                    "nan_count": 0,
                    "categories": [
                      {
                        "name": "3 1/2\"W x 20\"D x 20\"H Funston Craftsman Smooth Bracket, Douglas Fir",
                        "count": 1
                      },
                      {
                        "name": "Awkward Styles Shamrock Flag St. Patrick's Day Shirt Men Irish Gifts for Him Lucky T Shirt Saint Patrick's Day Shamrock Tshirt Irish Clover Shirt Funny Irish Men's Shirt Lucky Irish Flag Tshirt",
                        "count": 1
                      },
                      {
                        "name": "3 others",
                        "count": 3
                      }
                    ]
                  }
                },
                {
                  "name": "Description",
                  "dtype": "object",
                  "stats": {
                    "unique_count": 5,
                    "nan_count": 0,
                    "categories": [
                      {
                        "name": "Our Rustic Collection is an instant classic. Our Rustic wood millwork utilizes the technologies of today to build the 'log and timber' wood products that have been in architecture for centuries. Because our products are not kiln dried, each item in our Rustic Collection is 100% unique and will contain the natural variations that the wood species offers. Your wood bracket, corbel, rafter tail, will contain unique colors, grains, textures, knots, sapwood &amp; heartwood content and possible sap bleeding, and even natural checking, splitting &amp; cracks. These natural variations are what make the Rustic Collection stand out from the rest. Be proud of your project; stand out from the cookie-cutter homes; use the Rustic Collection family of products.|3 1/2&quot;W x 20&quot;D x 20&quot;H Funston Craftsman Smooth Bracket, Douglas Fir",
                        "count": 1
                      },
                      {
                        "name": "Our St Patrick's Day Collection is perfect for you to celebrate St. Patrick's Day proudly. Wear this Shamrock Flag Tshirt for Men and enjoy the day with your friends and family.| Erin Go Braugh! Awkward Styles proudly presents the St. Patrick's Day collection, where we offer sweatshirts, sweaters, hoodies, shirts, tshirts, baby bodysuits for men, women, kids and babies! So get your St. Patrick's Day apparel now and show up in style with the entire family! Happy shamrock day! Our designs will also be perfect as a gift for St. Patrick's Day, St Patrick's Day gifts for men, Saint Patrick gifts for women, Irish gifts for kids, Ireland gifts for baby and more! So come check out our store now and get your perfect match! Enjoy St. Paddy's Day Lads! 100% cotton Printed in the USA Available sizes: S-5XL Machine washable Available in a wide variety of sizes and colors ",
                        "count": 1
                      },
                      {
                        "name": "3 others",
                        "count": 3
                      }
                    ]
                  }
                },
                {
                  "name": "Category",
                  "dtype": "object",
                  "stats": {
                    "unique_count": 5,
                    "nan_count": 0,
                    "categories": [
                      {
                        "name": "Home Improvement|Hardware|Brackets and Angle Irons|All Brackets and Angle Irons",
                        "count": 1
                      },
                      {
                        "name": "Clothing|Men|Mens T-Shirts & Tank Tops|Mens Graphic Tees",
                        "count": 1
                      },
                      {
                        "name": "3 others",
                        "count": 3
                      }
                    ]
                  }
                },
                {
                  "name": "Brand",
                  "dtype": "object",
                  "stats": {
                    "unique_count": 5,
                    "nan_count": 0,
                    "categories": [
                      {
                        "name": "Ekena Milwork",
                        "count": 1
                      },
                      {
                        "name": "Awkward Styles",
                        "count": 1
                      },
                      {
                        "name": "3 others",
                        "count": 3
                      }
                    ]
                  }
                },
                {
                  "name": "Unit Price",
                  "dtype": "float64",
                  "stats": {
                    "unique_count": 5,
                    "nan_count": 0,
                    "min": "14.99",
                    "max": "199.11",
                    "histogram": [
                      {
                        "bin_start": 14.99,
                        "bin_end": 33.402,
                        "count": 3
                      },
                      {
                        "bin_start": 33.402,
                        "bin_end": 51.814,
                        "count": 1
                      },
                      {
                        "bin_start": 51.814,
                        "bin_end": 70.226,
                        "count": 0
                      },
                      {
                        "bin_start": 70.226,
                        "bin_end": 88.63799999999999,
                        "count": 0
                      },
                      {
                        "bin_start": 88.63799999999999,
                        "bin_end": 107.05,
                        "count": 0
                      },
                      {
                        "bin_start": 107.05,
                        "bin_end": 125.46199999999999,
                        "count": 0
                      },
                      {
                        "bin_start": 125.46199999999999,
                        "bin_end": 143.874,
                        "count": 0
                      },
                      {
                        "bin_start": 143.874,
                        "bin_end": 162.286,
                        "count": 0
                      },
                      {
                        "bin_start": 162.286,
                        "bin_end": 180.698,
                        "count": 0
                      },
                      {
                        "bin_start": 180.698,
                        "bin_end": 199.11,
                        "count": 1
                      }
                    ]
                  }
                },
                {
                  "name": "_deepnote_index_column",
                  "dtype": "int64"
                }
              ],
              "rows": [
                {
                  "InvoiceNo": 536365,
                  "StockCode": "84029E",
                  "Quantity": 6,
                  "InvoiceDate": "2010-12-01 08:26:00",
                  "DeliveryDate": "2010-12-02 08:26:00",
                  "Discount%": 0.2,
                  "ShipMode": "ExpressAir",
                  "ShippingCost": 30.12,
                  "CustomerID": 17850,
                  "Gender": "female",
                  "Age": 48,
                  "Income": "Medium",
                  "Zipcode": 84306,
                  "Customer Segment": "Middle class",
                  "Product Name": "3 1/2\"W x 20\"D x 20\"H Funston Craftsman Smooth Bracket, Douglas Fir",
                  "Description": "Our Rustic Collection is an instant classic. Our Rustic wood millwork utilizes the technologies of today to build the 'log and timber' wood products that have been in architecture for centuries. Because our products are not kiln dried, each item in our Rustic Collection is 100% unique and will contain the natural variations that the wood species offers. Your wood bracket, corbel, rafter tail, will contain unique colors, grains, textures, knots, sapwood &amp; heartwood content and possible sap bleeding, and even natural checking, splitting &amp; cracks. These natural variations are what make the Rustic Collection stand out from the rest. Be proud of your project; stand out from the cookie-cutter homes; use the Rustic Collection family of products.|3 1/2&quot;W x 20&quot;D x 20&quot;H Funston Craftsman Smooth Bracket, Douglas Fir",
                  "Category": "Home Improvement|Hardware|Brackets and Angle Irons|All Brackets and Angle Irons",
                  "Brand": "Ekena Milwork",
                  "Unit Price": 199.11,
                  "_deepnote_index_column": 0
                },
                {
                  "InvoiceNo": 536365,
                  "StockCode": "71053",
                  "Quantity": 6,
                  "InvoiceDate": "2010-12-01 08:26:00",
                  "DeliveryDate": "2010-12-02 08:26:00",
                  "Discount%": 0.21,
                  "ShipMode": "ExpressAir",
                  "ShippingCost": 30.12,
                  "CustomerID": 17850,
                  "Gender": "female",
                  "Age": 48,
                  "Income": "Medium",
                  "Zipcode": 84306,
                  "Customer Segment": "Middle class",
                  "Product Name": "Awkward Styles Shamrock Flag St. Patrick's Day Shirt Men Irish Gifts for Him Lucky T Shirt Saint Patrick's Day Shamrock Tshirt Irish Clover Shirt Funny Irish Men's Shirt Lucky Irish Flag Tshirt",
                  "Description": "Our St Patrick's Day Collection is perfect for you to celebrate St. Patrick's Day proudly. Wear this Shamrock Flag Tshirt for Men and enjoy the day with your friends and family.| Erin Go Braugh! Awkward Styles proudly presents the St. Patrick's Day collection, where we offer sweatshirts, sweaters, hoodies, shirts, tshirts, baby bodysuits for men, women, kids and babies! So get your St. Patrick's Day apparel now and show up in style with the entire family! Happy shamrock day! Our designs will also be perfect as a gift for St. Patrick's Day, St Patrick's Day gifts for men, Saint Patrick gifts for women, Irish gifts for kids, Ireland gifts for baby and more! So come check out our store now and get your perfect match! Enjoy St. Paddy's Day Lads! 100% cotton Printed in the USA Available sizes: S-5XL Machine washable Available in a wide variety of sizes and colors ",
                  "Category": "Clothing|Men|Mens T-Shirts & Tank Tops|Mens Graphic Tees",
                  "Brand": "Awkward Styles",
                  "Unit Price": 23.95,
                  "_deepnote_index_column": 1
                },
                {
                  "InvoiceNo": 536365,
                  "StockCode": "21730",
                  "Quantity": 6,
                  "InvoiceDate": "2010-12-01 08:26:00",
                  "DeliveryDate": "2010-12-03 08:26:00",
                  "Discount%": 0.56,
                  "ShipMode": "Regular Air",
                  "ShippingCost": 15.22,
                  "CustomerID": 17850,
                  "Gender": "female",
                  "Age": 48,
                  "Income": "Medium",
                  "Zipcode": 84306,
                  "Customer Segment": "Middle class",
                  "Product Name": "Ebe Men Black Rectangle Half Rim Spring Hinge Eyewear Reading Glasses 2036",
                  "Description": "Count on EBE for all of your eye correction needs this light weight sleek looking pair of glasses are something to be won. We guarantee you will love the style of these frames with the sharply colored temples on the side of your face give a great fashion look and a great comfort your face we guarantee your satisfaction.| Always custom made to your individual order specifications in our FDA Listed Lab with the remarkable Optical grade Custom frames and Lenses available. Better style better grade and always less than retail. Rx lens included! Glasses come with a Hard protective case and micro fiber cleaning cloth. Very light and strong frame with Ebe signature comfort fit bridge for easy all day use without hot spots. We design and produce all of our frames and lenses in our FDA listed Labs. Lenses Include Anti-Glare and Anti-Reflective Coating. You will Love your New Glasses and we Guarantee it 100%. We do not sell Cheap &quot;drug store&quot; reading glasses. Lens Width=55, Lens Heigh…",
                  "Category": "Health|Home Health Care|Daily Living Aids",
                  "Brand": "Eye Buy Express",
                  "Unit Price": 26.99,
                  "_deepnote_index_column": 2
                },
                {
                  "InvoiceNo": 536365,
                  "StockCode": "84406B",
                  "Quantity": 8,
                  "InvoiceDate": "2010-12-01 08:26:00",
                  "DeliveryDate": "2010-12-03 08:26:00",
                  "Discount%": 0.3,
                  "ShipMode": "Regular Air",
                  "ShippingCost": 15.22,
                  "CustomerID": 17850,
                  "Gender": "female",
                  "Age": 48,
                  "Income": "Medium",
                  "Zipcode": 84306,
                  "Customer Segment": "Middle class",
                  "Product Name": "MightySkins Skin Decal Wrap Compatible with Apple Sticker Protective Cover 100's of Color Options",
                  "Description": "Mightyskins are removable vinyl skins for protecting and customizing your Apple iPad 5th Gen. This is a decal skin that applies to your existing Apple iPad 5th Gen. They feature ultra high resolution designs, the perfect way to add some style and stand out from the crowd. Mightyskins have a durable matte laminate that protects from scratching, fading and peeling. With our patented adhesive technology MightySkins remove cleanly when you want to remove them or switch to another design. No sticky mess guaranteed! Apple iPad 5th Gen is not included.|This is NOT A HARD CASE (Skin Decal Only). It is a vinyl skin/decal sticker and is NOT made of rubber, silicone, gel or plastic. Device shown not included.",
                  "Category": "Electronics|Electronics Learning Center|Ads Free Page #21",
                  "Brand": "Mightyskins",
                  "Unit Price": 14.99,
                  "_deepnote_index_column": 3
                },
                {
                  "InvoiceNo": 536365,
                  "StockCode": "22752",
                  "Quantity": 2,
                  "InvoiceDate": "2010-12-01 08:26:00",
                  "DeliveryDate": "2010-12-04 08:26:00",
                  "Discount%": 0.57,
                  "ShipMode": "Delivery Truck",
                  "ShippingCost": 5.81,
                  "CustomerID": 17850,
                  "Gender": "female",
                  "Age": 48,
                  "Income": "Medium",
                  "Zipcode": 84306,
                  "Customer Segment": "Middle class",
                  "Product Name": "awesome since 1948 - 69th birthday gift t-shirt - royal",
                  "Description": "awesome since 1948 - 69th birthday gift t-shirt - royal|Awesome Since 1948 - 69th Birthday Gift T-shirt - Tx. Orange",
                  "Category": "Clothing|Men|Mens T-Shirts & Tank Tops|Mens T-Shirts",
                  "Brand": "Shirtinvaders",
                  "Unit Price": 49.33,
                  "_deepnote_index_column": 4
                }
              ]
            },
            "text/plain": "   InvoiceNo StockCode  Quantity         InvoiceDate        DeliveryDate  \\\n0     536365    84029E         6 2010-12-01 08:26:00 2010-12-02 08:26:00   \n1     536365     71053         6 2010-12-01 08:26:00 2010-12-02 08:26:00   \n2     536365     21730         6 2010-12-01 08:26:00 2010-12-03 08:26:00   \n3     536365    84406B         8 2010-12-01 08:26:00 2010-12-03 08:26:00   \n4     536365     22752         2 2010-12-01 08:26:00 2010-12-04 08:26:00   \n\n   Discount%        ShipMode  ShippingCost  CustomerID  Gender  Age  Income  \\\n0       0.20      ExpressAir         30.12       17850  female   48  Medium   \n1       0.21      ExpressAir         30.12       17850  female   48  Medium   \n2       0.56     Regular Air         15.22       17850  female   48  Medium   \n3       0.30     Regular Air         15.22       17850  female   48  Medium   \n4       0.57  Delivery Truck          5.81       17850  female   48  Medium   \n\n   Zipcode Customer Segment  \\\n0    84306     Middle class   \n1    84306     Middle class   \n2    84306     Middle class   \n3    84306     Middle class   \n4    84306     Middle class   \n\n                                        Product Name  \\\n0  3 1/2\"W x 20\"D x 20\"H Funston Craftsman Smooth...   \n1  Awkward Styles Shamrock Flag St. Patrick's Day...   \n2  Ebe Men Black Rectangle Half Rim Spring Hinge ...   \n3  MightySkins Skin Decal Wrap Compatible with Ap...   \n4  awesome since 1948 - 69th birthday gift t-shir...   \n\n                                         Description  \\\n0  Our Rustic Collection is an instant classic. O...   \n1  Our St Patrick's Day Collection is perfect for...   \n2  Count on EBE for all of your eye correction ne...   \n3  Mightyskins are removable vinyl skins for prot...   \n4  awesome since 1948 - 69th birthday gift t-shir...   \n\n                                            Category            Brand  \\\n0  Home Improvement|Hardware|Brackets and Angle I...    Ekena Milwork   \n1  Clothing|Men|Mens T-Shirts & Tank Tops|Mens Gr...   Awkward Styles   \n2          Health|Home Health Care|Daily Living Aids  Eye Buy Express   \n3  Electronics|Electronics Learning Center|Ads Fr...      Mightyskins   \n4  Clothing|Men|Mens T-Shirts & Tank Tops|Mens T-...    Shirtinvaders   \n\n   Unit Price  \n0      199.11  \n1       23.95  \n2       26.99  \n3       14.99  \n4       49.33  ",
            "text/html": "<div>\n<style scoped>\n    .dataframe tbody tr th:only-of-type {\n        vertical-align: middle;\n    }\n\n    .dataframe tbody tr th {\n        vertical-align: top;\n    }\n\n    .dataframe thead th {\n        text-align: right;\n    }\n</style>\n<table border=\"1\" class=\"dataframe\">\n  <thead>\n    <tr style=\"text-align: right;\">\n      <th></th>\n      <th>InvoiceNo</th>\n      <th>StockCode</th>\n      <th>Quantity</th>\n      <th>InvoiceDate</th>\n      <th>DeliveryDate</th>\n      <th>Discount%</th>\n      <th>ShipMode</th>\n      <th>ShippingCost</th>\n      <th>CustomerID</th>\n      <th>Gender</th>\n      <th>Age</th>\n      <th>Income</th>\n      <th>Zipcode</th>\n      <th>Customer Segment</th>\n      <th>Product Name</th>\n      <th>Description</th>\n      <th>Category</th>\n      <th>Brand</th>\n      <th>Unit Price</th>\n    </tr>\n  </thead>\n  <tbody>\n    <tr>\n      <th>0</th>\n      <td>536365</td>\n      <td>84029E</td>\n      <td>6</td>\n      <td>2010-12-01 08:26:00</td>\n      <td>2010-12-02 08:26:00</td>\n      <td>0.20</td>\n      <td>ExpressAir</td>\n      <td>30.12</td>\n      <td>17850</td>\n      <td>female</td>\n      <td>48</td>\n      <td>Medium</td>\n      <td>84306</td>\n      <td>Middle class</td>\n      <td>3 1/2\"W x 20\"D x 20\"H Funston Craftsman Smooth...</td>\n      <td>Our Rustic Collection is an instant classic. O...</td>\n      <td>Home Improvement|Hardware|Brackets and Angle I...</td>\n      <td>Ekena Milwork</td>\n      <td>199.11</td>\n    </tr>\n    <tr>\n      <th>1</th>\n      <td>536365</td>\n      <td>71053</td>\n      <td>6</td>\n      <td>2010-12-01 08:26:00</td>\n      <td>2010-12-02 08:26:00</td>\n      <td>0.21</td>\n      <td>ExpressAir</td>\n      <td>30.12</td>\n      <td>17850</td>\n      <td>female</td>\n      <td>48</td>\n      <td>Medium</td>\n      <td>84306</td>\n      <td>Middle class</td>\n      <td>Awkward Styles Shamrock Flag St. Patrick's Day...</td>\n      <td>Our St Patrick's Day Collection is perfect for...</td>\n      <td>Clothing|Men|Mens T-Shirts &amp; Tank Tops|Mens Gr...</td>\n      <td>Awkward Styles</td>\n      <td>23.95</td>\n    </tr>\n    <tr>\n      <th>2</th>\n      <td>536365</td>\n      <td>21730</td>\n      <td>6</td>\n      <td>2010-12-01 08:26:00</td>\n      <td>2010-12-03 08:26:00</td>\n      <td>0.56</td>\n      <td>Regular Air</td>\n      <td>15.22</td>\n      <td>17850</td>\n      <td>female</td>\n      <td>48</td>\n      <td>Medium</td>\n      <td>84306</td>\n      <td>Middle class</td>\n      <td>Ebe Men Black Rectangle Half Rim Spring Hinge ...</td>\n      <td>Count on EBE for all of your eye correction ne...</td>\n      <td>Health|Home Health Care|Daily Living Aids</td>\n      <td>Eye Buy Express</td>\n      <td>26.99</td>\n    </tr>\n    <tr>\n      <th>3</th>\n      <td>536365</td>\n      <td>84406B</td>\n      <td>8</td>\n      <td>2010-12-01 08:26:00</td>\n      <td>2010-12-03 08:26:00</td>\n      <td>0.30</td>\n      <td>Regular Air</td>\n      <td>15.22</td>\n      <td>17850</td>\n      <td>female</td>\n      <td>48</td>\n      <td>Medium</td>\n      <td>84306</td>\n      <td>Middle class</td>\n      <td>MightySkins Skin Decal Wrap Compatible with Ap...</td>\n      <td>Mightyskins are removable vinyl skins for prot...</td>\n      <td>Electronics|Electronics Learning Center|Ads Fr...</td>\n      <td>Mightyskins</td>\n      <td>14.99</td>\n    </tr>\n    <tr>\n      <th>4</th>\n      <td>536365</td>\n      <td>22752</td>\n      <td>2</td>\n      <td>2010-12-01 08:26:00</td>\n      <td>2010-12-04 08:26:00</td>\n      <td>0.57</td>\n      <td>Delivery Truck</td>\n      <td>5.81</td>\n      <td>17850</td>\n      <td>female</td>\n      <td>48</td>\n      <td>Medium</td>\n      <td>84306</td>\n      <td>Middle class</td>\n      <td>awesome since 1948 - 69th birthday gift t-shir...</td>\n      <td>awesome since 1948 - 69th birthday gift t-shir...</td>\n      <td>Clothing|Men|Mens T-Shirts &amp; Tank Tops|Mens T-...</td>\n      <td>Shirtinvaders</td>\n      <td>49.33</td>\n    </tr>\n  </tbody>\n</table>\n</div>"
          },
          "metadata": {}
        }
      ],
      "execution_count": null,
      "block_group": "2303df0ca48c40ff96a4cfd8d91c948d"
    },
    {
      "cell_type": "code",
      "source": "user_to_product_rating_train=full_table[['CustomerID','Product Name','Quantity']]",
      "metadata": {
        "id": "456f4032",
        "source_hash": null,
        "execution_start": 1694066540140,
        "execution_millis": 41,
        "deepnote_to_be_reexecuted": false,
        "cell_id": "3cdef9f847c14f39801693774ae9d271",
        "deepnote_cell_type": "code"
      },
      "outputs": [],
      "execution_count": null,
      "block_group": "72b6f490ad674f0da9aca5fe8dcccb24"
    },
    {
      "cell_type": "code",
      "source": "product_to_feature=full_table[['Product Name','Customer Segment','Quantity']]",
      "metadata": {
        "id": "3cf8148f",
        "source_hash": null,
        "execution_start": 1694066540229,
        "execution_millis": 7,
        "deepnote_to_be_reexecuted": false,
        "cell_id": "4b4bfdee204e4dfd875dfa54a798e527",
        "deepnote_cell_type": "code"
      },
      "outputs": [],
      "execution_count": null,
      "block_group": "917771e683ad42eeb1cd85d13f769abb"
    },
    {
      "cell_type": "code",
      "source": "user_to_product_rating_train=user_to_product_rating_train.groupby(['CustomerID','Product Name']).agg({'Quantity':'sum'}).reset_index()",
      "metadata": {
        "id": "066908d5",
        "source_hash": null,
        "execution_start": 1694066540230,
        "execution_millis": 105,
        "deepnote_to_be_reexecuted": false,
        "cell_id": "48969ea5a8dd430587ea9d589a078fbb",
        "deepnote_cell_type": "code"
      },
      "outputs": [],
      "execution_count": null,
      "block_group": "0cb1fe832b18406ea19a9b8871177e09"
    },
    {
      "cell_type": "code",
      "source": "user_to_product_rating_train.tail()",
      "metadata": {
        "id": "7909a00f",
        "colab": {
          "height": 206,
          "base_uri": "https://localhost:8080/"
        },
        "outputId": "78116551-1afc-49e4-a671-a22207145128",
        "source_hash": null,
        "execution_start": 1694066540373,
        "execution_millis": 249,
        "deepnote_to_be_reexecuted": false,
        "cell_id": "27e76e9f97f14603aa1c3cf3ed1c1946",
        "deepnote_cell_type": "code"
      },
      "outputs": [
        {
          "output_type": "execute_result",
          "execution_count": 17,
          "data": {
            "application/vnd.deepnote.dataframe.v3+json": {
              "column_count": 3,
              "row_count": 5,
              "columns": [
                {
                  "name": "CustomerID",
                  "dtype": "int64",
                  "stats": {
                    "unique_count": 1,
                    "nan_count": 0,
                    "min": "18287",
                    "max": "18287",
                    "histogram": [
                      {
                        "bin_start": 18286.5,
                        "bin_end": 18286.6,
                        "count": 0
                      },
                      {
                        "bin_start": 18286.6,
                        "bin_end": 18286.7,
                        "count": 0
                      },
                      {
                        "bin_start": 18286.7,
                        "bin_end": 18286.8,
                        "count": 0
                      },
                      {
                        "bin_start": 18286.8,
                        "bin_end": 18286.9,
                        "count": 0
                      },
                      {
                        "bin_start": 18286.9,
                        "bin_end": 18287,
                        "count": 0
                      },
                      {
                        "bin_start": 18287,
                        "bin_end": 18287.1,
                        "count": 5
                      },
                      {
                        "bin_start": 18287.1,
                        "bin_end": 18287.2,
                        "count": 0
                      },
                      {
                        "bin_start": 18287.2,
                        "bin_end": 18287.3,
                        "count": 0
                      },
                      {
                        "bin_start": 18287.3,
                        "bin_end": 18287.4,
                        "count": 0
                      },
                      {
                        "bin_start": 18287.4,
                        "bin_end": 18287.5,
                        "count": 0
                      }
                    ]
                  }
                },
                {
                  "name": "Product Name",
                  "dtype": "object",
                  "stats": {
                    "unique_count": 5,
                    "nan_count": 0,
                    "categories": [
                      {
                        "name": "Sport-Tek Ladies PosiCharge Competitor Tee",
                        "count": 1
                      },
                      {
                        "name": "Ultra Sleek And Spacious Pearl White Lacquer 18 Note Music Jewelry Box - We've Only Just Begun - NEW",
                        "count": 1
                      },
                      {
                        "name": "3 others",
                        "count": 3
                      }
                    ]
                  }
                },
                {
                  "name": "Quantity",
                  "dtype": "int64",
                  "stats": {
                    "unique_count": 4,
                    "nan_count": 0,
                    "min": "4",
                    "max": "24",
                    "histogram": [
                      {
                        "bin_start": 4,
                        "bin_end": 6,
                        "count": 1
                      },
                      {
                        "bin_start": 6,
                        "bin_end": 8,
                        "count": 2
                      },
                      {
                        "bin_start": 8,
                        "bin_end": 10,
                        "count": 0
                      },
                      {
                        "bin_start": 10,
                        "bin_end": 12,
                        "count": 0
                      },
                      {
                        "bin_start": 12,
                        "bin_end": 14,
                        "count": 1
                      },
                      {
                        "bin_start": 14,
                        "bin_end": 16,
                        "count": 0
                      },
                      {
                        "bin_start": 16,
                        "bin_end": 18,
                        "count": 0
                      },
                      {
                        "bin_start": 18,
                        "bin_end": 20,
                        "count": 0
                      },
                      {
                        "bin_start": 20,
                        "bin_end": 22,
                        "count": 0
                      },
                      {
                        "bin_start": 22,
                        "bin_end": 24,
                        "count": 1
                      }
                    ]
                  }
                },
                {
                  "name": "_deepnote_index_column",
                  "dtype": "int64"
                }
              ],
              "rows": [
                {
                  "CustomerID": 18287,
                  "Product Name": "Sport-Tek Ladies PosiCharge Competitor Tee",
                  "Quantity": 24,
                  "_deepnote_index_column": 138397
                },
                {
                  "CustomerID": 18287,
                  "Product Name": "Ultra Sleek And Spacious Pearl White Lacquer 18 Note Music Jewelry Box - We've Only Just Begun - NEW",
                  "Quantity": 6,
                  "_deepnote_index_column": 138398
                },
                {
                  "CustomerID": 18287,
                  "Product Name": "Union 3\" Female Ports Stainless Steel Pipe Fitting",
                  "Quantity": 12,
                  "_deepnote_index_column": 138399
                },
                {
                  "CustomerID": 18287,
                  "Product Name": "awesome since 1948 - 69th birthday gift t-shirt - royal",
                  "Quantity": 4,
                  "_deepnote_index_column": 138400
                },
                {
                  "CustomerID": 18287,
                  "Product Name": "billyboards Porcelain Menu Chalkboard",
                  "Quantity": 6,
                  "_deepnote_index_column": 138401
                }
              ]
            },
            "text/plain": "        CustomerID                                       Product Name  \\\n138397       18287         Sport-Tek Ladies PosiCharge Competitor Tee   \n138398       18287  Ultra Sleek And Spacious Pearl White Lacquer 1...   \n138399       18287  Union 3\" Female Ports Stainless Steel Pipe Fit...   \n138400       18287  awesome since 1948 - 69th birthday gift t-shir...   \n138401       18287              billyboards Porcelain Menu Chalkboard   \n\n        Quantity  \n138397        24  \n138398         6  \n138399        12  \n138400         4  \n138401         6  ",
            "text/html": "<div>\n<style scoped>\n    .dataframe tbody tr th:only-of-type {\n        vertical-align: middle;\n    }\n\n    .dataframe tbody tr th {\n        vertical-align: top;\n    }\n\n    .dataframe thead th {\n        text-align: right;\n    }\n</style>\n<table border=\"1\" class=\"dataframe\">\n  <thead>\n    <tr style=\"text-align: right;\">\n      <th></th>\n      <th>CustomerID</th>\n      <th>Product Name</th>\n      <th>Quantity</th>\n    </tr>\n  </thead>\n  <tbody>\n    <tr>\n      <th>138397</th>\n      <td>18287</td>\n      <td>Sport-Tek Ladies PosiCharge Competitor Tee</td>\n      <td>24</td>\n    </tr>\n    <tr>\n      <th>138398</th>\n      <td>18287</td>\n      <td>Ultra Sleek And Spacious Pearl White Lacquer 1...</td>\n      <td>6</td>\n    </tr>\n    <tr>\n      <th>138399</th>\n      <td>18287</td>\n      <td>Union 3\" Female Ports Stainless Steel Pipe Fit...</td>\n      <td>12</td>\n    </tr>\n    <tr>\n      <th>138400</th>\n      <td>18287</td>\n      <td>awesome since 1948 - 69th birthday gift t-shir...</td>\n      <td>4</td>\n    </tr>\n    <tr>\n      <th>138401</th>\n      <td>18287</td>\n      <td>billyboards Porcelain Menu Chalkboard</td>\n      <td>6</td>\n    </tr>\n  </tbody>\n</table>\n</div>"
          },
          "metadata": {}
        }
      ],
      "execution_count": null,
      "block_group": "1097037fccf843d2a9bd17cede2b6ad9"
    },
    {
      "cell_type": "markdown",
      "source": "#### train test split",
      "metadata": {
        "id": "7c8839f4",
        "cell_id": "b67b33e66f064c4998259c43de1f2ede",
        "deepnote_cell_type": "markdown"
      },
      "block_group": "900dc0fc4b2b4892b60edd5c23e5a5b8"
    },
    {
      "cell_type": "code",
      "source": "from sklearn.model_selection import train_test_split",
      "metadata": {
        "id": "5645196e",
        "source_hash": null,
        "execution_start": 1694066540440,
        "execution_millis": 578,
        "deepnote_to_be_reexecuted": false,
        "cell_id": "9a8749c903f74e70966c506cc6a69a93",
        "deepnote_cell_type": "code"
      },
      "outputs": [],
      "execution_count": null,
      "block_group": "88ec6632409b4778b3e0074329ce3525"
    },
    {
      "cell_type": "code",
      "source": "# perform train test split - 67:33 percent\nuser_to_product_rating_train,user_to_product_rating_test = train_test_split(user_to_product_rating_train,test_size=0.33, random_state=42)",
      "metadata": {
        "id": "1c67748c",
        "source_hash": null,
        "execution_start": 1694066541033,
        "execution_millis": 23,
        "deepnote_to_be_reexecuted": false,
        "cell_id": "224957c8a8164cb69c41afc44432401c",
        "deepnote_cell_type": "code"
      },
      "outputs": [],
      "execution_count": null,
      "block_group": "9dbbcde252e946c7a2e398c388f622d5"
    },
    {
      "cell_type": "code",
      "source": "# check the shape of train data\nuser_to_product_rating_train.shape",
      "metadata": {
        "id": "97c137f0",
        "colab": {
          "base_uri": "https://localhost:8080/"
        },
        "outputId": "8fa9fe41-15ed-4f28-9caa-2f76f5da2596",
        "source_hash": null,
        "execution_start": 1694066541075,
        "execution_millis": 23,
        "deepnote_to_be_reexecuted": false,
        "cell_id": "88be0382a1c94e228fb6ba683d0c70b3",
        "deepnote_cell_type": "code"
      },
      "outputs": [
        {
          "output_type": "execute_result",
          "execution_count": 20,
          "data": {
            "text/plain": "(92729, 3)"
          },
          "metadata": {}
        }
      ],
      "execution_count": null,
      "block_group": "34a2d2f6bce94da4ba4394555752bc30"
    },
    {
      "cell_type": "code",
      "source": "# check the shape of test data\nuser_to_product_rating_test.shape",
      "metadata": {
        "id": "0bcb26a4",
        "colab": {
          "base_uri": "https://localhost:8080/"
        },
        "outputId": "52127660-df0a-4cd5-8649-1e02f45cd9fc",
        "source_hash": null,
        "execution_start": 1694066541129,
        "execution_millis": 25,
        "deepnote_to_be_reexecuted": false,
        "cell_id": "13ce312483ea4a6c8a8f0a39c93d44c4",
        "deepnote_cell_type": "code"
      },
      "outputs": [
        {
          "output_type": "execute_result",
          "execution_count": 21,
          "data": {
            "text/plain": "(45673, 3)"
          },
          "metadata": {}
        }
      ],
      "execution_count": null,
      "block_group": "a89f4e7e5d574c7e9958b77e07408409"
    },
    {
      "cell_type": "code",
      "source": "# perform groupby \nproduct_to_feature=product_to_feature.groupby(['Product Name','Customer Segment']).agg({'Quantity':'sum'}).reset_index()",
      "metadata": {
        "id": "9981a526",
        "source_hash": null,
        "execution_start": 1694066541130,
        "execution_millis": 80,
        "deepnote_to_be_reexecuted": false,
        "cell_id": "facb37087b0941b7a04c5abcfe2af1b1",
        "deepnote_cell_type": "code"
      },
      "outputs": [],
      "execution_count": null,
      "block_group": "1ff4b9dd64c04800b1bd49c268eac2b4"
    },
    {
      "cell_type": "code",
      "source": "product_to_feature.head()",
      "metadata": {
        "id": "989721b0",
        "colab": {
          "height": 206,
          "base_uri": "https://localhost:8080/"
        },
        "outputId": "6d873f70-5c7a-4be5-c9fe-c9f1de8151de",
        "source_hash": null,
        "execution_start": 1694066541257,
        "execution_millis": 237,
        "deepnote_to_be_reexecuted": false,
        "cell_id": "eb4172791d5a4813871b2979b93cd642",
        "deepnote_cell_type": "code"
      },
      "outputs": [
        {
          "output_type": "execute_result",
          "execution_count": 23,
          "data": {
            "application/vnd.deepnote.dataframe.v3+json": {
              "column_count": 3,
              "row_count": 5,
              "columns": [
                {
                  "name": "Product Name",
                  "dtype": "object",
                  "stats": {
                    "unique_count": 2,
                    "nan_count": 0,
                    "categories": [
                      {
                        "name": "\"In Vinyl W.e Trust\" Rasta Quote Men's T-shirt",
                        "count": 3
                      },
                      {
                        "name": "\"Soccer\" Vinyl Graphic - Large - Ivory",
                        "count": 2
                      }
                    ]
                  }
                },
                {
                  "name": "Customer Segment",
                  "dtype": "object",
                  "stats": {
                    "unique_count": 3,
                    "nan_count": 0,
                    "categories": [
                      {
                        "name": "Corporate",
                        "count": 2
                      },
                      {
                        "name": "Middle class",
                        "count": 2
                      },
                      {
                        "name": "Small Business",
                        "count": 1
                      }
                    ]
                  }
                },
                {
                  "name": "Quantity",
                  "dtype": "int64",
                  "stats": {
                    "unique_count": 5,
                    "nan_count": 0,
                    "min": "272",
                    "max": "1940",
                    "histogram": [
                      {
                        "bin_start": 272,
                        "bin_end": 438.8,
                        "count": 2
                      },
                      {
                        "bin_start": 438.8,
                        "bin_end": 605.6,
                        "count": 0
                      },
                      {
                        "bin_start": 605.6,
                        "bin_end": 772.4000000000001,
                        "count": 1
                      },
                      {
                        "bin_start": 772.4000000000001,
                        "bin_end": 939.2,
                        "count": 0
                      },
                      {
                        "bin_start": 939.2,
                        "bin_end": 1106,
                        "count": 0
                      },
                      {
                        "bin_start": 1106,
                        "bin_end": 1272.8000000000002,
                        "count": 0
                      },
                      {
                        "bin_start": 1272.8000000000002,
                        "bin_end": 1439.6000000000001,
                        "count": 1
                      },
                      {
                        "bin_start": 1439.6000000000001,
                        "bin_end": 1606.4,
                        "count": 0
                      },
                      {
                        "bin_start": 1606.4,
                        "bin_end": 1773.2,
                        "count": 0
                      },
                      {
                        "bin_start": 1773.2,
                        "bin_end": 1940,
                        "count": 1
                      }
                    ]
                  }
                },
                {
                  "name": "_deepnote_index_column",
                  "dtype": "int64"
                }
              ],
              "rows": [
                {
                  "Product Name": "\"In Vinyl W.e Trust\" Rasta Quote Men's T-shirt",
                  "Customer Segment": "Corporate",
                  "Quantity": 712,
                  "_deepnote_index_column": 0
                },
                {
                  "Product Name": "\"In Vinyl W.e Trust\" Rasta Quote Men's T-shirt",
                  "Customer Segment": "Middle class",
                  "Quantity": 272,
                  "_deepnote_index_column": 1
                },
                {
                  "Product Name": "\"In Vinyl W.e Trust\" Rasta Quote Men's T-shirt",
                  "Customer Segment": "Small Business",
                  "Quantity": 388,
                  "_deepnote_index_column": 2
                },
                {
                  "Product Name": "\"Soccer\" Vinyl Graphic - Large - Ivory",
                  "Customer Segment": "Corporate",
                  "Quantity": 1940,
                  "_deepnote_index_column": 3
                },
                {
                  "Product Name": "\"Soccer\" Vinyl Graphic - Large - Ivory",
                  "Customer Segment": "Middle class",
                  "Quantity": 1418,
                  "_deepnote_index_column": 4
                }
              ]
            },
            "text/plain": "                                     Product Name Customer Segment  Quantity\n0  \"In Vinyl W.e Trust\" Rasta Quote Men's T-shirt        Corporate       712\n1  \"In Vinyl W.e Trust\" Rasta Quote Men's T-shirt     Middle class       272\n2  \"In Vinyl W.e Trust\" Rasta Quote Men's T-shirt   Small Business       388\n3          \"Soccer\" Vinyl Graphic - Large - Ivory        Corporate      1940\n4          \"Soccer\" Vinyl Graphic - Large - Ivory     Middle class      1418",
            "text/html": "<div>\n<style scoped>\n    .dataframe tbody tr th:only-of-type {\n        vertical-align: middle;\n    }\n\n    .dataframe tbody tr th {\n        vertical-align: top;\n    }\n\n    .dataframe thead th {\n        text-align: right;\n    }\n</style>\n<table border=\"1\" class=\"dataframe\">\n  <thead>\n    <tr style=\"text-align: right;\">\n      <th></th>\n      <th>Product Name</th>\n      <th>Customer Segment</th>\n      <th>Quantity</th>\n    </tr>\n  </thead>\n  <tbody>\n    <tr>\n      <th>0</th>\n      <td>\"In Vinyl W.e Trust\" Rasta Quote Men's T-shirt</td>\n      <td>Corporate</td>\n      <td>712</td>\n    </tr>\n    <tr>\n      <th>1</th>\n      <td>\"In Vinyl W.e Trust\" Rasta Quote Men's T-shirt</td>\n      <td>Middle class</td>\n      <td>272</td>\n    </tr>\n    <tr>\n      <th>2</th>\n      <td>\"In Vinyl W.e Trust\" Rasta Quote Men's T-shirt</td>\n      <td>Small Business</td>\n      <td>388</td>\n    </tr>\n    <tr>\n      <th>3</th>\n      <td>\"Soccer\" Vinyl Graphic - Large - Ivory</td>\n      <td>Corporate</td>\n      <td>1940</td>\n    </tr>\n    <tr>\n      <th>4</th>\n      <td>\"Soccer\" Vinyl Graphic - Large - Ivory</td>\n      <td>Middle class</td>\n      <td>1418</td>\n    </tr>\n  </tbody>\n</table>\n</div>"
          },
          "metadata": {}
        }
      ],
      "execution_count": null,
      "block_group": "8e4dd56b0a374d45b222f20a40222523"
    },
    {
      "cell_type": "code",
      "source": "# create a function for interactions\ndef interactions(data, row, col, value, row_map, col_map):\n    \n    row = data[row].apply(lambda x: row_map[x]).values\n    col = data[col].apply(lambda x: col_map[x]).values\n    value = data[value].values\n    \n    return coo_matrix((value, (row, col)), shape = (len(row_map), len(col_map)))\n",
      "metadata": {
        "id": "629371dc",
        "source_hash": null,
        "execution_start": 1694066541301,
        "execution_millis": 5,
        "deepnote_to_be_reexecuted": false,
        "cell_id": "20edf68a13e84d0d8155b5f7433619f8",
        "deepnote_cell_type": "code"
      },
      "outputs": [],
      "execution_count": null,
      "block_group": "8a49aa326d1048aa912ee698664bf5ca"
    },
    {
      "cell_type": "code",
      "source": "# generate user_item_interaction_matrix for train data\nuser_to_product_interaction_train = interactions(user_to_product_rating_train, \"CustomerID\", \n                                                    \"Product Name\", \"Quantity\", user_to_index_mapping, item_to_index_mapping)\n\n# generate item_to_feature interaction\nproduct_to_feature_interaction = interactions(product_to_feature, \"Product Name\", \"Customer Segment\",\"Quantity\", \n                                                        item_to_index_mapping, feature_to_index_mapping)",
      "metadata": {
        "id": "46d96f91",
        "source_hash": null,
        "execution_start": 1694066541373,
        "execution_millis": 110,
        "deepnote_to_be_reexecuted": false,
        "cell_id": "0c5a5c592e6a410d8622f9a827adf0df",
        "deepnote_cell_type": "code"
      },
      "outputs": [],
      "execution_count": null,
      "block_group": "6aec0e6da03f4914b6392eb0250fce40"
    },
    {
      "cell_type": "code",
      "source": "# generate user_item_interaction_matrix for test data\nuser_to_product_interaction_test = interactions(user_to_product_rating_test, \"CustomerID\", \n                                                    \"Product Name\", \"Quantity\", user_to_index_mapping, item_to_index_mapping)",
      "metadata": {
        "id": "cf8115fb",
        "source_hash": null,
        "execution_start": 1694066541532,
        "execution_millis": 47,
        "deepnote_to_be_reexecuted": false,
        "cell_id": "e15dad34fffe43c3ad116c845f6d6658",
        "deepnote_cell_type": "code"
      },
      "outputs": [],
      "execution_count": null,
      "block_group": "6eb518d3a74f422ab15ea162df194771"
    },
    {
      "cell_type": "code",
      "source": "user_to_product_interaction_train",
      "metadata": {
        "id": "da26cffb",
        "colab": {
          "base_uri": "https://localhost:8080/"
        },
        "outputId": "9e95573c-4a8d-404a-ab2f-7c10b85b1d7c",
        "source_hash": null,
        "execution_start": 1694066541604,
        "execution_millis": 29,
        "deepnote_to_be_reexecuted": false,
        "cell_id": "c196e73bbd43416eb9ce1a6d758646eb",
        "deepnote_cell_type": "code"
      },
      "outputs": [
        {
          "output_type": "execute_result",
          "execution_count": 27,
          "data": {
            "text/plain": "<3647x797 sparse matrix of type '<class 'numpy.int64'>'\n\twith 92729 stored elements in COOrdinate format>"
          },
          "metadata": {}
        }
      ],
      "execution_count": null,
      "block_group": "eb7044a8966646e890bddb045500c07e"
    },
    {
      "cell_type": "code",
      "source": "user_to_product_interaction_test",
      "metadata": {
        "id": "e729ce20",
        "colab": {
          "base_uri": "https://localhost:8080/"
        },
        "outputId": "7e1109a7-58eb-41f5-922e-ae1cd9993ebe",
        "source_hash": null,
        "execution_start": 1694066541605,
        "execution_millis": 34,
        "deepnote_to_be_reexecuted": false,
        "cell_id": "1c46dd6bf5374962b3be1788feb7b196",
        "deepnote_cell_type": "code"
      },
      "outputs": [
        {
          "output_type": "execute_result",
          "execution_count": 28,
          "data": {
            "text/plain": "<3647x797 sparse matrix of type '<class 'numpy.int64'>'\n\twith 45673 stored elements in COOrdinate format>"
          },
          "metadata": {}
        }
      ],
      "execution_count": null,
      "block_group": "94a606ecb42c4f65aa6a9b87ddfff90b"
    },
    {
      "cell_type": "code",
      "source": "product_to_feature_interaction",
      "metadata": {
        "id": "8a7ed6a5",
        "colab": {
          "base_uri": "https://localhost:8080/"
        },
        "outputId": "1cf50748-3ec6-41f0-a3f9-40880b1fd0a0",
        "source_hash": null,
        "execution_start": 1694066541608,
        "execution_millis": 18,
        "deepnote_to_be_reexecuted": false,
        "cell_id": "06aaea29797b4631b6258e0bf392fbdf",
        "deepnote_cell_type": "code"
      },
      "outputs": [
        {
          "output_type": "execute_result",
          "execution_count": 29,
          "data": {
            "text/plain": "<797x43 sparse matrix of type '<class 'numpy.int64'>'\n\twith 2083 stored elements in COOrdinate format>"
          },
          "metadata": {}
        }
      ],
      "execution_count": null,
      "block_group": "f323e158d6974873bc9bc0464d3f9df1"
    },
    {
      "cell_type": "markdown",
      "source": "#### Model building on training set\nParameters:\nLoss=warp\nepochs=1 \nnum_threads=4",
      "metadata": {
        "id": "9a0b045d",
        "cell_id": "53e92490f7114f79bd80f11a6e42241f",
        "deepnote_cell_type": "markdown"
      },
      "block_group": "412a89442a8d4b4a9a7309735ed14dfc"
    },
    {
      "cell_type": "code",
      "source": "# initialising model with warp loss function\nmodel_with_features = LightFM(loss = \"warp\")\n\n# fitting the model with hybrid collaborative filtering + content based (product + features)\nstart = time.time()\n#===================\n\n\nmodel_with_features.fit_partial(user_to_product_interaction_train,\n          user_features=None, \n          item_features=product_to_feature_interaction, \n          sample_weight=None, \n          epochs=1, \n          num_threads=4,\n          verbose=False)\n\n#===================\nend = time.time()\nprint(\"time taken = {0:.{1}f} seconds\".format(end - start, 2))",
      "metadata": {
        "id": "02696edb",
        "colab": {
          "base_uri": "https://localhost:8080/"
        },
        "outputId": "e697c22b-2b92-4433-cdee-739034b1e3a4",
        "source_hash": null,
        "execution_start": 1694066541676,
        "execution_millis": 645,
        "deepnote_to_be_reexecuted": false,
        "cell_id": "3e0d8260faf144ee83844be72197a2b5",
        "deepnote_cell_type": "code"
      },
      "outputs": [
        {
          "name": "stdout",
          "text": "time taken = 0.62 seconds\n",
          "output_type": "stream"
        }
      ],
      "execution_count": null,
      "block_group": "081517f2c3cf42c1ac8aa61e0e95fffe"
    },
    {
      "cell_type": "code",
      "source": "start = time.time()\n#===================\nauc_with_features = auc_score(model = model_with_features, \n                        test_interactions = user_to_product_interaction_test,\n                        train_interactions = user_to_product_interaction_train, \n                        item_features = product_to_feature_interaction,\n                        num_threads = 4, check_intersections=False)\n#===================\nend = time.time()\nprint(\"time taken = {0:.{1}f} seconds\".format(end - start, 2))\n\nprint(\"average AUC without adding item-feature interaction = {0:.{1}f}\".format(auc_with_features.mean(), 2))\n\n",
      "metadata": {
        "id": "f13d7017",
        "colab": {
          "base_uri": "https://localhost:8080/"
        },
        "outputId": "ef82f257-e9b0-49cd-b424-93dbab01f715",
        "source_hash": null,
        "execution_start": 1694066542313,
        "execution_millis": 383,
        "deepnote_to_be_reexecuted": false,
        "cell_id": "c866425cfb744605a2513bdf90704dbb",
        "deepnote_cell_type": "code"
      },
      "outputs": [
        {
          "name": "stdout",
          "text": "time taken = 0.37 seconds\naverage AUC without adding item-feature interaction = 0.16\n",
          "output_type": "stream"
        }
      ],
      "execution_count": null,
      "block_group": "b8906970c7c84d31b3c985c1f7a68b72"
    },
    {
      "cell_type": "markdown",
      "source": "#### Model building on training set\nParameters:\nLoss=logistic\nepochs=1 \nnum_threads=4",
      "metadata": {
        "id": "4ac52c8c",
        "cell_id": "407a6b615ef447f38e082847231b1007",
        "deepnote_cell_type": "markdown"
      },
      "block_group": "81565501791a460fbd863741bdba9123"
    },
    {
      "cell_type": "code",
      "source": "# initialising model with warp loss function\nmodel_with_features = LightFM(loss = \"logistic\")\n\n# fitting the model with hybrid collaborative filtering + content based (product + features)\nstart = time.time()\n#===================\n\n\nmodel_with_features.fit_partial(user_to_product_interaction_train,\n          user_features=None, \n          item_features=product_to_feature_interaction, \n          sample_weight=None, \n          epochs=1, \n          num_threads=4,\n          verbose=False)\n\n#===================\nend = time.time()\nprint(\"time taken = {0:.{1}f} seconds\".format(end - start, 2))",
      "metadata": {
        "id": "720ca625",
        "colab": {
          "base_uri": "https://localhost:8080/"
        },
        "outputId": "5434c0e3-efa8-4da0-c9a6-76818828e574",
        "source_hash": null,
        "execution_start": 1694066542691,
        "execution_millis": 384,
        "deepnote_to_be_reexecuted": false,
        "cell_id": "b4aa18c850de4103bd68bfec3a137fc2",
        "deepnote_cell_type": "code"
      },
      "outputs": [
        {
          "name": "stdout",
          "text": "time taken = 0.31 seconds\n",
          "output_type": "stream"
        }
      ],
      "execution_count": null,
      "block_group": "53414188c1f74624b9f66500381a99b5"
    },
    {
      "cell_type": "code",
      "source": "start = time.time()\n#===================\nauc_with_features = auc_score(model = model_with_features, \n                        test_interactions = user_to_product_interaction_test,\n                        train_interactions = user_to_product_interaction_train, \n                        item_features = product_to_feature_interaction,\n                        num_threads = 4, check_intersections=False)\n#===================\nend = time.time()\nprint(\"time taken = {0:.{1}f} seconds\".format(end - start, 2))\n\nprint(\"average AUC without adding item-feature interaction = {0:.{1}f}\".format(auc_with_features.mean(), 2))\n",
      "metadata": {
        "id": "32bb9e19",
        "colab": {
          "base_uri": "https://localhost:8080/"
        },
        "outputId": "38e6772b-dfe6-420b-e19a-7e80828da2f9",
        "source_hash": null,
        "execution_start": 1694066543088,
        "execution_millis": 322,
        "deepnote_to_be_reexecuted": false,
        "cell_id": "57124a6fded943b7bb3dbc904dcf465f",
        "deepnote_cell_type": "code"
      },
      "outputs": [
        {
          "name": "stdout",
          "text": "time taken = 0.31 seconds\naverage AUC without adding item-feature interaction = 0.89\n",
          "output_type": "stream"
        }
      ],
      "execution_count": null,
      "block_group": "f00268254c81489bb724cd1245d66e25"
    },
    {
      "cell_type": "markdown",
      "source": "#### Model building on training set\nParameters:\nLoss=bpr\nepochs=1 \nnum_threads=4",
      "metadata": {
        "id": "24c99ac5",
        "cell_id": "8806352c63dc4eefa35782a24c1cdfb8",
        "deepnote_cell_type": "markdown"
      },
      "block_group": "eae3c5b93b8345f7927682801bb91a09"
    },
    {
      "cell_type": "code",
      "source": "# initialising model with warp loss function\nmodel_with_features = LightFM(loss = \"bpr\")\n\n# fitting the model with hybrid collaborative filtering + content based (product + features)\nstart = time.time()\n#===================\n\n\nmodel_with_features.fit_partial(user_to_product_interaction_train,\n          user_features=None, \n          item_features=product_to_feature_interaction, \n          sample_weight=None, \n          epochs=1, \n          num_threads=4,\n          verbose=False)\n\n#===================\nend = time.time()\nprint(\"time taken = {0:.{1}f} seconds\".format(end - start, 2))",
      "metadata": {
        "id": "ae48a568",
        "colab": {
          "base_uri": "https://localhost:8080/"
        },
        "outputId": "06b3fc69-bd3f-4212-b60a-d3548e7e79fc",
        "source_hash": null,
        "execution_start": 1694066543409,
        "execution_millis": 696,
        "deepnote_to_be_reexecuted": false,
        "cell_id": "914a1dde0c014b9f99fc3c1efa76d3b3",
        "deepnote_cell_type": "code"
      },
      "outputs": [
        {
          "name": "stdout",
          "text": "time taken = 0.68 seconds\n",
          "output_type": "stream"
        }
      ],
      "execution_count": null,
      "block_group": "80a442a74bea42d9a60a205b741c7458"
    },
    {
      "cell_type": "code",
      "source": "start = time.time()\n#===================\nauc_with_features = auc_score(model = model_with_features, \n                        test_interactions = user_to_product_interaction_test,\n                        train_interactions = user_to_product_interaction_train, \n                        item_features = product_to_feature_interaction,\n                        num_threads = 4, check_intersections=False)\n#===================\nend = time.time()\nprint(\"time taken = {0:.{1}f} seconds\".format(end - start, 2))\n\nprint(\"average AUC without adding item-feature interaction = {0:.{1}f}\".format(auc_with_features.mean(), 2))\n",
      "metadata": {
        "id": "6991ff7a",
        "colab": {
          "base_uri": "https://localhost:8080/"
        },
        "outputId": "e413b42a-98f8-4d0b-d57f-9898e82ab222",
        "source_hash": null,
        "execution_start": 1694066544102,
        "execution_millis": 312,
        "deepnote_to_be_reexecuted": false,
        "cell_id": "dbc64a08681148fb89653d16742f47d7",
        "deepnote_cell_type": "code"
      },
      "outputs": [
        {
          "name": "stdout",
          "text": "time taken = 0.30 seconds\naverage AUC without adding item-feature interaction = 0.87\n",
          "output_type": "stream"
        }
      ],
      "execution_count": null,
      "block_group": "30baff3ac2b24a8caee88b10a7e6251e"
    },
    {
      "cell_type": "markdown",
      "source": "#### Model building on training set\nParameters:\nLoss=logistic\nepochs=10 \nnum_threads=20",
      "metadata": {
        "id": "32dc84b1",
        "cell_id": "e9b7589b504b4d6d85a1cc61a29ffb19",
        "deepnote_cell_type": "markdown"
      },
      "block_group": "48c140b4774946d9aa04afeb7a5db2a8"
    },
    {
      "cell_type": "code",
      "source": "model_with_features = LightFM(loss = \"logistic\")\n\n# fitting the model with hybrid collaborative filtering + content based (product + features)\nstart = time.time()\n#===================\n\n\nmodel_with_features.fit_partial(user_to_product_interaction_train,\n          user_features=None, \n          item_features=product_to_feature_interaction, \n          sample_weight=None, \n          epochs=10, \n          num_threads=20,\n          verbose=False)\n\n#===================\nend = time.time()\nprint(\"time taken = {0:.{1}f} seconds\".format(end - start, 2))",
      "metadata": {
        "id": "387fd6ae",
        "colab": {
          "base_uri": "https://localhost:8080/"
        },
        "outputId": "2dfbea67-1f9a-41a8-e2ec-ffeef06c38b2",
        "source_hash": null,
        "execution_start": 1694066544486,
        "execution_millis": 4709,
        "deepnote_to_be_reexecuted": false,
        "cell_id": "06b6f8b63f7c4cc7a517248e6604b4cb",
        "deepnote_cell_type": "code"
      },
      "outputs": [
        {
          "name": "stdout",
          "text": "time taken = 4.69 seconds\n",
          "output_type": "stream"
        }
      ],
      "execution_count": null,
      "block_group": "2a2d59241ced43918e5b6493650394a7"
    },
    {
      "cell_type": "code",
      "source": "start = time.time()\n#===================\nauc_with_features = auc_score(model = model_with_features, \n                        test_interactions = user_to_product_interaction_test,\n                        train_interactions = user_to_product_interaction_train, \n                        item_features = product_to_feature_interaction,\n                        num_threads = 4, check_intersections=False)\n#===================\nend = time.time()\nprint(\"time taken = {0:.{1}f} seconds\".format(end - start, 2))\n\nprint(\"average AUC without adding item-feature interaction = {0:.{1}f}\".format(auc_with_features.mean(), 2))\n",
      "metadata": {
        "id": "d89c0f34",
        "colab": {
          "base_uri": "https://localhost:8080/"
        },
        "outputId": "95d28fee-eea9-43e2-bfc6-948508ba13b6",
        "source_hash": null,
        "execution_start": 1694066549197,
        "execution_millis": 321,
        "deepnote_to_be_reexecuted": false,
        "cell_id": "7eb1a61c347243d08709cd4bae681a46",
        "deepnote_cell_type": "code"
      },
      "outputs": [
        {
          "name": "stdout",
          "text": "time taken = 0.31 seconds\naverage AUC without adding item-feature interaction = 0.89\n",
          "output_type": "stream"
        }
      ],
      "execution_count": null,
      "block_group": "b6a8c8ac48f8478ea7c51fd03be49c43"
    },
    {
      "cell_type": "code",
      "source": "def train_test_merge(training_data, testing_data):\n    \n    # initialising train dict\n    train_dict = {}\n    for row, col, data in zip(training_data.row, training_data.col, training_data.data):\n        train_dict[(row, col)] = data\n        \n    # replacing with the test set\n    \n    for row, col, data in zip(testing_data.row, testing_data.col, testing_data.data):\n        train_dict[(row, col)] = max(data, train_dict.get((row, col), 0))\n        \n    \n    # converting to the row\n    row_list = []\n    col_list = []\n    data_list = []\n    for row, col in train_dict:\n        row_list.append(row)\n        col_list.append(col)\n        data_list.append(train_dict[(row, col)])\n        \n    # converting to np array\n    \n    row_list = np.array(row_list)\n    col_list = np.array(col_list)\n    data_list = np.array(data_list)\n    \n    return coo_matrix((data_list, (row_list, col_list)), shape = (training_data.shape[0], training_data.shape[1]))",
      "metadata": {
        "id": "cece8b49",
        "source_hash": null,
        "execution_start": 1694066549584,
        "execution_millis": 8,
        "deepnote_to_be_reexecuted": false,
        "cell_id": "b3e0b41d7905421d8062bf3bdf21a7c8",
        "deepnote_cell_type": "code"
      },
      "outputs": [],
      "execution_count": null,
      "block_group": "5ed592e57f4446358137084560cc9551"
    },
    {
      "cell_type": "code",
      "source": "user_to_product_interaction = train_test_merge(user_to_product_interaction_train, \n                                                 user_to_product_interaction_test)",
      "metadata": {
        "id": "0e755c56",
        "source_hash": null,
        "execution_start": 1694066549630,
        "execution_millis": 240,
        "deepnote_to_be_reexecuted": false,
        "cell_id": "98a166f9239f4fa28bd769184f6975f7",
        "deepnote_cell_type": "code"
      },
      "outputs": [],
      "execution_count": null,
      "block_group": "a213ffdc203b4095844ea8389689f702"
    },
    {
      "cell_type": "code",
      "source": "user_to_product_interaction",
      "metadata": {
        "id": "046c7fdb",
        "colab": {
          "base_uri": "https://localhost:8080/"
        },
        "outputId": "cafa4f9c-c17f-451b-a378-c405e80dfef5",
        "source_hash": null,
        "execution_start": 1694066549879,
        "execution_millis": 26,
        "deepnote_to_be_reexecuted": false,
        "cell_id": "f0439bcc562645fb9aef4f789ee11ee8",
        "deepnote_cell_type": "code"
      },
      "outputs": [
        {
          "output_type": "execute_result",
          "execution_count": 40,
          "data": {
            "text/plain": "<3647x797 sparse matrix of type '<class 'numpy.float64'>'\n\twith 138402 stored elements in COOrdinate format>"
          },
          "metadata": {}
        }
      ],
      "execution_count": null,
      "block_group": "7a1231fd761b49cbad24e383b98bfa92"
    },
    {
      "cell_type": "markdown",
      "source": "#### Final Model after combining the train and test data\nParameters:\nLoss=warp\nepochs=10 \nnum_threads=20",
      "metadata": {
        "id": "013c3c84",
        "cell_id": "bb683353d86a4c68ae04b5e1be1a323f",
        "deepnote_cell_type": "markdown"
      },
      "block_group": "1c6c5ef9fd274c178af3ee17c3d8c35c"
    },
    {
      "cell_type": "code",
      "source": "# retraining the final model with combined dataset\n\nfinal_model = LightFM(loss = \"logistic\",no_components=30)\n\n# fitting to combined dataset\n\nstart = time.time()\n#===================\n\nfinal_model.fit(user_to_product_interaction,\n          user_features=None, \n          item_features=product_to_feature_interaction, \n          sample_weight=None, \n          epochs=10, \n          num_threads=20,\n          verbose=False)\n\n#===================\nend = time.time()\nprint(\"time taken = {0:.{1}f} seconds\".format(end - start, 2))",
      "metadata": {
        "id": "3cd913ce",
        "colab": {
          "base_uri": "https://localhost:8080/"
        },
        "outputId": "93c256ae-3903-49f2-b846-0041661c54f7",
        "source_hash": null,
        "execution_start": 1694066549895,
        "execution_millis": 12720,
        "deepnote_to_be_reexecuted": false,
        "cell_id": "5c77bc92752a4e02bfc6f04c5dac53da",
        "deepnote_cell_type": "code"
      },
      "outputs": [
        {
          "name": "stdout",
          "text": "time taken = 12.70 seconds\n",
          "output_type": "stream"
        }
      ],
      "execution_count": null,
      "block_group": "61b48e4387e44b9f9cf50491008c1224"
    },
    {
      "cell_type": "code",
      "source": "def get_recommendations(model,user,items,user_to_product_interaction_matrix,user2index_map,product_to_feature_interaction_matrix):\n    \n    # getting the userindex\n        \n        userindex = user2index_map.get(user, None)\n        \n        if userindex == None:\n            return None\n        \n        users = userindex\n        \n        # products already bought\n        \n        known_positives = items[user_to_product_interaction_matrix.tocsr()[userindex].indices]\n        print('User index =',users)\n        \n        # scores from model prediction\n        scores = model.predict(user_ids = users, item_ids = np.arange(user_to_product_interaction_matrix.shape[1]),item_features=product_to_feature_interaction_matrix)\n        \n        # top items\n        \n        top_items = items[np.argsort(-scores)]\n        \n        # printing out the result\n        print(\"User %s\" % user)\n        print(\"     Known positives:\")  # already known products\n        \n        for x in known_positives[:10]:\n            print(\"                  %s\" % x)\n            \n            \n        print(\"     Recommended:\")  # products that are reccommended to the user\n        \n        for x in top_items[:10]:\n            print(\"                  %s\" % x)\n    ",
      "metadata": {
        "id": "49a85858",
        "source_hash": null,
        "execution_start": 1694066562687,
        "execution_millis": 8,
        "deepnote_to_be_reexecuted": false,
        "cell_id": "45dde36c7f424b538f397c53eee2d91a",
        "deepnote_cell_type": "code"
      },
      "outputs": [],
      "execution_count": null,
      "block_group": "278baaf85aa24aa7a9c2e83771e02a8c"
    },
    {
      "cell_type": "code",
      "source": "# check for the reccomendation\nget_recommendations(final_model,17017,items,user_to_product_interaction,user_to_index_mapping,product_to_feature_interaction)",
      "metadata": {
        "id": "6026fd51",
        "colab": {
          "base_uri": "https://localhost:8080/"
        },
        "outputId": "4b3a610a-eaed-4949-880c-c0e9babf6a34",
        "source_hash": null,
        "execution_start": 1694066562697,
        "execution_millis": 329,
        "deepnote_to_be_reexecuted": false,
        "cell_id": "2d4696bef3094f46a3c931f4e2fceced",
        "deepnote_cell_type": "code"
      },
      "outputs": [
        {
          "name": "stdout",
          "text": "User index = 2888\nUser 17017\n     Known positives:\n                  Ganma Superheroes Ordinary Life Case For Samsung Galaxy Note 5 Hard Case Cover\n                  MightySkins Skin Decal Wrap Compatible with Nintendo Sticker Protective Cover 100's of Color Options\n                  Mediven Sheer and Soft 15-20 mmHg Thigh w/ Lace Silicone Top Band CT Wheat II - Ankle 8-8.75 inches\n                  MightySkins Skin Decal Wrap Compatible with OtterBox Sticker Protective Cover 100's of Color Options\n                  MightySkins Skin Decal Wrap Compatible with DJI Sticker Protective Cover 100's of Color Options\n                  MightySkins Skin Decal Wrap Compatible with Lenovo Sticker Protective Cover 100's of Color Options\n                  Ebe Reading Glasses Mens Womens Tortoise Bold Rectangular Full Frame Anti Glare grade ckbdp9088\n                  Window Tint Film Chevy (back doors) DIY\n                  Union 3\" Female Ports Stainless Steel Pipe Fitting\n                  Ebe Women Reading Glasses Reader Cheaters Anti Reflective Lenses TR90 ry2209\n     Recommended:\n                  Mediven Sheer and Soft 15-20 mmHg Thigh w/ Lace Silicone Top Band CT Wheat II - Ankle 8-8.75 inches\n                  MightySkins Skin Decal Wrap Compatible with Apple Sticker Protective Cover 100's of Color Options\n                  MightySkins Skin Decal Wrap Compatible with DJI Sticker Protective Cover 100's of Color Options\n                  3 1/2\"W x 20\"D x 20\"H Funston Craftsman Smooth Bracket, Douglas Fir\n                  MightySkins Skin Decal Wrap Compatible with HP Sticker Protective Cover 100's of Color Options\n                  Owlpack Clear Poly Bags with Open End, 1.5 Mil, Perfect for Products, Merchandise, Goody Bags, Party Favors (4x4 inches)\n                  Ebe Women Reading Glasses Reader Cheaters Anti Reflective Lenses TR90 ry2209\n                  Handcrafted Ercolano Music Box Featuring \"Luncheon of the Boating Party\" by Renoir, Pierre Auguste - New YorkNew York\n                  A6 Invitation Envelopes w/Peel & Press (4 3/4 x 6 1/2) - Baby Blue (1000 Qty.)\n                  MightySkins Skin Decal Wrap Compatible with Lenovo Sticker Protective Cover 100's of Color Options\n",
          "output_type": "stream"
        }
      ],
      "execution_count": null,
      "block_group": "3d9aeef80c5e4771b91300834bc88542"
    },
    {
      "cell_type": "code",
      "source": "get_recommendations(final_model,18287,items,user_to_product_interaction,user_to_index_mapping,product_to_feature_interaction)",
      "metadata": {
        "id": "dc4bf26e",
        "colab": {
          "base_uri": "https://localhost:8080/"
        },
        "outputId": "2c05a51b-afca-4fe6-8737-977f07a6e72f",
        "source_hash": null,
        "execution_start": 1694066562723,
        "execution_millis": 296,
        "deepnote_to_be_reexecuted": false,
        "cell_id": "751f231a1f9e43768cadc958b19c3549",
        "deepnote_cell_type": "code"
      },
      "outputs": [
        {
          "name": "stdout",
          "text": "User index = 3646\nUser 18287\n     Known positives:\n                  MightySkins Skin Decal Wrap Compatible with Nintendo Sticker Protective Cover 100's of Color Options\n                  Mediven Sheer and Soft 15-20 mmHg Thigh w/ Lace Silicone Top Band CT Wheat II - Ankle 8-8.75 inches\n                  MightySkins Skin Decal Wrap Compatible with DJI Sticker Protective Cover 100's of Color Options\n                  Union 3\" Female Ports Stainless Steel Pipe Fitting\n                  Ebe Women Reading Glasses Reader Cheaters Anti Reflective Lenses TR90 ry2209\n                  MightySkins Skin Decal Wrap Compatible with Apple Sticker Protective Cover 100's of Color Options\n                  New Way 1120 - Crewneck Your Job Could Be Worse Toilet Paper Sweatshirt 4XL Light Pink\n                  6pc Boy Formal Necktie Black & White Suit Set Satin Bow tie Baby Sm-20 Teen\n                  Buckle-Down PC-W30348-NM Cameroon Flags Plastic Clip Collar\n                  Business Essentials 8\" x 8\" x 5\" Corrugated Mailers, 12-Pack\n     Recommended:\n                  Mediven Sheer and Soft 15-20 mmHg Thigh w/ Lace Silicone Top Band CT Wheat II - Ankle 8-8.75 inches\n                  MightySkins Skin Decal Wrap Compatible with Apple Sticker Protective Cover 100's of Color Options\n                  MightySkins Skin Decal Wrap Compatible with DJI Sticker Protective Cover 100's of Color Options\n                  3 1/2\"W x 20\"D x 20\"H Funston Craftsman Smooth Bracket, Douglas Fir\n                  MightySkins Skin Decal Wrap Compatible with HP Sticker Protective Cover 100's of Color Options\n                  Owlpack Clear Poly Bags with Open End, 1.5 Mil, Perfect for Products, Merchandise, Goody Bags, Party Favors (4x4 inches)\n                  Ebe Women Reading Glasses Reader Cheaters Anti Reflective Lenses TR90 ry2209\n                  Handcrafted Ercolano Music Box Featuring \"Luncheon of the Boating Party\" by Renoir, Pierre Auguste - New YorkNew York\n                  A6 Invitation Envelopes w/Peel & Press (4 3/4 x 6 1/2) - Baby Blue (1000 Qty.)\n                  MightySkins Skin Decal Wrap Compatible with Lenovo Sticker Protective Cover 100's of Color Options\n",
          "output_type": "stream"
        }
      ],
      "execution_count": null,
      "block_group": "c1d55fe22faf4c2aabc3b236e72785e8"
    },
    {
      "cell_type": "code",
      "source": "get_recommendations(final_model,13933,items,user_to_product_interaction,user_to_index_mapping,product_to_feature_interaction)",
      "metadata": {
        "id": "4da6cedf",
        "colab": {
          "base_uri": "https://localhost:8080/"
        },
        "outputId": "adac7c0f-3e6e-4aeb-9eec-a6a3717e8d1f",
        "source_hash": null,
        "execution_start": 1694066562785,
        "execution_millis": 299,
        "deepnote_to_be_reexecuted": false,
        "cell_id": "88069f0f785f4d308dc8e8a9fea77fa9",
        "deepnote_cell_type": "code"
      },
      "outputs": [
        {
          "name": "stdout",
          "text": "User index = 1000\nUser 13933\n     Known positives:\n                  MightySkins Skin Decal Wrap Compatible with DJI Sticker Protective Cover 100's of Color Options\n                  Ebe Women Reading Glasses Reader Cheaters Anti Reflective Lenses TR90 ry2209\n                  MightySkins Skin Decal Wrap Compatible with Smok Sticker Protective Cover 100's of Color Options\n                  3 1/2\"W x 20\"D x 20\"H Funston Craftsman Smooth Bracket, Douglas Fir\n                  Ebe Reading Glasses Mens Womens Blue Silver Temples Anti Glare remarkable grade ckb8147\n                  Port Authority J335 Hooded Core Soft Shell Jacket, Dress Blue Navy/ Battleship Grey, XS\n                  Buckle-Down PC-W30348-NM Cameroon Flags Plastic Clip Collar\n                  Business Essentials 8\" x 8\" x 5\" Corrugated Mailers, 12-Pack\n                  6 1/4 x 6 1/4 Gatefold Invitation - Mandarin Orange (500 Qty.)\n                  Awkward Styles Sugar Skull Shirts for Men Jolly Roger Skull and Crossbones Men's Tee Shirt Tops Day of Dead Tshirts Pirate Flag Shirts Skull T-shirts Dia de Los Muertos T Shirts for Men\n     Recommended:\n                  Mediven Sheer and Soft 15-20 mmHg Thigh w/ Lace Silicone Top Band CT Wheat II - Ankle 8-8.75 inches\n                  MightySkins Skin Decal Wrap Compatible with Apple Sticker Protective Cover 100's of Color Options\n                  MightySkins Skin Decal Wrap Compatible with DJI Sticker Protective Cover 100's of Color Options\n                  3 1/2\"W x 20\"D x 20\"H Funston Craftsman Smooth Bracket, Douglas Fir\n                  MightySkins Skin Decal Wrap Compatible with HP Sticker Protective Cover 100's of Color Options\n                  Owlpack Clear Poly Bags with Open End, 1.5 Mil, Perfect for Products, Merchandise, Goody Bags, Party Favors (4x4 inches)\n                  Ebe Women Reading Glasses Reader Cheaters Anti Reflective Lenses TR90 ry2209\n                  Handcrafted Ercolano Music Box Featuring \"Luncheon of the Boating Party\" by Renoir, Pierre Auguste - New YorkNew York\n                  A6 Invitation Envelopes w/Peel & Press (4 3/4 x 6 1/2) - Baby Blue (1000 Qty.)\n                  MightySkins Skin Decal Wrap Compatible with Lenovo Sticker Protective Cover 100's of Color Options\n",
          "output_type": "stream"
        }
      ],
      "execution_count": null,
      "block_group": "ac16f965e5cf4a358002969ef8eefad7"
    },
    {
      "cell_type": "markdown",
      "source": "Conclusion:",
      "metadata": {
        "formattedRanges": [
          {
            "type": "marks",
            "marks": {
              "bold": true
            },
            "toCodePoint": 11,
            "fromCodePoint": 0
          }
        ],
        "cell_id": "32de4eca47af4c019a5d745448e28eb2",
        "deepnote_cell_type": "text-cell-p"
      },
      "block_group": "32de4eca47af4c019a5d745448e28eb2"
    },
    {
      "cell_type": "markdown",
      "source": "Achieving an average AUC of 0.89 underscores the robust performance of the hybrid recommender system in effectively ranking recommendations. Exploring item-feature interactions may offer opportunities for further optimization in pursuit of even more precise and personalized recommendations.",
      "metadata": {
        "formattedRanges": [],
        "cell_id": "b9bedf94ba8947d997393da7f69b02a3",
        "deepnote_cell_type": "text-cell-p"
      },
      "block_group": "5f7c2aad4caa487cb65c132a6e4c3ce9"
    },
    {
      "cell_type": "markdown",
      "source": "<a style='text-decoration:none;line-height:16px;display:flex;color:#5B5B62;padding:10px;justify-content:end;' href='https://deepnote.com?utm_source=created-in-deepnote-cell&projectId=a5606da8-b31c-4b38-863d-b44a2703d3f9' target=\"_blank\">\n<img alt='Created in deepnote.com' style='display:inline;max-height:16px;margin:0px;margin-right:7.5px;' src='data:image/svg+xml;base64,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' > </img>\nCreated in <span style='font-weight:600;margin-left:4px;'>Deepnote</span></a>",
      "metadata": {
        "created_in_deepnote_cell": true,
        "deepnote_cell_type": "markdown"
      }
    }
  ],
  "nbformat": 4,
  "nbformat_minor": 0,
  "metadata": {
    "colab": {
      "name": "Rec Sys Part 5_Hybrid.ipynb",
      "provenance": [],
      "collapsed_sections": [
        "fc239912",
        "ff34f6e9",
        "eb338027",
        "7c8839f4",
        "9a0b045d",
        "4ac52c8c",
        "24c99ac5",
        "32dc84b1",
        "013c3c84"
      ]
    },
    "deepnote": {},
    "kernelspec": {
      "name": "python3",
      "language": "python",
      "display_name": "Python 3"
    },
    "language_info": {
      "name": "python",
      "version": "3.8.8",
      "mimetype": "text/x-python",
      "file_extension": ".py",
      "pygments_lexer": "ipython3",
      "codemirror_mode": {
        "name": "ipython",
        "version": 3
      },
      "nbconvert_exporter": "python"
    },
    "deepnote_notebook_id": "9c3d2feca5bd4219bd4e9a22b44a8260",
    "deepnote_execution_queue": []
  }
}